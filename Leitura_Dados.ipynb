{
 "cells": [
  {
   "cell_type": "markdown",
   "metadata": {},
   "source": [
    "# Projeto 3\n",
    "\n",
    "Dados Happiness Alcohol Consumption"
   ]
  },
  {
   "cell_type": "markdown",
   "metadata": {},
   "source": [
    "Pergunta: Qual a relação do PIB com o consumo de álcool e a felicidade?"
   ]
  },
  {
   "cell_type": "code",
   "execution_count": 1,
   "metadata": {},
   "outputs": [],
   "source": [
    "%matplotlib inline\n",
    "import numpy as np\n",
    "import pandas as pd\n",
    "import matplotlib\n",
    "import matplotlib.pyplot as plt\n",
    "import seaborn as sns\n",
    "import os\n",
    "from scipy.stats import norm, probplot\n",
    "import statsmodels.api as sm\n",
    "import matplotlib.pyplot as plt\n",
    "from mpl_toolkits.mplot3d import Axes3D\n",
    "import statsmodels.api as sm \n",
    "from scipy import stats"
   ]
  },
  {
   "cell_type": "code",
   "execution_count": 2,
   "metadata": {},
   "outputs": [
    {
     "data": {
      "text/plain": [
       "'C:\\\\Users\\\\Gabi_XPS\\\\OneDrive - Insper - Institudo de Ensino e Pesquisa\\\\INSPER\\\\2 semestre\\\\Ciencias dos Dados\\\\Projeto 3\\\\CD_Projeto3'"
      ]
     },
     "execution_count": 2,
     "metadata": {},
     "output_type": "execute_result"
    }
   ],
   "source": [
    "os.getcwd()"
   ]
  },
  {
   "cell_type": "code",
   "execution_count": 3,
   "metadata": {},
   "outputs": [],
   "source": [
    "dados = pd.read_excel(\"HappinessAlcoholConsumption.xls\")"
   ]
  },
  {
   "cell_type": "code",
   "execution_count": 4,
   "metadata": {
    "scrolled": false
   },
   "outputs": [],
   "source": [
    "#dados"
   ]
  },
  {
   "cell_type": "code",
   "execution_count": 5,
   "metadata": {},
   "outputs": [],
   "source": [
    "dados_indice = dados.set_index(\"Country\")"
   ]
  },
  {
   "cell_type": "code",
   "execution_count": 6,
   "metadata": {},
   "outputs": [],
   "source": [
    "### Função utilitária para fazer a regressão com constante adicionada\n",
    "def regress(X,Y):\n",
    "    X_cp = sm.add_constant(X)\n",
    "    model = sm.OLS(Y,X_cp)\n",
    "    results = model.fit()\n",
    "    return results"
   ]
  },
  {
   "cell_type": "markdown",
   "metadata": {},
   "source": [
    "Apenas com as variáveis quantitativas desse dataset"
   ]
  },
  {
   "cell_type": "code",
   "execution_count": 7,
   "metadata": {},
   "outputs": [
    {
     "data": {
      "text/plain": [
       "Index(['Region', 'Hemisphere', 'HappinessScore', 'HDI', 'GDP_PerCapita',\n",
       "       'Beer_PerCapita', 'Spirit_PerCapita', 'Wine_PerCapita'],\n",
       "      dtype='object')"
      ]
     },
     "execution_count": 7,
     "metadata": {},
     "output_type": "execute_result"
    }
   ],
   "source": [
    "dados_indice.columns"
   ]
  },
  {
   "cell_type": "code",
   "execution_count": 8,
   "metadata": {},
   "outputs": [],
   "source": [
    "df = dados_indice[['HappinessScore', 'HDI','GDP_PerCapita', 'Beer_PerCapita', 'Spirit_PerCapita','Wine_PerCapita']]"
   ]
  },
  {
   "cell_type": "code",
   "execution_count": 9,
   "metadata": {
    "scrolled": true
   },
   "outputs": [
    {
     "data": {
      "text/html": [
       "<div>\n",
       "<style scoped>\n",
       "    .dataframe tbody tr th:only-of-type {\n",
       "        vertical-align: middle;\n",
       "    }\n",
       "\n",
       "    .dataframe tbody tr th {\n",
       "        vertical-align: top;\n",
       "    }\n",
       "\n",
       "    .dataframe thead th {\n",
       "        text-align: right;\n",
       "    }\n",
       "</style>\n",
       "<table border=\"1\" class=\"dataframe\">\n",
       "  <thead>\n",
       "    <tr style=\"text-align: right;\">\n",
       "      <th></th>\n",
       "      <th>HappinessScore</th>\n",
       "      <th>HDI</th>\n",
       "      <th>GDP_PerCapita</th>\n",
       "      <th>Beer_PerCapita</th>\n",
       "      <th>Spirit_PerCapita</th>\n",
       "      <th>Wine_PerCapita</th>\n",
       "    </tr>\n",
       "  </thead>\n",
       "  <tbody>\n",
       "    <tr>\n",
       "      <th>count</th>\n",
       "      <td>122.000000</td>\n",
       "      <td>122.000000</td>\n",
       "      <td>122.000000</td>\n",
       "      <td>122.000000</td>\n",
       "      <td>122.000000</td>\n",
       "      <td>122.000000</td>\n",
       "    </tr>\n",
       "    <tr>\n",
       "      <th>mean</th>\n",
       "      <td>5.524828</td>\n",
       "      <td>740.877049</td>\n",
       "      <td>91.482836</td>\n",
       "      <td>137.565574</td>\n",
       "      <td>96.598361</td>\n",
       "      <td>66.598361</td>\n",
       "    </tr>\n",
       "    <tr>\n",
       "      <th>std</th>\n",
       "      <td>1.148736</td>\n",
       "      <td>149.846124</td>\n",
       "      <td>209.577313</td>\n",
       "      <td>104.817353</td>\n",
       "      <td>81.435028</td>\n",
       "      <td>88.121503</td>\n",
       "    </tr>\n",
       "    <tr>\n",
       "      <th>min</th>\n",
       "      <td>3.069000</td>\n",
       "      <td>351.000000</td>\n",
       "      <td>1.029000</td>\n",
       "      <td>1.000000</td>\n",
       "      <td>1.000000</td>\n",
       "      <td>1.000000</td>\n",
       "    </tr>\n",
       "    <tr>\n",
       "      <th>25%</th>\n",
       "      <td>4.528250</td>\n",
       "      <td>663.750000</td>\n",
       "      <td>4.134250</td>\n",
       "      <td>38.250000</td>\n",
       "      <td>25.500000</td>\n",
       "      <td>5.000000</td>\n",
       "    </tr>\n",
       "    <tr>\n",
       "      <th>50%</th>\n",
       "      <td>5.542000</td>\n",
       "      <td>757.500000</td>\n",
       "      <td>12.016000</td>\n",
       "      <td>125.500000</td>\n",
       "      <td>82.500000</td>\n",
       "      <td>16.000000</td>\n",
       "    </tr>\n",
       "    <tr>\n",
       "      <th>75%</th>\n",
       "      <td>6.477000</td>\n",
       "      <td>861.500000</td>\n",
       "      <td>41.990000</td>\n",
       "      <td>224.750000</td>\n",
       "      <td>142.500000</td>\n",
       "      <td>112.750000</td>\n",
       "    </tr>\n",
       "    <tr>\n",
       "      <th>max</th>\n",
       "      <td>7.526000</td>\n",
       "      <td>951.000000</td>\n",
       "      <td>953.000000</td>\n",
       "      <td>376.000000</td>\n",
       "      <td>373.000000</td>\n",
       "      <td>370.000000</td>\n",
       "    </tr>\n",
       "  </tbody>\n",
       "</table>\n",
       "</div>"
      ],
      "text/plain": [
       "       HappinessScore         HDI  GDP_PerCapita  Beer_PerCapita  \\\n",
       "count      122.000000  122.000000     122.000000      122.000000   \n",
       "mean         5.524828  740.877049      91.482836      137.565574   \n",
       "std          1.148736  149.846124     209.577313      104.817353   \n",
       "min          3.069000  351.000000       1.029000        1.000000   \n",
       "25%          4.528250  663.750000       4.134250       38.250000   \n",
       "50%          5.542000  757.500000      12.016000      125.500000   \n",
       "75%          6.477000  861.500000      41.990000      224.750000   \n",
       "max          7.526000  951.000000     953.000000      376.000000   \n",
       "\n",
       "       Spirit_PerCapita  Wine_PerCapita  \n",
       "count        122.000000      122.000000  \n",
       "mean          96.598361       66.598361  \n",
       "std           81.435028       88.121503  \n",
       "min            1.000000        1.000000  \n",
       "25%           25.500000        5.000000  \n",
       "50%           82.500000       16.000000  \n",
       "75%          142.500000      112.750000  \n",
       "max          373.000000      370.000000  "
      ]
     },
     "execution_count": 9,
     "metadata": {},
     "output_type": "execute_result"
    }
   ],
   "source": [
    "df.describe()"
   ]
  },
  {
   "cell_type": "code",
   "execution_count": 10,
   "metadata": {},
   "outputs": [
    {
     "data": {
      "text/plain": [
       "HappinessScore      0\n",
       "HDI                 0\n",
       "GDP_PerCapita       0\n",
       "Beer_PerCapita      0\n",
       "Spirit_PerCapita    0\n",
       "Wine_PerCapita      0\n",
       "dtype: int64"
      ]
     },
     "execution_count": 10,
     "metadata": {},
     "output_type": "execute_result"
    }
   ],
   "source": [
    "np.sum(df.isnull())"
   ]
  },
  {
   "cell_type": "markdown",
   "metadata": {},
   "source": [
    "Ajuste um modelo considerando Indice de Felicidade (HappinessScore) como resposta (dependente) e as demais variáveis da base de dados como explicativas!"
   ]
  },
  {
   "cell_type": "code",
   "execution_count": 11,
   "metadata": {},
   "outputs": [],
   "source": [
    "Y = df['HappinessScore']"
   ]
  },
  {
   "cell_type": "code",
   "execution_count": 12,
   "metadata": {},
   "outputs": [],
   "source": [
    "X = df[['HDI','GDP_PerCapita','Beer_PerCapita','Spirit_PerCapita','Wine_PerCapita']]"
   ]
  },
  {
   "cell_type": "code",
   "execution_count": 13,
   "metadata": {
    "scrolled": false
   },
   "outputs": [
    {
     "name": "stderr",
     "output_type": "stream",
     "text": [
      "C:\\Users\\Gabi_XPS\\Anaconda3\\lib\\site-packages\\numpy\\core\\fromnumeric.py:2389: FutureWarning: Method .ptp is deprecated and will be removed in a future version. Use numpy.ptp instead.\n",
      "  return ptp(axis=axis, out=out, **kwargs)\n"
     ]
    },
    {
     "data": {
      "text/html": [
       "<table class=\"simpletable\">\n",
       "<caption>OLS Regression Results</caption>\n",
       "<tr>\n",
       "  <th>Dep. Variable:</th>     <td>HappinessScore</td>  <th>  R-squared:         </th> <td>   0.677</td>\n",
       "</tr>\n",
       "<tr>\n",
       "  <th>Model:</th>                   <td>OLS</td>       <th>  Adj. R-squared:    </th> <td>   0.663</td>\n",
       "</tr>\n",
       "<tr>\n",
       "  <th>Method:</th>             <td>Least Squares</td>  <th>  F-statistic:       </th> <td>   48.55</td>\n",
       "</tr>\n",
       "<tr>\n",
       "  <th>Date:</th>             <td>Tue, 12 Nov 2019</td> <th>  Prob (F-statistic):</th> <td>7.05e-27</td>\n",
       "</tr>\n",
       "<tr>\n",
       "  <th>Time:</th>                 <td>15:27:08</td>     <th>  Log-Likelihood:    </th> <td> -120.66</td>\n",
       "</tr>\n",
       "<tr>\n",
       "  <th>No. Observations:</th>      <td>   122</td>      <th>  AIC:               </th> <td>   253.3</td>\n",
       "</tr>\n",
       "<tr>\n",
       "  <th>Df Residuals:</th>          <td>   116</td>      <th>  BIC:               </th> <td>   270.1</td>\n",
       "</tr>\n",
       "<tr>\n",
       "  <th>Df Model:</th>              <td>     5</td>      <th>                     </th>     <td> </td>   \n",
       "</tr>\n",
       "<tr>\n",
       "  <th>Covariance Type:</th>      <td>nonrobust</td>    <th>                     </th>     <td> </td>   \n",
       "</tr>\n",
       "</table>\n",
       "<table class=\"simpletable\">\n",
       "<tr>\n",
       "          <td></td>            <th>coef</th>     <th>std err</th>      <th>t</th>      <th>P>|t|</th>  <th>[0.025</th>    <th>0.975]</th>  \n",
       "</tr>\n",
       "<tr>\n",
       "  <th>const</th>            <td>    0.4899</td> <td>    0.461</td> <td>    1.063</td> <td> 0.290</td> <td>   -0.423</td> <td>    1.403</td>\n",
       "</tr>\n",
       "<tr>\n",
       "  <th>HDI</th>              <td>    0.0069</td> <td>    0.001</td> <td>   10.196</td> <td> 0.000</td> <td>    0.006</td> <td>    0.008</td>\n",
       "</tr>\n",
       "<tr>\n",
       "  <th>GDP_PerCapita</th>    <td>    0.0002</td> <td>    0.000</td> <td>    0.672</td> <td> 0.503</td> <td>   -0.000</td> <td>    0.001</td>\n",
       "</tr>\n",
       "<tr>\n",
       "  <th>Beer_PerCapita</th>   <td>    0.0007</td> <td>    0.001</td> <td>    0.912</td> <td> 0.363</td> <td>   -0.001</td> <td>    0.002</td>\n",
       "</tr>\n",
       "<tr>\n",
       "  <th>Spirit_PerCapita</th> <td>   -0.0014</td> <td>    0.001</td> <td>   -1.655</td> <td> 0.101</td> <td>   -0.003</td> <td>    0.000</td>\n",
       "</tr>\n",
       "<tr>\n",
       "  <th>Wine_PerCapita</th>   <td>   -0.0014</td> <td>    0.001</td> <td>   -1.471</td> <td> 0.144</td> <td>   -0.003</td> <td>    0.000</td>\n",
       "</tr>\n",
       "</table>\n",
       "<table class=\"simpletable\">\n",
       "<tr>\n",
       "  <th>Omnibus:</th>       <td> 5.197</td> <th>  Durbin-Watson:     </th> <td>   1.396</td>\n",
       "</tr>\n",
       "<tr>\n",
       "  <th>Prob(Omnibus):</th> <td> 0.074</td> <th>  Jarque-Bera (JB):  </th> <td>   3.098</td>\n",
       "</tr>\n",
       "<tr>\n",
       "  <th>Skew:</th>          <td>-0.185</td> <th>  Prob(JB):          </th> <td>   0.212</td>\n",
       "</tr>\n",
       "<tr>\n",
       "  <th>Kurtosis:</th>      <td> 2.312</td> <th>  Cond. No.          </th> <td>5.98e+03</td>\n",
       "</tr>\n",
       "</table><br/><br/>Warnings:<br/>[1] Standard Errors assume that the covariance matrix of the errors is correctly specified.<br/>[2] The condition number is large, 5.98e+03. This might indicate that there are<br/>strong multicollinearity or other numerical problems."
      ],
      "text/plain": [
       "<class 'statsmodels.iolib.summary.Summary'>\n",
       "\"\"\"\n",
       "                            OLS Regression Results                            \n",
       "==============================================================================\n",
       "Dep. Variable:         HappinessScore   R-squared:                       0.677\n",
       "Model:                            OLS   Adj. R-squared:                  0.663\n",
       "Method:                 Least Squares   F-statistic:                     48.55\n",
       "Date:                Tue, 12 Nov 2019   Prob (F-statistic):           7.05e-27\n",
       "Time:                        15:27:08   Log-Likelihood:                -120.66\n",
       "No. Observations:                 122   AIC:                             253.3\n",
       "Df Residuals:                     116   BIC:                             270.1\n",
       "Df Model:                           5                                         \n",
       "Covariance Type:            nonrobust                                         \n",
       "====================================================================================\n",
       "                       coef    std err          t      P>|t|      [0.025      0.975]\n",
       "------------------------------------------------------------------------------------\n",
       "const                0.4899      0.461      1.063      0.290      -0.423       1.403\n",
       "HDI                  0.0069      0.001     10.196      0.000       0.006       0.008\n",
       "GDP_PerCapita        0.0002      0.000      0.672      0.503      -0.000       0.001\n",
       "Beer_PerCapita       0.0007      0.001      0.912      0.363      -0.001       0.002\n",
       "Spirit_PerCapita    -0.0014      0.001     -1.655      0.101      -0.003       0.000\n",
       "Wine_PerCapita      -0.0014      0.001     -1.471      0.144      -0.003       0.000\n",
       "==============================================================================\n",
       "Omnibus:                        5.197   Durbin-Watson:                   1.396\n",
       "Prob(Omnibus):                  0.074   Jarque-Bera (JB):                3.098\n",
       "Skew:                          -0.185   Prob(JB):                        0.212\n",
       "Kurtosis:                       2.312   Cond. No.                     5.98e+03\n",
       "==============================================================================\n",
       "\n",
       "Warnings:\n",
       "[1] Standard Errors assume that the covariance matrix of the errors is correctly specified.\n",
       "[2] The condition number is large, 5.98e+03. This might indicate that there are\n",
       "strong multicollinearity or other numerical problems.\n",
       "\"\"\""
      ]
     },
     "execution_count": 13,
     "metadata": {},
     "output_type": "execute_result"
    }
   ],
   "source": [
    "results = regress(X,Y)\n",
    "results.summary()"
   ]
  },
  {
   "cell_type": "code",
   "execution_count": 14,
   "metadata": {},
   "outputs": [],
   "source": [
    "X1 = df[['HDI','Spirit_PerCapita','Wine_PerCapita']]"
   ]
  },
  {
   "cell_type": "code",
   "execution_count": 15,
   "metadata": {},
   "outputs": [
    {
     "data": {
      "text/html": [
       "<table class=\"simpletable\">\n",
       "<caption>OLS Regression Results</caption>\n",
       "<tr>\n",
       "  <th>Dep. Variable:</th>     <td>HappinessScore</td>  <th>  R-squared:         </th> <td>   0.673</td>\n",
       "</tr>\n",
       "<tr>\n",
       "  <th>Model:</th>                   <td>OLS</td>       <th>  Adj. R-squared:    </th> <td>   0.665</td>\n",
       "</tr>\n",
       "<tr>\n",
       "  <th>Method:</th>             <td>Least Squares</td>  <th>  F-statistic:       </th> <td>   81.08</td>\n",
       "</tr>\n",
       "<tr>\n",
       "  <th>Date:</th>             <td>Tue, 12 Nov 2019</td> <th>  Prob (F-statistic):</th> <td>1.54e-28</td>\n",
       "</tr>\n",
       "<tr>\n",
       "  <th>Time:</th>                 <td>15:27:09</td>     <th>  Log-Likelihood:    </th> <td> -121.28</td>\n",
       "</tr>\n",
       "<tr>\n",
       "  <th>No. Observations:</th>      <td>   122</td>      <th>  AIC:               </th> <td>   250.6</td>\n",
       "</tr>\n",
       "<tr>\n",
       "  <th>Df Residuals:</th>          <td>   118</td>      <th>  BIC:               </th> <td>   261.8</td>\n",
       "</tr>\n",
       "<tr>\n",
       "  <th>Df Model:</th>              <td>     3</td>      <th>                     </th>     <td> </td>   \n",
       "</tr>\n",
       "<tr>\n",
       "  <th>Covariance Type:</th>      <td>nonrobust</td>    <th>                     </th>     <td> </td>   \n",
       "</tr>\n",
       "</table>\n",
       "<table class=\"simpletable\">\n",
       "<tr>\n",
       "          <td></td>            <th>coef</th>     <th>std err</th>      <th>t</th>      <th>P>|t|</th>  <th>[0.025</th>    <th>0.975]</th>  \n",
       "</tr>\n",
       "<tr>\n",
       "  <th>const</th>            <td>    0.6147</td> <td>    0.357</td> <td>    1.722</td> <td> 0.088</td> <td>   -0.092</td> <td>    1.321</td>\n",
       "</tr>\n",
       "<tr>\n",
       "  <th>HDI</th>              <td>    0.0069</td> <td>    0.001</td> <td>   12.442</td> <td> 0.000</td> <td>    0.006</td> <td>    0.008</td>\n",
       "</tr>\n",
       "<tr>\n",
       "  <th>Spirit_PerCapita</th> <td>   -0.0012</td> <td>    0.001</td> <td>   -1.505</td> <td> 0.135</td> <td>   -0.003</td> <td>    0.000</td>\n",
       "</tr>\n",
       "<tr>\n",
       "  <th>Wine_PerCapita</th>   <td>   -0.0010</td> <td>    0.001</td> <td>   -1.197</td> <td> 0.234</td> <td>   -0.003</td> <td>    0.001</td>\n",
       "</tr>\n",
       "</table>\n",
       "<table class=\"simpletable\">\n",
       "<tr>\n",
       "  <th>Omnibus:</th>       <td> 5.276</td> <th>  Durbin-Watson:     </th> <td>   1.348</td>\n",
       "</tr>\n",
       "<tr>\n",
       "  <th>Prob(Omnibus):</th> <td> 0.072</td> <th>  Jarque-Bera (JB):  </th> <td>   3.230</td>\n",
       "</tr>\n",
       "<tr>\n",
       "  <th>Skew:</th>          <td>-0.205</td> <th>  Prob(JB):          </th> <td>   0.199</td>\n",
       "</tr>\n",
       "<tr>\n",
       "  <th>Kurtosis:</th>      <td> 2.317</td> <th>  Cond. No.          </th> <td>4.54e+03</td>\n",
       "</tr>\n",
       "</table><br/><br/>Warnings:<br/>[1] Standard Errors assume that the covariance matrix of the errors is correctly specified.<br/>[2] The condition number is large, 4.54e+03. This might indicate that there are<br/>strong multicollinearity or other numerical problems."
      ],
      "text/plain": [
       "<class 'statsmodels.iolib.summary.Summary'>\n",
       "\"\"\"\n",
       "                            OLS Regression Results                            \n",
       "==============================================================================\n",
       "Dep. Variable:         HappinessScore   R-squared:                       0.673\n",
       "Model:                            OLS   Adj. R-squared:                  0.665\n",
       "Method:                 Least Squares   F-statistic:                     81.08\n",
       "Date:                Tue, 12 Nov 2019   Prob (F-statistic):           1.54e-28\n",
       "Time:                        15:27:09   Log-Likelihood:                -121.28\n",
       "No. Observations:                 122   AIC:                             250.6\n",
       "Df Residuals:                     118   BIC:                             261.8\n",
       "Df Model:                           3                                         \n",
       "Covariance Type:            nonrobust                                         \n",
       "====================================================================================\n",
       "                       coef    std err          t      P>|t|      [0.025      0.975]\n",
       "------------------------------------------------------------------------------------\n",
       "const                0.6147      0.357      1.722      0.088      -0.092       1.321\n",
       "HDI                  0.0069      0.001     12.442      0.000       0.006       0.008\n",
       "Spirit_PerCapita    -0.0012      0.001     -1.505      0.135      -0.003       0.000\n",
       "Wine_PerCapita      -0.0010      0.001     -1.197      0.234      -0.003       0.001\n",
       "==============================================================================\n",
       "Omnibus:                        5.276   Durbin-Watson:                   1.348\n",
       "Prob(Omnibus):                  0.072   Jarque-Bera (JB):                3.230\n",
       "Skew:                          -0.205   Prob(JB):                        0.199\n",
       "Kurtosis:                       2.317   Cond. No.                     4.54e+03\n",
       "==============================================================================\n",
       "\n",
       "Warnings:\n",
       "[1] Standard Errors assume that the covariance matrix of the errors is correctly specified.\n",
       "[2] The condition number is large, 4.54e+03. This might indicate that there are\n",
       "strong multicollinearity or other numerical problems.\n",
       "\"\"\""
      ]
     },
     "execution_count": 15,
     "metadata": {},
     "output_type": "execute_result"
    }
   ],
   "source": [
    "results = regress(X1,Y)\n",
    "results.summary()"
   ]
  },
  {
   "cell_type": "code",
   "execution_count": 16,
   "metadata": {},
   "outputs": [],
   "source": [
    "X2 = df[['HDI']]"
   ]
  },
  {
   "cell_type": "code",
   "execution_count": 17,
   "metadata": {
    "scrolled": false
   },
   "outputs": [
    {
     "data": {
      "text/html": [
       "<table class=\"simpletable\">\n",
       "<caption>OLS Regression Results</caption>\n",
       "<tr>\n",
       "  <th>Dep. Variable:</th>     <td>HappinessScore</td>  <th>  R-squared:         </th> <td>   0.664</td>\n",
       "</tr>\n",
       "<tr>\n",
       "  <th>Model:</th>                   <td>OLS</td>       <th>  Adj. R-squared:    </th> <td>   0.662</td>\n",
       "</tr>\n",
       "<tr>\n",
       "  <th>Method:</th>             <td>Least Squares</td>  <th>  F-statistic:       </th> <td>   237.7</td>\n",
       "</tr>\n",
       "<tr>\n",
       "  <th>Date:</th>             <td>Tue, 12 Nov 2019</td> <th>  Prob (F-statistic):</th> <td>3.10e-30</td>\n",
       "</tr>\n",
       "<tr>\n",
       "  <th>Time:</th>                 <td>15:27:09</td>     <th>  Log-Likelihood:    </th> <td> -122.91</td>\n",
       "</tr>\n",
       "<tr>\n",
       "  <th>No. Observations:</th>      <td>   122</td>      <th>  AIC:               </th> <td>   249.8</td>\n",
       "</tr>\n",
       "<tr>\n",
       "  <th>Df Residuals:</th>          <td>   120</td>      <th>  BIC:               </th> <td>   255.4</td>\n",
       "</tr>\n",
       "<tr>\n",
       "  <th>Df Model:</th>              <td>     1</td>      <th>                     </th>     <td> </td>   \n",
       "</tr>\n",
       "<tr>\n",
       "  <th>Covariance Type:</th>      <td>nonrobust</td>    <th>                     </th>     <td> </td>   \n",
       "</tr>\n",
       "</table>\n",
       "<table class=\"simpletable\">\n",
       "<tr>\n",
       "    <td></td>       <th>coef</th>     <th>std err</th>      <th>t</th>      <th>P>|t|</th>  <th>[0.025</th>    <th>0.975]</th>  \n",
       "</tr>\n",
       "<tr>\n",
       "  <th>const</th> <td>    0.8950</td> <td>    0.306</td> <td>    2.921</td> <td> 0.004</td> <td>    0.288</td> <td>    1.502</td>\n",
       "</tr>\n",
       "<tr>\n",
       "  <th>HDI</th>   <td>    0.0062</td> <td>    0.000</td> <td>   15.416</td> <td> 0.000</td> <td>    0.005</td> <td>    0.007</td>\n",
       "</tr>\n",
       "</table>\n",
       "<table class=\"simpletable\">\n",
       "<tr>\n",
       "  <th>Omnibus:</th>       <td> 3.079</td> <th>  Durbin-Watson:     </th> <td>   1.371</td>\n",
       "</tr>\n",
       "<tr>\n",
       "  <th>Prob(Omnibus):</th> <td> 0.214</td> <th>  Jarque-Bera (JB):  </th> <td>   2.572</td>\n",
       "</tr>\n",
       "<tr>\n",
       "  <th>Skew:</th>          <td>-0.242</td> <th>  Prob(JB):          </th> <td>   0.276</td>\n",
       "</tr>\n",
       "<tr>\n",
       "  <th>Kurtosis:</th>      <td> 2.479</td> <th>  Cond. No.          </th> <td>3.83e+03</td>\n",
       "</tr>\n",
       "</table><br/><br/>Warnings:<br/>[1] Standard Errors assume that the covariance matrix of the errors is correctly specified.<br/>[2] The condition number is large, 3.83e+03. This might indicate that there are<br/>strong multicollinearity or other numerical problems."
      ],
      "text/plain": [
       "<class 'statsmodels.iolib.summary.Summary'>\n",
       "\"\"\"\n",
       "                            OLS Regression Results                            \n",
       "==============================================================================\n",
       "Dep. Variable:         HappinessScore   R-squared:                       0.664\n",
       "Model:                            OLS   Adj. R-squared:                  0.662\n",
       "Method:                 Least Squares   F-statistic:                     237.7\n",
       "Date:                Tue, 12 Nov 2019   Prob (F-statistic):           3.10e-30\n",
       "Time:                        15:27:09   Log-Likelihood:                -122.91\n",
       "No. Observations:                 122   AIC:                             249.8\n",
       "Df Residuals:                     120   BIC:                             255.4\n",
       "Df Model:                           1                                         \n",
       "Covariance Type:            nonrobust                                         \n",
       "==============================================================================\n",
       "                 coef    std err          t      P>|t|      [0.025      0.975]\n",
       "------------------------------------------------------------------------------\n",
       "const          0.8950      0.306      2.921      0.004       0.288       1.502\n",
       "HDI            0.0062      0.000     15.416      0.000       0.005       0.007\n",
       "==============================================================================\n",
       "Omnibus:                        3.079   Durbin-Watson:                   1.371\n",
       "Prob(Omnibus):                  0.214   Jarque-Bera (JB):                2.572\n",
       "Skew:                          -0.242   Prob(JB):                        0.276\n",
       "Kurtosis:                       2.479   Cond. No.                     3.83e+03\n",
       "==============================================================================\n",
       "\n",
       "Warnings:\n",
       "[1] Standard Errors assume that the covariance matrix of the errors is correctly specified.\n",
       "[2] The condition number is large, 3.83e+03. This might indicate that there are\n",
       "strong multicollinearity or other numerical problems.\n",
       "\"\"\""
      ]
     },
     "execution_count": 17,
     "metadata": {},
     "output_type": "execute_result"
    }
   ],
   "source": [
    "results = regress(X2,Y)\n",
    "results.summary()"
   ]
  },
  {
   "cell_type": "markdown",
   "metadata": {},
   "source": [
    "Ao realizar as variáveis explcativas do variável dependente...\n",
    "Como o R ao quadrado não diminui tanto ao tirar as variaveis ligadas a bebida, é possivel concluir até agora que o alcool não possui tanta ligação com a felicidade\n",
    "ESCREVER\n"
   ]
  },
  {
   "cell_type": "markdown",
   "metadata": {},
   "source": [
    "Vamos considerar Indice de Felicidade (HappinessScore) como variável dependente (eixo y) e consumo de cerveja (Beer_PerCapita) (eixo x)."
   ]
  },
  {
   "cell_type": "code",
   "execution_count": 34,
   "metadata": {},
   "outputs": [
    {
     "data": {
      "image/png": "[encoded data removed]",
      "text/plain": [
       "<Figure size 432x288 with 1 Axes>"
      ]
     },
     "metadata": {
      "needs_background": "light"
     },
     "output_type": "display_data"
    },
    {
     "data": {
      "image/png": "[encoded data removed]",
      "text/plain": [
       "<Figure size 432x288 with 1 Axes>"
      ]
     },
     "metadata": {
      "needs_background": "light"
     },
     "output_type": "display_data"
    },
    {
     "data": {
      "image/png": "[encoded data removed]",
      "text/plain": [
       "<Figure size 432x288 with 1 Axes>"
      ]
     },
     "metadata": {
      "needs_background": "light"
     },
     "output_type": "display_data"
    },
    {
     "data": {
      "image/png": "[encoded data removed]",
      "text/plain": [
       "<Figure size 432x288 with 1 Axes>"
      ]
     },
     "metadata": {
      "needs_background": "light"
     },
     "output_type": "display_data"
    },
    {
     "data": {
      "image/png": "[encoded data removed]",
      "text/plain": [
       "<Figure size 432x288 with 1 Axes>"
      ]
     },
     "metadata": {
      "needs_background": "light"
     },
     "output_type": "display_data"
    }
   ],
   "source": [
    "x = df['HappinessScore']\n",
    "y = df['Spirit_PerCapita']   \n",
    "yb = y.mean()\n",
    "xb = x.mean()\n",
    "Sxy = ((x -xb)*(y -yb)).sum()\n",
    "Sxx = ((x -xb)**2).sum()\n",
    "b1 = Sxy/Sxx\n",
    "b0 = yb - b1*xb\n",
    "x_v = np.linspace(x.min(), x.max(), 500)\n",
    "y_v = b0 + b1*x_v\n",
    "plt.plot(x_v,y_v, color=\"r\") # resultados da regressão\n",
    "plt.scatter(x, y); # dados\n",
    "plt.xlabel(\"HappinessScore\");\n",
    "plt.ylabel(\"Spirit_PerCapita\");\n",
    "plt.show();\n",
    "\n",
    "\n",
    "x = df['HappinessScore'] \n",
    "y = df['Wine_PerCapita']    \n",
    "yb = y.mean()\n",
    "xb = x.mean()\n",
    "Sxy = ((x -xb)*(y -yb)).sum()\n",
    "Sxx = ((x -xb)**2).sum()\n",
    "b1 = Sxy/Sxx\n",
    "b0 = yb - b1*xb\n",
    "x_v = np.linspace(x.min(), x.max(), 500)\n",
    "y_v = b0 + b1*x_v\n",
    "plt.plot(x_v,y_v, color=\"r\") # resultados da regressão\n",
    "plt.scatter(x, y); # dados\n",
    "plt.xlabel(\"HappinessScore\");\n",
    "plt.ylabel(\"Wine_PerCapita\");\n",
    "plt.show();\n",
    "\n",
    "x = df['HappinessScore']\n",
    "y = df['GDP_PerCapita']    \n",
    "yb = y.mean()\n",
    "xb = x.mean()\n",
    "Sxy = ((x -xb)*(y -yb)).sum()\n",
    "Sxx = ((x -xb)**2).sum()\n",
    "b1 = Sxy/Sxx\n",
    "b0 = yb - b1*xb\n",
    "x_v = np.linspace(x.min(), x.max(), 500)\n",
    "y_v = b0 + b1*x_v\n",
    "plt.plot(x_v,y_v, color=\"r\") # resultados da regressão\n",
    "plt.scatter(x, y); # dados\n",
    "plt.xlabel(\"HappinessScore\");\n",
    "plt.ylabel(\"GDP_PerCapita\");\n",
    "plt.show();\n",
    "\n",
    "x = df['HappinessScore'] \n",
    "y = df['HDI']   \n",
    "yb = y.mean()\n",
    "xb = x.mean()\n",
    "Sxy = ((x -xb)*(y -yb)).sum()\n",
    "Sxx = ((x -xb)**2).sum()\n",
    "b1 = Sxy/Sxx\n",
    "b0 = yb - b1*xb\n",
    "x_v = np.linspace(x.min(), x.max(), 500)\n",
    "y_v = b0 + b1*x_v\n",
    "plt.plot(x_v,y_v, color=\"r\") # resultados da regressão\n",
    "plt.scatter(x, y); # dados\n",
    "plt.xlabel(\"HappinessScore\");\n",
    "plt.ylabel(\"HDI\");\n",
    "plt.show();\n",
    "\n",
    "x = df['HappinessScore'] \n",
    "y = df['Beer_PerCapita']    \n",
    "yb = y.mean()\n",
    "xb = x.mean()\n",
    "Sxy = ((x -xb)*(y -yb)).sum()\n",
    "Sxx = ((x -xb)**2).sum()\n",
    "b1 = Sxy/Sxx\n",
    "b0 = yb - b1*xb\n",
    "x_v = np.linspace(x.min(), x.max(), 500)\n",
    "y_v = b0 + b1*x_v\n",
    "plt.plot(x_v,y_v, color=\"r\") # resultados da regressão\n",
    "plt.scatter(x, y); # dados\n",
    "plt.xlabel(\"HappinessScore\");\n",
    "plt.ylabel(\"Beer_PerCapita\");\n",
    "plt.show();"
   ]
  },
  {
   "cell_type": "code",
   "execution_count": null,
   "metadata": {},
   "outputs": [],
   "source": []
  }
 ],
 "metadata": {
  "kernelspec": {
   "display_name": "Python 3",
   "language": "python",
   "name": "python3"
  },
  "language_info": {
   "codemirror_mode": {
    "name": "ipython",
    "version": 3
   },
   "file_extension": ".py",
   "mimetype": "text/x-python",
   "name": "python",
   "nbconvert_exporter": "python",
   "pygments_lexer": "ipython3",
   "version": "3.7.3"
  }
 },
 "nbformat": 4,
 "nbformat_minor": 2
}
