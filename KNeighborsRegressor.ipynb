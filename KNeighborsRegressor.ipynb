{
 "cells": [
  {
   "cell_type": "markdown",
   "metadata": {},
   "source": [
    "---\n",
    "# KNeighborsRegressor\n",
    "\n",
    "---"
   ]
  },
  {
   "cell_type": "code",
   "execution_count": 107,
   "metadata": {},
   "outputs": [],
   "source": [
    "# --------------------- IMPORTANDO BIBLIOTECA ----------------------\n",
    "%matplotlib inline\n",
    "import numpy as np\n",
    "import pandas as pd\n",
    "import matplotlib\n",
    "import matplotlib.pyplot as plt\n",
    "import seaborn as sns\n",
    "import random\n",
    "from sklearn.model_selection import train_test_split\n",
    "import mglearn \n",
    "from sklearn.neighbors import KNeighborsRegressor\n",
    "RANDOM_SEED = 42\n",
    "np.random.seed(RANDOM_SEED)"
   ]
  },
  {
   "cell_type": "code",
   "execution_count": 108,
   "metadata": {},
   "outputs": [],
   "source": [
    "RANDOM_SEED = 42\n",
    "np.random.seed(RANDOM_SEED)"
   ]
  },
  {
   "cell_type": "code",
   "execution_count": 109,
   "metadata": {},
   "outputs": [],
   "source": [
    "dados = pd.read_excel(\"HappinessAlcoholConsumption.xls\")"
   ]
  },
  {
   "cell_type": "code",
   "execution_count": 118,
   "metadata": {},
   "outputs": [],
   "source": [
    "X =  dados[['HDI', 'GDP_PerCapita', 'Beer_PerCapita', 'Spirit_PerCapita', 'Wine_PerCapita']]\n",
    "y = dados[\"HappinessScore\"]"
   ]
  },
  {
   "cell_type": "code",
   "execution_count": 119,
   "metadata": {},
   "outputs": [],
   "source": [
    "X_train, X_test, y_train, y_test = train_test_split(X, y, test_size=0.1, random_state=RANDOM_SEED)"
   ]
  },
  {
   "cell_type": "markdown",
   "metadata": {},
   "source": [
    "---\n",
    "# Primeira Interação \n",
    "\n",
    "---"
   ]
  },
  {
   "cell_type": "code",
   "execution_count": 120,
   "metadata": {},
   "outputs": [
    {
     "data": {
      "text/plain": [
       "KNeighborsRegressor(algorithm='auto', leaf_size=30, metric='minkowski',\n",
       "          metric_params=None, n_jobs=None, n_neighbors=5, p=2,\n",
       "          weights='uniform')"
      ]
     },
     "execution_count": 120,
     "metadata": {},
     "output_type": "execute_result"
    }
   ],
   "source": [
    "reg = KNeighborsRegressor(n_neighbors=5)\n",
    "reg.fit(X_train, y_train)"
   ]
  },
  {
   "cell_type": "code",
   "execution_count": 121,
   "metadata": {},
   "outputs": [
    {
     "data": {
      "text/plain": [
       "array([7.2824, 6.2248, 5.1072, 3.643 , 7.0554, 5.8292, 5.7534, 3.8306,\n",
       "       5.4962, 6.875 , 5.7138, 3.9354, 6.348 ])"
      ]
     },
     "execution_count": 121,
     "metadata": {},
     "output_type": "execute_result"
    }
   ],
   "source": [
    "y_predict = reg.predict(X_test)\n",
    "y_predict"
   ]
  },
  {
   "cell_type": "code",
   "execution_count": 122,
   "metadata": {},
   "outputs": [],
   "source": [
    "erro=[]\n",
    "for i,e in zip(y_predict,y_test):\n",
    "    if i<e:\n",
    "     diferenca= e-i\n",
    "     erro.append(diferenca)\n",
    "    else:\n",
    "     diferenca= i-e\n",
    "     erro.append(diferenca)\n",
    "\n",
    "classificacao=[]\n",
    "for erros in erro: \n",
    "    if erros< 0.5: \n",
    "        classfi= 'Certo'\n",
    "        classificacao.append(classfi)\n",
    "    else:\n",
    "        classfi= 'Errado'\n",
    "        classificacao.append(classfi)"
   ]
  },
  {
   "cell_type": "code",
   "execution_count": 123,
   "metadata": {},
   "outputs": [
    {
     "data": {
      "text/html": [
       "<div>\n",
       "<style scoped>\n",
       "    .dataframe tbody tr th:only-of-type {\n",
       "        vertical-align: middle;\n",
       "    }\n",
       "\n",
       "    .dataframe tbody tr th {\n",
       "        vertical-align: top;\n",
       "    }\n",
       "\n",
       "    .dataframe thead th {\n",
       "        text-align: right;\n",
       "    }\n",
       "</style>\n",
       "<table border=\"1\" class=\"dataframe\">\n",
       "  <thead>\n",
       "    <tr style=\"text-align: right;\">\n",
       "      <th></th>\n",
       "      <th>Y_predict</th>\n",
       "      <th>Y_test</th>\n",
       "      <th>Erro</th>\n",
       "      <th>Classificação</th>\n",
       "    </tr>\n",
       "  </thead>\n",
       "  <tbody>\n",
       "    <tr>\n",
       "      <th>18</th>\n",
       "      <td>7.2824</td>\n",
       "      <td>6.871</td>\n",
       "      <td>0.4114</td>\n",
       "      <td>Certo</td>\n",
       "    </tr>\n",
       "    <tr>\n",
       "      <th>45</th>\n",
       "      <td>6.2248</td>\n",
       "      <td>5.956</td>\n",
       "      <td>0.2688</td>\n",
       "      <td>Certo</td>\n",
       "    </tr>\n",
       "    <tr>\n",
       "      <th>47</th>\n",
       "      <td>5.1072</td>\n",
       "      <td>5.919</td>\n",
       "      <td>0.8118</td>\n",
       "      <td>Errado</td>\n",
       "    </tr>\n",
       "    <tr>\n",
       "      <th>89</th>\n",
       "      <td>3.6430</td>\n",
       "      <td>4.635</td>\n",
       "      <td>0.9920</td>\n",
       "      <td>Errado</td>\n",
       "    </tr>\n",
       "    <tr>\n",
       "      <th>4</th>\n",
       "      <td>7.0554</td>\n",
       "      <td>7.413</td>\n",
       "      <td>0.3576</td>\n",
       "      <td>Certo</td>\n",
       "    </tr>\n",
       "  </tbody>\n",
       "</table>\n",
       "</div>"
      ],
      "text/plain": [
       "    Y_predict  Y_test    Erro Classificação\n",
       "18     7.2824   6.871  0.4114         Certo\n",
       "45     6.2248   5.956  0.2688         Certo\n",
       "47     5.1072   5.919  0.8118        Errado\n",
       "89     3.6430   4.635  0.9920        Errado\n",
       "4      7.0554   7.413  0.3576         Certo"
      ]
     },
     "execution_count": 123,
     "metadata": {},
     "output_type": "execute_result"
    }
   ],
   "source": [
    "data = {\n",
    "'Y_predict': y_predict,\n",
    "'Y_test': y_test,\n",
    "'Erro': erro, \n",
    "'Classificação': classificacao,\n",
    "}\n",
    "tabela = pd.DataFrame(data, columns=['Y_predict', 'Y_test','Erro','Classificação'])\n",
    "tabela.head(5)"
   ]
  },
  {
   "cell_type": "code",
   "execution_count": 124,
   "metadata": {},
   "outputs": [
    {
     "name": "stdout",
     "output_type": "stream",
     "text": [
      "A regressão Kneighbors acertou 61.53846153846154%\n"
     ]
    }
   ],
   "source": [
    "contador=0\n",
    "for c in classificacao: \n",
    "    if c == \"Certo\": \n",
    "        contador+=1\n",
    "acertou=(contador/len(classificacao))*100\n",
    "print(\"A regressão Kneighbors acertou {0}%\".format(acertou))"
   ]
  },
  {
   "cell_type": "markdown",
   "metadata": {},
   "source": [
    "---\n",
    "# Segunda Interação \n",
    "\n",
    "---"
   ]
  },
  {
   "cell_type": "code",
   "execution_count": 125,
   "metadata": {},
   "outputs": [],
   "source": [
    "X2 =  dados[['HDI', 'GDP_PerCapita']]\n",
    "X_train2, X_test2, y_train2, y_test2 = train_test_split(X2, y, test_size=0.1, random_state=RANDOM_SEED)"
   ]
  },
  {
   "cell_type": "code",
   "execution_count": 126,
   "metadata": {},
   "outputs": [
    {
     "data": {
      "text/plain": [
       "KNeighborsRegressor(algorithm='auto', leaf_size=30, metric='minkowski',\n",
       "          metric_params=None, n_jobs=None, n_neighbors=5, p=2,\n",
       "          weights='uniform')"
      ]
     },
     "execution_count": 126,
     "metadata": {},
     "output_type": "execute_result"
    }
   ],
   "source": [
    "reg.fit(X_train2, y_train2)"
   ]
  },
  {
   "cell_type": "code",
   "execution_count": 127,
   "metadata": {},
   "outputs": [
    {
     "data": {
      "text/plain": [
       "array([7.152 , 5.4852, 6.0942, 3.643 , 7.1462, 5.1418, 5.5162, 3.8394,\n",
       "       5.561 , 6.2494, 5.7628, 3.9354, 6.5374])"
      ]
     },
     "execution_count": 127,
     "metadata": {},
     "output_type": "execute_result"
    }
   ],
   "source": [
    "y_predict2 = reg.predict(X_test2)\n",
    "y_predict2"
   ]
  },
  {
   "cell_type": "code",
   "execution_count": 128,
   "metadata": {},
   "outputs": [],
   "source": [
    "erro=[]\n",
    "for i,e in zip(y_predict2,y_test2):\n",
    "    if i<e:\n",
    "     diferenca = e-i\n",
    "     erro.append(diferenca)\n",
    "    else:\n",
    "     diferenca = i-e\n",
    "     erro.append(diferenca)\n",
    "\n",
    "classificacao=[]\n",
    "for erros in erro: \n",
    "    if erros< 0.5: \n",
    "        classfi= 'Certo'\n",
    "        classificacao.append(classfi)\n",
    "    else:\n",
    "        classfi= 'Errado'\n",
    "        classificacao.append(classfi)"
   ]
  },
  {
   "cell_type": "code",
   "execution_count": 129,
   "metadata": {},
   "outputs": [
    {
     "data": {
      "text/html": [
       "<div>\n",
       "<style scoped>\n",
       "    .dataframe tbody tr th:only-of-type {\n",
       "        vertical-align: middle;\n",
       "    }\n",
       "\n",
       "    .dataframe tbody tr th {\n",
       "        vertical-align: top;\n",
       "    }\n",
       "\n",
       "    .dataframe thead th {\n",
       "        text-align: right;\n",
       "    }\n",
       "</style>\n",
       "<table border=\"1\" class=\"dataframe\">\n",
       "  <thead>\n",
       "    <tr style=\"text-align: right;\">\n",
       "      <th></th>\n",
       "      <th>Y_predict</th>\n",
       "      <th>Y_test</th>\n",
       "      <th>Erro</th>\n",
       "      <th>Classificação</th>\n",
       "    </tr>\n",
       "  </thead>\n",
       "  <tbody>\n",
       "    <tr>\n",
       "      <th>18</th>\n",
       "      <td>7.2824</td>\n",
       "      <td>6.871</td>\n",
       "      <td>0.2810</td>\n",
       "      <td>Certo</td>\n",
       "    </tr>\n",
       "    <tr>\n",
       "      <th>45</th>\n",
       "      <td>6.2248</td>\n",
       "      <td>5.956</td>\n",
       "      <td>0.4708</td>\n",
       "      <td>Certo</td>\n",
       "    </tr>\n",
       "    <tr>\n",
       "      <th>47</th>\n",
       "      <td>5.1072</td>\n",
       "      <td>5.919</td>\n",
       "      <td>0.1752</td>\n",
       "      <td>Certo</td>\n",
       "    </tr>\n",
       "    <tr>\n",
       "      <th>89</th>\n",
       "      <td>3.6430</td>\n",
       "      <td>4.635</td>\n",
       "      <td>0.9920</td>\n",
       "      <td>Errado</td>\n",
       "    </tr>\n",
       "    <tr>\n",
       "      <th>4</th>\n",
       "      <td>7.0554</td>\n",
       "      <td>7.413</td>\n",
       "      <td>0.2668</td>\n",
       "      <td>Certo</td>\n",
       "    </tr>\n",
       "  </tbody>\n",
       "</table>\n",
       "</div>"
      ],
      "text/plain": [
       "    Y_predict  Y_test    Erro Classificação\n",
       "18     7.2824   6.871  0.2810         Certo\n",
       "45     6.2248   5.956  0.4708         Certo\n",
       "47     5.1072   5.919  0.1752         Certo\n",
       "89     3.6430   4.635  0.9920        Errado\n",
       "4      7.0554   7.413  0.2668         Certo"
      ]
     },
     "execution_count": 129,
     "metadata": {},
     "output_type": "execute_result"
    }
   ],
   "source": [
    "data = {\n",
    "'Y_predict': y_predict,\n",
    "'Y_test': y_test,\n",
    "'Erro': erro, \n",
    "'Classificação': classificacao,\n",
    "}\n",
    "tabela = pd.DataFrame(data, columns=['Y_predict', 'Y_test','Erro','Classificação'])\n",
    "tabela.head(5)"
   ]
  },
  {
   "cell_type": "code",
   "execution_count": 130,
   "metadata": {},
   "outputs": [
    {
     "name": "stdout",
     "output_type": "stream",
     "text": [
      "A regressão Kneighbors acertou 69.23076923076923%\n"
     ]
    }
   ],
   "source": [
    "contador=0\n",
    "for c in classificacao: \n",
    "    if c == \"Certo\": \n",
    "        contador+=1\n",
    "acertou=(contador/len(classificacao))*100\n",
    "print(\"A regressão Kneighbors acertou {0}%\".format(acertou))"
   ]
  }
 ],
 "metadata": {
  "kernelspec": {
   "display_name": "Python 3",
   "language": "python",
   "name": "python3"
  },
  "language_info": {
   "codemirror_mode": {
    "name": "ipython",
    "version": 3
   },
   "file_extension": ".py",
   "mimetype": "text/x-python",
   "name": "python",
   "nbconvert_exporter": "python",
   "pygments_lexer": "ipython3",
   "version": "3.7.1"
  }
 },
 "nbformat": 4,
 "nbformat_minor": 2
}
