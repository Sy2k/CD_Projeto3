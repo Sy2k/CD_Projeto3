{
 "cells": [
  {
   "cell_type": "markdown",
   "metadata": {},
   "source": [
    "---\n",
    "# SGD Regression\n",
    "\n",
    "\n",
    "A maioria dos aplicativos de aprendizado de máquina / aprendizado profundo usa uma variante de descida de gradiente chamada descida de gradiente estocástico (SGD), na qual, em vez de atualizar parâmetros com base na derivada do conjunto de dados em cada etapa, você atualiza com base na derivada de uma amostra escolhida aleatoriamente . Além de ser menos tributável computacionalmente, a pesquisa mostrou que a aleatoriedade envolvida no SGD permite convergir e superar os mínimos locais mais rapidamente.\n",
    "\n",
    "---"
   ]
  },
  {
   "cell_type": "code",
   "execution_count": 2,
   "metadata": {},
   "outputs": [],
   "source": [
    "%matplotlib inline\n",
    "import numpy as np\n",
    "import pandas as pd\n",
    "import matplotlib\n",
    "import matplotlib.pyplot as plt\n",
    "import seaborn as sns\n",
    "import os\n",
    "import random\n",
    "from sklearn.model_selection import train_test_split\n",
    "RANDOM_SEED = 42\n",
    "np.random.seed(RANDOM_SEED)\n",
    "\n"
   ]
  },
  {
   "cell_type": "code",
   "execution_count": 2,
   "metadata": {
    "scrolled": true
   },
   "outputs": [
    {
     "data": {
      "text/plain": [
       "'C:\\\\Users\\\\User\\\\Desktop\\\\2ºsemestre\\\\Ciência dos dados\\\\Proj3\\\\CD_Projeto3'"
      ]
     },
     "execution_count": 2,
     "metadata": {},
     "output_type": "execute_result"
    }
   ],
   "source": [
    "os.getcwd()"
   ]
  },
  {
   "cell_type": "code",
   "execution_count": 3,
   "metadata": {},
   "outputs": [],
   "source": [
    "RANDOM_SEED = 42\n",
    "np.random.seed(RANDOM_SEED)"
   ]
  },
  {
   "cell_type": "code",
   "execution_count": 4,
   "metadata": {},
   "outputs": [],
   "source": [
    "dados = pd.read_excel(\"HappinessAlcoholConsumption.xls\")"
   ]
  },
  {
   "cell_type": "code",
   "execution_count": 5,
   "metadata": {},
   "outputs": [],
   "source": [
    "X =  dados[['HDI', 'GDP_PerCapita', 'Beer_PerCapita', 'Spirit_PerCapita', 'Wine_PerCapita']]\n",
    "y = dados[\"HappinessScore\"]"
   ]
  },
  {
   "cell_type": "code",
   "execution_count": 6,
   "metadata": {},
   "outputs": [],
   "source": [
    "X_train, X_test, y_train, y_test = train_test_split(X, y, test_size=0.1, random_state=RANDOM_SEED)"
   ]
  },
  {
   "cell_type": "markdown",
   "metadata": {},
   "source": [
    "\n",
    "## Testando códigos do livro!!"
   ]
  },
  {
   "cell_type": "code",
   "execution_count": 12,
   "metadata": {},
   "outputs": [],
   "source": [
    "from sklearn.linear_model import SGDRegressor"
   ]
  },
  {
   "cell_type": "code",
   "execution_count": 13,
   "metadata": {},
   "outputs": [],
   "source": [
    "sgd_reg = SGDRegressor(n_iter=1000000, penalty=\"l2\", eta0=0.1)"
   ]
  },
  {
   "cell_type": "code",
   "execution_count": 26,
   "metadata": {},
   "outputs": [
    {
     "name": "stderr",
     "output_type": "stream",
     "text": [
      "C:\\Users\\User\\Anaconda3\\lib\\site-packages\\sklearn\\linear_model\\stochastic_gradient.py:152: DeprecationWarning: n_iter parameter is deprecated in 0.19 and will be removed in 0.21. Use max_iter and tol instead.\n",
      "  DeprecationWarning)\n"
     ]
    }
   ],
   "source": [
    "model = sgd_reg.fit(X_train, y_train)"
   ]
  },
  {
   "cell_type": "code",
   "execution_count": 22,
   "metadata": {
    "scrolled": false
   },
   "outputs": [
    {
     "data": {
      "text/plain": [
       "(array([6.35955528e+10]),\n",
       " array([-3.15510177e+11,  2.84326854e+11, -4.52968065e+11, -9.15374514e+11,\n",
       "        -3.60542642e+11]))"
      ]
     },
     "execution_count": 22,
     "metadata": {},
     "output_type": "execute_result"
    }
   ],
   "source": [
    "sgd_reg.intercept_, sgd_reg.coef_"
   ]
  },
  {
   "cell_type": "code",
   "execution_count": 23,
   "metadata": {},
   "outputs": [
    {
     "data": {
      "text/plain": [
       "array([6.35955528e+10])"
      ]
     },
     "execution_count": 23,
     "metadata": {},
     "output_type": "execute_result"
    }
   ],
   "source": [
    "sgd_reg.predict([[0,0,0,0,0]])"
   ]
  },
  {
   "cell_type": "markdown",
   "metadata": {},
   "source": [
    "# Teste"
   ]
  },
  {
   "cell_type": "code",
   "execution_count": 25,
   "metadata": {},
   "outputs": [
    {
     "data": {
      "text/plain": [
       "array([-5.82867131e+14, -4.48590496e+14, -5.34881116e+14, -8.27230148e+12,\n",
       "       -5.53073627e+14, -3.00532453e+14, -5.58260741e+14, -2.46674817e+14,\n",
       "       -5.15609032e+14, -5.44342073e+14, -6.64367255e+14,  3.91068057e+13,\n",
       "       -3.68897741e+14])"
      ]
     },
     "execution_count": 25,
     "metadata": {},
     "output_type": "execute_result"
    }
   ],
   "source": [
    "sgd_reg.predict(X_test)"
   ]
  },
  {
   "cell_type": "code",
   "execution_count": 27,
   "metadata": {
    "scrolled": true
   },
   "outputs": [
    {
     "data": {
      "text/plain": [
       "array([5.17932739e+14, 4.58863272e+14, 4.25606608e+14, 2.52111147e+14,\n",
       "       5.51082371e+14, 3.44425000e+14, 5.05027621e+14, 2.86157033e+14,\n",
       "       3.90521158e+14, 5.26336970e+14, 5.56206917e+14, 3.30440009e+14,\n",
       "       4.57941870e+14])"
      ]
     },
     "execution_count": 27,
     "metadata": {},
     "output_type": "execute_result"
    }
   ],
   "source": [
    "model.predict(X_test)"
   ]
  },
  {
   "cell_type": "code",
   "execution_count": 75,
   "metadata": {},
   "outputs": [
    {
     "data": {
      "text/plain": [
       "90     4.574\n",
       "109    3.956\n",
       "11     7.119\n",
       "76     5.151\n",
       "56     5.743\n",
       "115    3.739\n",
       "0      7.526\n",
       "26     6.573\n",
       "44     5.976\n",
       "66     5.389\n",
       "98     4.272\n",
       "24     6.650\n",
       "42     5.987\n",
       "105    4.121\n",
       "93     4.362\n",
       "36     6.218\n",
       "100    4.236\n",
       "12     7.104\n",
       "15     6.952\n",
       "72     5.177\n",
       "22     6.705\n",
       "116    3.695\n",
       "91     4.513\n",
       "83     5.033\n",
       "30     6.478\n",
       "77     5.145\n",
       "65     5.488\n",
       "9      7.291\n",
       "33     6.361\n",
       "25     6.596\n",
       "       ...  \n",
       "75     5.155\n",
       "32     6.375\n",
       "114    3.763\n",
       "59     5.560\n",
       "63     5.517\n",
       "101    4.219\n",
       "37     6.168\n",
       "29     6.481\n",
       "108    3.974\n",
       "1      7.509\n",
       "52     5.822\n",
       "21     6.725\n",
       "2      7.501\n",
       "23     6.701\n",
       "103    4.193\n",
       "99     4.252\n",
       "87     4.795\n",
       "110    3.916\n",
       "74     5.161\n",
       "86     4.871\n",
       "82     5.045\n",
       "121    3.069\n",
       "20     6.739\n",
       "60     5.546\n",
       "71     5.185\n",
       "106    4.073\n",
       "14     6.994\n",
       "92     4.459\n",
       "51     5.835\n",
       "102    4.217\n",
       "Name: HappinessScore, Length: 109, dtype: float64"
      ]
     },
     "execution_count": 75,
     "metadata": {},
     "output_type": "execute_result"
    }
   ],
   "source": [
    "y_train"
   ]
  },
  {
   "cell_type": "markdown",
   "metadata": {},
   "source": [
    "# Fazendo a análise com IDH\n",
    "\n",
    "Como a SGD Regression feita com a HDI, GDP_PerCapit, Beer_PerCapita, Spirit_PerCapita, Wine_PerCapita, com a saida sendo o happiness não resultou dados coerentes.\n",
    "\n",
    "Este proeblema, talvez seja devido a falta de relação entre os dados de entrada e a saída. Para confirmar a análise agora será feita com a entreda sendo o IDH e a saída happiness"
   ]
  },
  {
   "cell_type": "code",
   "execution_count": 28,
   "metadata": {},
   "outputs": [],
   "source": [
    "X2 =  dados[['HDI']]\n",
    "y2 = dados[\"HappinessScore\"]"
   ]
  },
  {
   "cell_type": "code",
   "execution_count": 29,
   "metadata": {},
   "outputs": [],
   "source": [
    "X2_train, X2_test, y2_train, y2_test = train_test_split(X2, y2, test_size=0.1, random_state=RANDOM_SEED)"
   ]
  },
  {
   "cell_type": "code",
   "execution_count": 30,
   "metadata": {},
   "outputs": [],
   "source": [
    "from sklearn.linear_model import SGDRegressor"
   ]
  },
  {
   "cell_type": "code",
   "execution_count": 35,
   "metadata": {},
   "outputs": [],
   "source": [
    "sgd_reg2 = SGDRegressor(n_iter=1000000, penalty=\"l2\", eta0=0.1)"
   ]
  },
  {
   "cell_type": "code",
   "execution_count": 41,
   "metadata": {},
   "outputs": [
    {
     "name": "stderr",
     "output_type": "stream",
     "text": [
      "C:\\Users\\User\\Anaconda3\\lib\\site-packages\\sklearn\\linear_model\\stochastic_gradient.py:152: DeprecationWarning: n_iter parameter is deprecated in 0.19 and will be removed in 0.21. Use max_iter and tol instead.\n",
      "  DeprecationWarning)\n"
     ]
    }
   ],
   "source": [
    "model2 = sgd_reg2.fit(X2_train, y2_train)"
   ]
  },
  {
   "cell_type": "code",
   "execution_count": 42,
   "metadata": {},
   "outputs": [
    {
     "data": {
      "text/plain": [
       "(array([1.19598102e+11]), array([-4.763729e+11]))"
      ]
     },
     "execution_count": 42,
     "metadata": {},
     "output_type": "execute_result"
    }
   ],
   "source": [
    "sgd_reg2.intercept_, sgd_reg2.coef_"
   ]
  },
  {
   "cell_type": "code",
   "execution_count": 45,
   "metadata": {},
   "outputs": [
    {
     "data": {
      "text/plain": [
       "array([-4.30521504e+14, -3.37628788e+14, -3.79549603e+14, -1.96622410e+14,\n",
       "       -4.37190724e+14, -3.23337601e+14, -3.84313332e+14, -2.36161360e+14,\n",
       "       -3.56207331e+14, -4.25757775e+14, -4.07179232e+14, -2.43783327e+14,\n",
       "       -4.29568758e+14])"
      ]
     },
     "execution_count": 45,
     "metadata": {},
     "output_type": "execute_result"
    }
   ],
   "source": [
    "sgd_reg2.predict(X2_test)"
   ]
  },
  {
   "cell_type": "code",
   "execution_count": 46,
   "metadata": {},
   "outputs": [
    {
     "data": {
      "text/plain": [
       "array([-4.30521504e+14, -3.37628788e+14, -3.79549603e+14, -1.96622410e+14,\n",
       "       -4.37190724e+14, -3.23337601e+14, -3.84313332e+14, -2.36161360e+14,\n",
       "       -3.56207331e+14, -4.25757775e+14, -4.07179232e+14, -2.43783327e+14,\n",
       "       -4.29568758e+14])"
      ]
     },
     "execution_count": 46,
     "metadata": {},
     "output_type": "execute_result"
    }
   ],
   "source": [
    "model2.predict(X2_test)"
   ]
  },
  {
   "cell_type": "markdown",
   "metadata": {},
   "source": [
    "## A hipótese estava errada\n",
    "\n",
    "Dado que pelas demais regressões, por exemplo a regressão linear, o IDH tinha ata influência no happiness, e mesmo com essa análise o resultado ainda é incoerente, portando o problema nessa técnica não é a falta de relação entre as varieáveis"
   ]
  },
  {
   "cell_type": "code",
   "execution_count": null,
   "metadata": {},
   "outputs": [],
   "source": []
  }
 ],
 "metadata": {
  "kernelspec": {
   "display_name": "Python 3",
   "language": "python",
   "name": "python3"
  },
  "language_info": {
   "codemirror_mode": {
    "name": "ipython",
    "version": 3
   },
   "file_extension": ".py",
   "mimetype": "text/x-python",
   "name": "python",
   "nbconvert_exporter": "python",
   "pygments_lexer": "ipython3",
   "version": "3.7.1"
  }
 },
 "nbformat": 4,
 "nbformat_minor": 2
}
