{
 "cells": [
  {
   "cell_type": "markdown",
   "metadata": {},
   "source": [
    "# DEF"
   ]
  },
  {
   "cell_type": "code",
   "execution_count": 1,
   "metadata": {},
   "outputs": [],
   "source": [
    "# --------------- DEF para acuracia --------------- \n",
    "def Erro(y_previsto,y_base_teste):\n",
    "    lista_erro = []\n",
    "    for i,e in zip(y_previsto,y_base_teste):\n",
    "        if i < e:\n",
    "            dif = e-i\n",
    "            lista_erro.append(dif)\n",
    "        else: \n",
    "            dif = i-e\n",
    "            lista_erro.append(dif)\n",
    "    return lista_erro\n",
    "\n",
    "def Classificador(lista_erro):\n",
    "    lista_classificacao = []\n",
    "    for erros in lista_erro:\n",
    "        if erros<0.5:\n",
    "            classifica = 'Certo'\n",
    "            lista_classificacao.append(classifica)\n",
    "        else:\n",
    "            classifica = 'Errado'\n",
    "            lista_classificacao.append(classifica)\n",
    "    return lista_classificacao \n",
    "\n",
    "def Acuracia(Classificador,Erro,y_predict,y_test):\n",
    "    data = {\n",
    "    'Y_predict': y_predict,\n",
    "    'Y_test': y_test,\n",
    "    'Erro': Erro, \n",
    "    'Classificação': Classificador,\n",
    "    }\n",
    "    tabela = pd.DataFrame(data, columns=['Y_predict', 'Y_test','Erro','Classificação'])\n",
    "    tabela.head(5)\n",
    "    contador=0\n",
    "    for c in Classificador: \n",
    "        if c == \"Certo\": \n",
    "            contador+=1\n",
    "    acertou=(contador/len(Classificador))*100\n",
    "    return acertou "
   ]
  },
  {
   "cell_type": "markdown",
   "metadata": {},
   "source": [
    "# PRINT DO RESULTADO "
   ]
  },
  {
   "cell_type": "code",
   "execution_count": 9,
   "metadata": {},
   "outputs": [
    {
     "name": "stdout",
     "output_type": "stream",
     "text": [
      "A regressão Kneighbors acertou <function Acuracia at 0x108600268>%\n"
     ]
    }
   ],
   "source": [
    "print(\"A regressão Kneighbors acertou {0}%\".format(Acuracia))\n",
    "\n"
   ]
  },
  {
   "cell_type": "code",
   "execution_count": null,
   "metadata": {},
   "outputs": [],
   "source": []
  }
 ],
 "metadata": {
  "kernelspec": {
   "display_name": "Python 3",
   "language": "python",
   "name": "python3"
  },
  "language_info": {
   "codemirror_mode": {
    "name": "ipython",
    "version": 3
   },
   "file_extension": ".py",
   "mimetype": "text/x-python",
   "name": "python",
   "nbconvert_exporter": "python",
   "pygments_lexer": "ipython3",
   "version": "3.7.1"
  }
 },
 "nbformat": 4,
 "nbformat_minor": 2
}
