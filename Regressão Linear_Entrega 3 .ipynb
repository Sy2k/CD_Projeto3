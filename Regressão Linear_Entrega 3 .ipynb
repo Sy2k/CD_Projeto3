{
 "cells": [
  {
   "cell_type": "markdown",
   "metadata": {},
   "source": [
    "---\n",
    "\n",
    "# Regressão Linear\n",
    "\n",
    "#### Grupo: Isadora Dalberto, Lais da Silva, Gabriela Moreno e Stephanie Liu\n",
    "\n",
    "---"
   ]
  },
  {
   "cell_type": "markdown",
   "metadata": {},
   "source": [
    "## Base Teste"
   ]
  },
  {
   "cell_type": "code",
   "execution_count": 2,
   "metadata": {},
   "outputs": [],
   "source": [
    "from sklearn.model_selection import train_test_split\n",
    "import numpy as np\n",
    "import pandas as pd\n",
    "from sklearn.metrics import accuracy_score\n",
    "\n",
    "RANDOM_SEED = 42\n",
    "np.random.seed(RANDOM_SEED)"
   ]
  },
  {
   "cell_type": "code",
   "execution_count": 27,
   "metadata": {},
   "outputs": [],
   "source": [
    "dados = pd.read_excel(\"HappinessAlcoholConsumption.xls\")"
   ]
  },
  {
   "cell_type": "code",
   "execution_count": 4,
   "metadata": {},
   "outputs": [],
   "source": [
    "X =  dados[['HDI', 'GDP_PerCapita','GDP_PerCapita', 'Beer_PerCapita', 'Spirit_PerCapita','Wine_PerCapita']]\n",
    "y = dados[\"HappinessScore\"]"
   ]
  },
  {
   "cell_type": "code",
   "execution_count": 5,
   "metadata": {},
   "outputs": [],
   "source": [
    "X_train, X_test, y_train, y_test = train_test_split(X, y, test_size=0.1, random_state=RANDOM_SEED)"
   ]
  },
  {
   "cell_type": "code",
   "execution_count": 6,
   "metadata": {},
   "outputs": [
    {
     "data": {
      "text/plain": [
       "((109, 6), (109,), (13, 6), (13,))"
      ]
     },
     "execution_count": 6,
     "metadata": {},
     "output_type": "execute_result"
    }
   ],
   "source": [
    "X_train.shape, y_train.shape, X_test.shape, y_test.shape"
   ]
  },
  {
   "cell_type": "markdown",
   "metadata": {},
   "source": [
    "## Treinamento"
   ]
  },
  {
   "cell_type": "code",
   "execution_count": 7,
   "metadata": {},
   "outputs": [],
   "source": [
    "# --------------- Importando biblotecas ---------------\n",
    "%matplotlib inline\n",
    "import numpy as np\n",
    "import pandas as pd\n",
    "import matplotlib\n",
    "import matplotlib.pyplot as plt\n",
    "import seaborn as sns\n",
    "import os\n",
    "from scipy.stats import norm, probplot\n",
    "import statsmodels.api as sm\n",
    "from mpl_toolkits.mplot3d import Axes3D\n",
    "from scipy import stats\n"
   ]
  },
  {
   "cell_type": "code",
   "execution_count": 8,
   "metadata": {},
   "outputs": [],
   "source": [
    "# --------------- Leitura dos dados ---------------\n",
    "dados = pd.read_excel(\"HappinessAlcoholConsumption.xls\")"
   ]
  },
  {
   "cell_type": "code",
   "execution_count": 9,
   "metadata": {},
   "outputs": [],
   "source": [
    "# --------------- Colocando Indice ---------------\n",
    "dados_indice = dados.set_index(\"Country\")"
   ]
  },
  {
   "cell_type": "code",
   "execution_count": 10,
   "metadata": {},
   "outputs": [],
   "source": [
    "### Função utilitária para fazer a regressão com constante adicionada\n",
    "def regress(X,Y):\n",
    "    X_cp = sm.add_constant(X)\n",
    "    model = sm.OLS(Y,X_cp)\n",
    "    results = model.fit()\n",
    "    return results"
   ]
  },
  {
   "cell_type": "code",
   "execution_count": 11,
   "metadata": {},
   "outputs": [
    {
     "data": {
      "text/plain": [
       "Index(['Region', 'Hemisphere', 'HappinessScore', 'HDI', 'GDP_PerCapita',\n",
       "       'Beer_PerCapita', 'Spirit_PerCapita', 'Wine_PerCapita'],\n",
       "      dtype='object')"
      ]
     },
     "execution_count": 11,
     "metadata": {},
     "output_type": "execute_result"
    }
   ],
   "source": [
    "dados_indice.columns"
   ]
  },
  {
   "cell_type": "markdown",
   "metadata": {},
   "source": [
    "### Usando as variáveis quantitativas \n",
    "HappinessScore, HDI, GDP_PerCapita, Beer_PerCapita, Spirit_PerCapita, Wine_PerCapita"
   ]
  },
  {
   "cell_type": "code",
   "execution_count": 12,
   "metadata": {},
   "outputs": [],
   "source": [
    "df = dados_indice[['HappinessScore', 'HDI','GDP_PerCapita', 'Beer_PerCapita', 'Spirit_PerCapita','Wine_PerCapita']]"
   ]
  },
  {
   "cell_type": "markdown",
   "metadata": {},
   "source": [
    "### Variável Dependente e Independente \n",
    "\n",
    "* **Dependente(Y):**\n",
    "Indice de Felicidade (HappinessScore) como resposta (dependente).\n",
    "\n",
    "* **Independente(X):**\n",
    "Demais variáveis como explicativas."
   ]
  },
  {
   "cell_type": "markdown",
   "metadata": {},
   "source": [
    "## Primeira regressão\n",
    "* **Variável Independente(X)=** \n",
    "todas as variáveis quantitativas"
   ]
  },
  {
   "cell_type": "code",
   "execution_count": 13,
   "metadata": {},
   "outputs": [],
   "source": [
    "Y = df['HappinessScore']"
   ]
  },
  {
   "cell_type": "code",
   "execution_count": 14,
   "metadata": {},
   "outputs": [],
   "source": [
    "X = df[['HDI','GDP_PerCapita','Beer_PerCapita','Spirit_PerCapita','Wine_PerCapita']]\n"
   ]
  },
  {
   "cell_type": "code",
   "execution_count": 15,
   "metadata": {},
   "outputs": [
    {
     "name": "stderr",
     "output_type": "stream",
     "text": [
      "C:\\Users\\Gabi_XPS\\Anaconda3\\lib\\site-packages\\numpy\\core\\fromnumeric.py:2389: FutureWarning: Method .ptp is deprecated and will be removed in a future version. Use numpy.ptp instead.\n",
      "  return ptp(axis=axis, out=out, **kwargs)\n"
     ]
    },
    {
     "data": {
      "text/html": [
       "<table class=\"simpletable\">\n",
       "<caption>OLS Regression Results</caption>\n",
       "<tr>\n",
       "  <th>Dep. Variable:</th>     <td>HappinessScore</td>  <th>  R-squared:         </th> <td>   0.677</td>\n",
       "</tr>\n",
       "<tr>\n",
       "  <th>Model:</th>                   <td>OLS</td>       <th>  Adj. R-squared:    </th> <td>   0.663</td>\n",
       "</tr>\n",
       "<tr>\n",
       "  <th>Method:</th>             <td>Least Squares</td>  <th>  F-statistic:       </th> <td>   48.55</td>\n",
       "</tr>\n",
       "<tr>\n",
       "  <th>Date:</th>             <td>Tue, 19 Nov 2019</td> <th>  Prob (F-statistic):</th> <td>7.05e-27</td>\n",
       "</tr>\n",
       "<tr>\n",
       "  <th>Time:</th>                 <td>08:19:34</td>     <th>  Log-Likelihood:    </th> <td> -120.66</td>\n",
       "</tr>\n",
       "<tr>\n",
       "  <th>No. Observations:</th>      <td>   122</td>      <th>  AIC:               </th> <td>   253.3</td>\n",
       "</tr>\n",
       "<tr>\n",
       "  <th>Df Residuals:</th>          <td>   116</td>      <th>  BIC:               </th> <td>   270.1</td>\n",
       "</tr>\n",
       "<tr>\n",
       "  <th>Df Model:</th>              <td>     5</td>      <th>                     </th>     <td> </td>   \n",
       "</tr>\n",
       "<tr>\n",
       "  <th>Covariance Type:</th>      <td>nonrobust</td>    <th>                     </th>     <td> </td>   \n",
       "</tr>\n",
       "</table>\n",
       "<table class=\"simpletable\">\n",
       "<tr>\n",
       "          <td></td>            <th>coef</th>     <th>std err</th>      <th>t</th>      <th>P>|t|</th>  <th>[0.025</th>    <th>0.975]</th>  \n",
       "</tr>\n",
       "<tr>\n",
       "  <th>const</th>            <td>    0.4899</td> <td>    0.461</td> <td>    1.063</td> <td> 0.290</td> <td>   -0.423</td> <td>    1.403</td>\n",
       "</tr>\n",
       "<tr>\n",
       "  <th>HDI</th>              <td>    0.0069</td> <td>    0.001</td> <td>   10.196</td> <td> 0.000</td> <td>    0.006</td> <td>    0.008</td>\n",
       "</tr>\n",
       "<tr>\n",
       "  <th>GDP_PerCapita</th>    <td>    0.0002</td> <td>    0.000</td> <td>    0.672</td> <td> 0.503</td> <td>   -0.000</td> <td>    0.001</td>\n",
       "</tr>\n",
       "<tr>\n",
       "  <th>Beer_PerCapita</th>   <td>    0.0007</td> <td>    0.001</td> <td>    0.912</td> <td> 0.363</td> <td>   -0.001</td> <td>    0.002</td>\n",
       "</tr>\n",
       "<tr>\n",
       "  <th>Spirit_PerCapita</th> <td>   -0.0014</td> <td>    0.001</td> <td>   -1.655</td> <td> 0.101</td> <td>   -0.003</td> <td>    0.000</td>\n",
       "</tr>\n",
       "<tr>\n",
       "  <th>Wine_PerCapita</th>   <td>   -0.0014</td> <td>    0.001</td> <td>   -1.471</td> <td> 0.144</td> <td>   -0.003</td> <td>    0.000</td>\n",
       "</tr>\n",
       "</table>\n",
       "<table class=\"simpletable\">\n",
       "<tr>\n",
       "  <th>Omnibus:</th>       <td> 5.197</td> <th>  Durbin-Watson:     </th> <td>   1.396</td>\n",
       "</tr>\n",
       "<tr>\n",
       "  <th>Prob(Omnibus):</th> <td> 0.074</td> <th>  Jarque-Bera (JB):  </th> <td>   3.098</td>\n",
       "</tr>\n",
       "<tr>\n",
       "  <th>Skew:</th>          <td>-0.185</td> <th>  Prob(JB):          </th> <td>   0.212</td>\n",
       "</tr>\n",
       "<tr>\n",
       "  <th>Kurtosis:</th>      <td> 2.312</td> <th>  Cond. No.          </th> <td>5.98e+03</td>\n",
       "</tr>\n",
       "</table><br/><br/>Warnings:<br/>[1] Standard Errors assume that the covariance matrix of the errors is correctly specified.<br/>[2] The condition number is large, 5.98e+03. This might indicate that there are<br/>strong multicollinearity or other numerical problems."
      ],
      "text/plain": [
       "<class 'statsmodels.iolib.summary.Summary'>\n",
       "\"\"\"\n",
       "                            OLS Regression Results                            \n",
       "==============================================================================\n",
       "Dep. Variable:         HappinessScore   R-squared:                       0.677\n",
       "Model:                            OLS   Adj. R-squared:                  0.663\n",
       "Method:                 Least Squares   F-statistic:                     48.55\n",
       "Date:                Tue, 19 Nov 2019   Prob (F-statistic):           7.05e-27\n",
       "Time:                        08:19:34   Log-Likelihood:                -120.66\n",
       "No. Observations:                 122   AIC:                             253.3\n",
       "Df Residuals:                     116   BIC:                             270.1\n",
       "Df Model:                           5                                         \n",
       "Covariance Type:            nonrobust                                         \n",
       "====================================================================================\n",
       "                       coef    std err          t      P>|t|      [0.025      0.975]\n",
       "------------------------------------------------------------------------------------\n",
       "const                0.4899      0.461      1.063      0.290      -0.423       1.403\n",
       "HDI                  0.0069      0.001     10.196      0.000       0.006       0.008\n",
       "GDP_PerCapita        0.0002      0.000      0.672      0.503      -0.000       0.001\n",
       "Beer_PerCapita       0.0007      0.001      0.912      0.363      -0.001       0.002\n",
       "Spirit_PerCapita    -0.0014      0.001     -1.655      0.101      -0.003       0.000\n",
       "Wine_PerCapita      -0.0014      0.001     -1.471      0.144      -0.003       0.000\n",
       "==============================================================================\n",
       "Omnibus:                        5.197   Durbin-Watson:                   1.396\n",
       "Prob(Omnibus):                  0.074   Jarque-Bera (JB):                3.098\n",
       "Skew:                          -0.185   Prob(JB):                        0.212\n",
       "Kurtosis:                       2.312   Cond. No.                     5.98e+03\n",
       "==============================================================================\n",
       "\n",
       "Warnings:\n",
       "[1] Standard Errors assume that the covariance matrix of the errors is correctly specified.\n",
       "[2] The condition number is large, 5.98e+03. This might indicate that there are\n",
       "strong multicollinearity or other numerical problems.\n",
       "\"\"\""
      ]
     },
     "execution_count": 15,
     "metadata": {},
     "output_type": "execute_result"
    }
   ],
   "source": [
    "results = regress(X,Y)\n",
    "results.summary()"
   ]
  },
  {
   "cell_type": "markdown",
   "metadata": {},
   "source": [
    "### Conclusão Primeira regressão\n",
    "É possivel observar que os valores P (P>|t|) das variáveis GDP_PerCapita e Beer_PerCapita são os maiores, o que nos informa que a probabilidade dessa variável regressora ser relevante para explicar a variavel dependente (Hapiness) é baixa, pois o valor \"p\" é alto."
   ]
  },
  {
   "cell_type": "markdown",
   "metadata": {},
   "source": [
    "## Segunda regressão\n",
    "* **Variável Independente(X)=** \n",
    "Hdi, Spirit_Percapita e Wine_Percapita"
   ]
  },
  {
   "cell_type": "code",
   "execution_count": 16,
   "metadata": {},
   "outputs": [],
   "source": [
    "X1 = df[['HDI','Spirit_PerCapita','Wine_PerCapita']]"
   ]
  },
  {
   "cell_type": "code",
   "execution_count": 17,
   "metadata": {},
   "outputs": [
    {
     "data": {
      "text/html": [
       "<table class=\"simpletable\">\n",
       "<caption>OLS Regression Results</caption>\n",
       "<tr>\n",
       "  <th>Dep. Variable:</th>     <td>HappinessScore</td>  <th>  R-squared:         </th> <td>   0.673</td>\n",
       "</tr>\n",
       "<tr>\n",
       "  <th>Model:</th>                   <td>OLS</td>       <th>  Adj. R-squared:    </th> <td>   0.665</td>\n",
       "</tr>\n",
       "<tr>\n",
       "  <th>Method:</th>             <td>Least Squares</td>  <th>  F-statistic:       </th> <td>   81.08</td>\n",
       "</tr>\n",
       "<tr>\n",
       "  <th>Date:</th>             <td>Tue, 19 Nov 2019</td> <th>  Prob (F-statistic):</th> <td>1.54e-28</td>\n",
       "</tr>\n",
       "<tr>\n",
       "  <th>Time:</th>                 <td>08:19:37</td>     <th>  Log-Likelihood:    </th> <td> -121.28</td>\n",
       "</tr>\n",
       "<tr>\n",
       "  <th>No. Observations:</th>      <td>   122</td>      <th>  AIC:               </th> <td>   250.6</td>\n",
       "</tr>\n",
       "<tr>\n",
       "  <th>Df Residuals:</th>          <td>   118</td>      <th>  BIC:               </th> <td>   261.8</td>\n",
       "</tr>\n",
       "<tr>\n",
       "  <th>Df Model:</th>              <td>     3</td>      <th>                     </th>     <td> </td>   \n",
       "</tr>\n",
       "<tr>\n",
       "  <th>Covariance Type:</th>      <td>nonrobust</td>    <th>                     </th>     <td> </td>   \n",
       "</tr>\n",
       "</table>\n",
       "<table class=\"simpletable\">\n",
       "<tr>\n",
       "          <td></td>            <th>coef</th>     <th>std err</th>      <th>t</th>      <th>P>|t|</th>  <th>[0.025</th>    <th>0.975]</th>  \n",
       "</tr>\n",
       "<tr>\n",
       "  <th>const</th>            <td>    0.6147</td> <td>    0.357</td> <td>    1.722</td> <td> 0.088</td> <td>   -0.092</td> <td>    1.321</td>\n",
       "</tr>\n",
       "<tr>\n",
       "  <th>HDI</th>              <td>    0.0069</td> <td>    0.001</td> <td>   12.442</td> <td> 0.000</td> <td>    0.006</td> <td>    0.008</td>\n",
       "</tr>\n",
       "<tr>\n",
       "  <th>Spirit_PerCapita</th> <td>   -0.0012</td> <td>    0.001</td> <td>   -1.505</td> <td> 0.135</td> <td>   -0.003</td> <td>    0.000</td>\n",
       "</tr>\n",
       "<tr>\n",
       "  <th>Wine_PerCapita</th>   <td>   -0.0010</td> <td>    0.001</td> <td>   -1.197</td> <td> 0.234</td> <td>   -0.003</td> <td>    0.001</td>\n",
       "</tr>\n",
       "</table>\n",
       "<table class=\"simpletable\">\n",
       "<tr>\n",
       "  <th>Omnibus:</th>       <td> 5.276</td> <th>  Durbin-Watson:     </th> <td>   1.348</td>\n",
       "</tr>\n",
       "<tr>\n",
       "  <th>Prob(Omnibus):</th> <td> 0.072</td> <th>  Jarque-Bera (JB):  </th> <td>   3.230</td>\n",
       "</tr>\n",
       "<tr>\n",
       "  <th>Skew:</th>          <td>-0.205</td> <th>  Prob(JB):          </th> <td>   0.199</td>\n",
       "</tr>\n",
       "<tr>\n",
       "  <th>Kurtosis:</th>      <td> 2.317</td> <th>  Cond. No.          </th> <td>4.54e+03</td>\n",
       "</tr>\n",
       "</table><br/><br/>Warnings:<br/>[1] Standard Errors assume that the covariance matrix of the errors is correctly specified.<br/>[2] The condition number is large, 4.54e+03. This might indicate that there are<br/>strong multicollinearity or other numerical problems."
      ],
      "text/plain": [
       "<class 'statsmodels.iolib.summary.Summary'>\n",
       "\"\"\"\n",
       "                            OLS Regression Results                            \n",
       "==============================================================================\n",
       "Dep. Variable:         HappinessScore   R-squared:                       0.673\n",
       "Model:                            OLS   Adj. R-squared:                  0.665\n",
       "Method:                 Least Squares   F-statistic:                     81.08\n",
       "Date:                Tue, 19 Nov 2019   Prob (F-statistic):           1.54e-28\n",
       "Time:                        08:19:37   Log-Likelihood:                -121.28\n",
       "No. Observations:                 122   AIC:                             250.6\n",
       "Df Residuals:                     118   BIC:                             261.8\n",
       "Df Model:                           3                                         \n",
       "Covariance Type:            nonrobust                                         \n",
       "====================================================================================\n",
       "                       coef    std err          t      P>|t|      [0.025      0.975]\n",
       "------------------------------------------------------------------------------------\n",
       "const                0.6147      0.357      1.722      0.088      -0.092       1.321\n",
       "HDI                  0.0069      0.001     12.442      0.000       0.006       0.008\n",
       "Spirit_PerCapita    -0.0012      0.001     -1.505      0.135      -0.003       0.000\n",
       "Wine_PerCapita      -0.0010      0.001     -1.197      0.234      -0.003       0.001\n",
       "==============================================================================\n",
       "Omnibus:                        5.276   Durbin-Watson:                   1.348\n",
       "Prob(Omnibus):                  0.072   Jarque-Bera (JB):                3.230\n",
       "Skew:                          -0.205   Prob(JB):                        0.199\n",
       "Kurtosis:                       2.317   Cond. No.                     4.54e+03\n",
       "==============================================================================\n",
       "\n",
       "Warnings:\n",
       "[1] Standard Errors assume that the covariance matrix of the errors is correctly specified.\n",
       "[2] The condition number is large, 4.54e+03. This might indicate that there are\n",
       "strong multicollinearity or other numerical problems.\n",
       "\"\"\""
      ]
     },
     "execution_count": 17,
     "metadata": {},
     "output_type": "execute_result"
    }
   ],
   "source": [
    "results = regress(X1,Y)\n",
    "results.summary()"
   ]
  },
  {
   "cell_type": "markdown",
   "metadata": {},
   "source": [
    "### Conclusão Segunda regressão\n",
    "Ao retirar as variáveis que possuiam o valor P mais alto, foi possível observar que a o valor de R ao quadrado não houve quase mudança e que o valor de P das variáveis Spirit_PerCapita e Wine_PerCapita ainda estão altos compraradas com o valor de 5%. Assim, para uma melhora dessa regressão seria retirar as variáveis com valor P maior que 5% e observar a consequência disso no valor de R ao quadrado."
   ]
  },
  {
   "cell_type": "markdown",
   "metadata": {},
   "source": [
    "## Terceira regressão\n",
    "* **Variável Independente(X)=** \n",
    "Hdi"
   ]
  },
  {
   "cell_type": "code",
   "execution_count": 18,
   "metadata": {},
   "outputs": [],
   "source": [
    "X2 = df[['HDI']]\n"
   ]
  },
  {
   "cell_type": "code",
   "execution_count": 19,
   "metadata": {
    "scrolled": false
   },
   "outputs": [
    {
     "data": {
      "text/html": [
       "<table class=\"simpletable\">\n",
       "<caption>OLS Regression Results</caption>\n",
       "<tr>\n",
       "  <th>Dep. Variable:</th>     <td>HappinessScore</td>  <th>  R-squared:         </th> <td>   0.664</td>\n",
       "</tr>\n",
       "<tr>\n",
       "  <th>Model:</th>                   <td>OLS</td>       <th>  Adj. R-squared:    </th> <td>   0.662</td>\n",
       "</tr>\n",
       "<tr>\n",
       "  <th>Method:</th>             <td>Least Squares</td>  <th>  F-statistic:       </th> <td>   237.7</td>\n",
       "</tr>\n",
       "<tr>\n",
       "  <th>Date:</th>             <td>Tue, 19 Nov 2019</td> <th>  Prob (F-statistic):</th> <td>3.10e-30</td>\n",
       "</tr>\n",
       "<tr>\n",
       "  <th>Time:</th>                 <td>08:19:39</td>     <th>  Log-Likelihood:    </th> <td> -122.91</td>\n",
       "</tr>\n",
       "<tr>\n",
       "  <th>No. Observations:</th>      <td>   122</td>      <th>  AIC:               </th> <td>   249.8</td>\n",
       "</tr>\n",
       "<tr>\n",
       "  <th>Df Residuals:</th>          <td>   120</td>      <th>  BIC:               </th> <td>   255.4</td>\n",
       "</tr>\n",
       "<tr>\n",
       "  <th>Df Model:</th>              <td>     1</td>      <th>                     </th>     <td> </td>   \n",
       "</tr>\n",
       "<tr>\n",
       "  <th>Covariance Type:</th>      <td>nonrobust</td>    <th>                     </th>     <td> </td>   \n",
       "</tr>\n",
       "</table>\n",
       "<table class=\"simpletable\">\n",
       "<tr>\n",
       "    <td></td>       <th>coef</th>     <th>std err</th>      <th>t</th>      <th>P>|t|</th>  <th>[0.025</th>    <th>0.975]</th>  \n",
       "</tr>\n",
       "<tr>\n",
       "  <th>const</th> <td>    0.8950</td> <td>    0.306</td> <td>    2.921</td> <td> 0.004</td> <td>    0.288</td> <td>    1.502</td>\n",
       "</tr>\n",
       "<tr>\n",
       "  <th>HDI</th>   <td>    0.0062</td> <td>    0.000</td> <td>   15.416</td> <td> 0.000</td> <td>    0.005</td> <td>    0.007</td>\n",
       "</tr>\n",
       "</table>\n",
       "<table class=\"simpletable\">\n",
       "<tr>\n",
       "  <th>Omnibus:</th>       <td> 3.079</td> <th>  Durbin-Watson:     </th> <td>   1.371</td>\n",
       "</tr>\n",
       "<tr>\n",
       "  <th>Prob(Omnibus):</th> <td> 0.214</td> <th>  Jarque-Bera (JB):  </th> <td>   2.572</td>\n",
       "</tr>\n",
       "<tr>\n",
       "  <th>Skew:</th>          <td>-0.242</td> <th>  Prob(JB):          </th> <td>   0.276</td>\n",
       "</tr>\n",
       "<tr>\n",
       "  <th>Kurtosis:</th>      <td> 2.479</td> <th>  Cond. No.          </th> <td>3.83e+03</td>\n",
       "</tr>\n",
       "</table><br/><br/>Warnings:<br/>[1] Standard Errors assume that the covariance matrix of the errors is correctly specified.<br/>[2] The condition number is large, 3.83e+03. This might indicate that there are<br/>strong multicollinearity or other numerical problems."
      ],
      "text/plain": [
       "<class 'statsmodels.iolib.summary.Summary'>\n",
       "\"\"\"\n",
       "                            OLS Regression Results                            \n",
       "==============================================================================\n",
       "Dep. Variable:         HappinessScore   R-squared:                       0.664\n",
       "Model:                            OLS   Adj. R-squared:                  0.662\n",
       "Method:                 Least Squares   F-statistic:                     237.7\n",
       "Date:                Tue, 19 Nov 2019   Prob (F-statistic):           3.10e-30\n",
       "Time:                        08:19:39   Log-Likelihood:                -122.91\n",
       "No. Observations:                 122   AIC:                             249.8\n",
       "Df Residuals:                     120   BIC:                             255.4\n",
       "Df Model:                           1                                         \n",
       "Covariance Type:            nonrobust                                         \n",
       "==============================================================================\n",
       "                 coef    std err          t      P>|t|      [0.025      0.975]\n",
       "------------------------------------------------------------------------------\n",
       "const          0.8950      0.306      2.921      0.004       0.288       1.502\n",
       "HDI            0.0062      0.000     15.416      0.000       0.005       0.007\n",
       "==============================================================================\n",
       "Omnibus:                        3.079   Durbin-Watson:                   1.371\n",
       "Prob(Omnibus):                  0.214   Jarque-Bera (JB):                2.572\n",
       "Skew:                          -0.242   Prob(JB):                        0.276\n",
       "Kurtosis:                       2.479   Cond. No.                     3.83e+03\n",
       "==============================================================================\n",
       "\n",
       "Warnings:\n",
       "[1] Standard Errors assume that the covariance matrix of the errors is correctly specified.\n",
       "[2] The condition number is large, 3.83e+03. This might indicate that there are\n",
       "strong multicollinearity or other numerical problems.\n",
       "\"\"\""
      ]
     },
     "execution_count": 19,
     "metadata": {},
     "output_type": "execute_result"
    }
   ],
   "source": [
    "results = regress(X2,Y)\n",
    "results.summary()"
   ]
  },
  {
   "cell_type": "markdown",
   "metadata": {},
   "source": [
    "### Conclusão Terceira regressão\n",
    "Ao deixar somente o HDI como variável independente, ou seja, sem nenhuma variável relacionada a álcool. Além disso, foi possível observar que mesmo sem nenhuma variável relacionada álcool o valor do r ao quadrado não foi muito alterado. Assim, é possível concluir que as variáveis relacionadas ao consumo de álcool não possuem relação com o índice de felicidade."
   ]
  },
  {
   "cell_type": "markdown",
   "metadata": {},
   "source": [
    "# Gráfico de VariáveisXHapiness\n",
    "A partir dos gráficos a seguir é possível observar a correlação entre cada variável e o índice de felicidade por meio de gráficos."
   ]
  },
  {
   "cell_type": "code",
   "execution_count": 25,
   "metadata": {},
   "outputs": [
    {
     "data": {
      "image/png": "[encoded data removed]",
      "text/plain": [
       "<Figure size 432x288 with 1 Axes>"
      ]
     },
     "metadata": {
      "needs_background": "light"
     },
     "output_type": "display_data"
    },
    {
     "data": {
      "image/png": "[encoded data removed]",
      "text/plain": [
       "<Figure size 432x288 with 1 Axes>"
      ]
     },
     "metadata": {
      "needs_background": "light"
     },
     "output_type": "display_data"
    },
    {
     "data": {
      "image/png": "[encoded data removed]",
      "text/plain": [
       "<Figure size 432x288 with 1 Axes>"
      ]
     },
     "metadata": {
      "needs_background": "light"
     },
     "output_type": "display_data"
    },
    {
     "data": {
      "image/png": "[encoded data removed]",
      "text/plain": [
       "<Figure size 432x288 with 1 Axes>"
      ]
     },
     "metadata": {
      "needs_background": "light"
     },
     "output_type": "display_data"
    },
    {
     "data": {
      "image/png": "[encoded data removed]",
      "text/plain": [
       "<Figure size 432x288 with 1 Axes>"
      ]
     },
     "metadata": {
      "needs_background": "light"
     },
     "output_type": "display_data"
    },
    {
     "data": {
      "image/png": "[encoded data removed]",
      "text/plain": [
       "<Figure size 432x288 with 1 Axes>"
      ]
     },
     "metadata": {
      "needs_background": "light"
     },
     "output_type": "display_data"
    }
   ],
   "source": [
    "y = df['HappinessScore']\n",
    "x = df['Spirit_PerCapita']   \n",
    "yb = y.mean()\n",
    "xb = x.mean()\n",
    "Sxy = ((x -xb)*(y -yb)).sum()\n",
    "Sxx = ((x -xb)**2).sum()\n",
    "b1 = Sxy/Sxx\n",
    "b0 = yb - b1*xb\n",
    "x_v = np.linspace(x.min(), x.max(), 500)\n",
    "y_v = b0 + b1*x_v\n",
    "plt.plot(x_v,y_v, color=\"r\") # resultados da regressão\n",
    "plt.scatter(x, y); # dados\n",
    "plt.ylabel(\"HappinessScore\");\n",
    "plt.xlabel(\"Spirit_PerCapita\");\n",
    "plt.show();\n",
    "\n",
    "\n",
    "y = df['HappinessScore'] \n",
    "x = df['Wine_PerCapita']    \n",
    "yb = y.mean()\n",
    "xb = x.mean()\n",
    "Sxy = ((x -xb)*(y -yb)).sum()\n",
    "Sxx = ((x -xb)**2).sum()\n",
    "b1 = Sxy/Sxx\n",
    "b0 = yb - b1*xb\n",
    "x_v = np.linspace(x.min(), x.max(), 500)\n",
    "y_v = b0 + b1*x_v\n",
    "plt.plot(x_v,y_v, color=\"r\") # resultados da regressão\n",
    "plt.scatter(x, y); # dados\n",
    "plt.ylabel(\"HappinessScore\");\n",
    "plt.xlabel(\"Wine_PerCapita\");\n",
    "plt.show();\n",
    "\n",
    "y = df['HappinessScore']\n",
    "x = df['GDP_PerCapita']   \n",
    "# x = np.log(x1)\n",
    "yb = y.mean()\n",
    "xb = x.mean()\n",
    "Sxy = ((x -xb)*(y -yb)).sum()\n",
    "Sxx = ((x -xb)**2).sum()\n",
    "b1 = Sxy/Sxx\n",
    "b0 = yb - b1*xb\n",
    "x_v = np.linspace(x.min(), x.max(), 500)\n",
    "y_v = b0 + b1*x_v\n",
    "plt.plot(x_v,y_v, color=\"r\") # resultados da regressão\n",
    "plt.scatter(x, y); # dados\n",
    "plt.ylabel(\"HappinessScore\");\n",
    "plt.xlabel(\"GDP_PerCapita\");\n",
    "plt.show();\n",
    "\n",
    "y = df['HappinessScore']\n",
    "x2 = df['GDP_PerCapita']   \n",
    "x = np.log(x1)\n",
    "yb = y.mean()\n",
    "xb = x.mean()\n",
    "Sxy = ((x -xb)*(y -yb)).sum()\n",
    "Sxx = ((x -xb)**2).sum()\n",
    "b1 = Sxy/Sxx\n",
    "b0 = yb - b1*xb\n",
    "x_v = np.linspace(x.min(), x.max(), 500)\n",
    "y_v = b0 + b1*x_v\n",
    "plt.plot(x_v,y_v, color=\"r\") # resultados da regressão\n",
    "plt.scatter(x, y); # dados\n",
    "plt.ylabel(\"HappinessScore\");\n",
    "plt.xlabel(\"GDP_PerCapita (log)\");\n",
    "plt.show();\n",
    "\n",
    "y = df['HappinessScore'] \n",
    "x = df['HDI'] \n",
    "yb = y.mean()\n",
    "xb = x.mean()\n",
    "Sxy = ((x -xb)*(y -yb)).sum()\n",
    "Sxx = ((x -xb)**2).sum()\n",
    "b1 = Sxy/Sxx\n",
    "b0 = yb - b1*xb\n",
    "x_v = np.linspace(x.min(), x.max(), 500)\n",
    "y_v = b0 + b1*x_v\n",
    "plt.plot(x_v,y_v, color=\"r\") # resultados da regressão\n",
    "plt.scatter(x, y); # dados\n",
    "plt.ylabel(\"HappinessScore\");\n",
    "plt.xlabel(\"HDI\");\n",
    "plt.show();\n",
    "\n",
    "y = df['HappinessScore'] \n",
    "x = df['Beer_PerCapita']    \n",
    "yb = y.mean()\n",
    "xb = x.mean()\n",
    "Sxy = ((x -xb)*(y -yb)).sum()\n",
    "Sxx = ((x -xb)**2).sum()\n",
    "b1 = Sxy/Sxx\n",
    "b0 = yb - b1*xb\n",
    "x_v = np.linspace(x.min(), x.max(), 500)\n",
    "y_v = b0 + b1*x_v\n",
    "plt.plot(x_v,y_v, color=\"r\") # resultados da regressão\n",
    "plt.scatter(x, y); # dados\n",
    "plt.ylabel(\"HappinessScore\");\n",
    "plt.xlabel(\"Beer_PerCapita\");\n",
    "plt.show();"
   ]
  },
  {
   "cell_type": "markdown",
   "metadata": {},
   "source": [
    "# Interpretação dos dados\n",
    "Ao tentar melhorar o desempenho da regressão foi retirado as variáveis com valor de P maiores, depois as variáveis com valor de P maior que 5% e foi possível observar que todas as variáveis que tinham ligação com o álcool foram retiradas, e que o valor de R ao quadrado não obteve uma grande mudança. \n",
    "\n",
    "O intuito de retriar as variávei com valor de P altos é devido o fato de quando o valor de P é baixo, quer dizer que a variável regressora é relevante para explicar a variável dependente. Assim, valores de P alto são mais irrelevantes na regressão, o que faz com que o valor de R ao quadrado não mude tanto ao retirar tais variáveis.\n",
    "\n",
    "Assim, é possível concluir que as variáveis que estão relacionadas com o consumo de álcool foram retiradas da regressão e o valor de R ao quadrado possuiu uma pequena alteração. Desta forma, é possivél concluir que o álcool não possui relação com a felicidade e que a variável HDI é a que possui uma maior influência no índice de felicidade.\n"
   ]
  },
  {
   "cell_type": "markdown",
   "metadata": {},
   "source": [
    "# Teste"
   ]
  },
  {
   "cell_type": "code",
   "execution_count": 21,
   "metadata": {},
   "outputs": [],
   "source": [
    "from sklearn.model_selection import train_test_split\n",
    "from sklearn.linear_model import LinearRegression\n",
    "model = LinearRegression().fit(X_train,y_train)"
   ]
  },
  {
   "cell_type": "code",
   "execution_count": 22,
   "metadata": {},
   "outputs": [],
   "source": [
    "# y_predict = model.predict(X_test)"
   ]
  },
  {
   "cell_type": "code",
   "execution_count": 23,
   "metadata": {
    "scrolled": true
   },
   "outputs": [
    {
     "data": {
      "text/plain": [
       "array([6.43615858, 5.39968522, 5.60648067, 3.44764204, 6.72982633,\n",
       "       5.0738702 , 5.9324452 , 3.42529359, 5.22831834, 6.53821721,\n",
       "       6.18927254, 4.2073435 , 6.63512471])"
      ]
     },
     "execution_count": 23,
     "metadata": {},
     "output_type": "execute_result"
    }
   ],
   "source": [
    "y_predict = model.predict(X_test)\n",
    "y_predict"
   ]
  },
  {
   "cell_type": "code",
   "execution_count": 24,
   "metadata": {},
   "outputs": [],
   "source": [
    "erro=[]\n",
    "for i,e in zip(y_predict,y_test):\n",
    "    if i<e:\n",
    "     diferenca= e-i\n",
    "     erro.append(diferenca)\n",
    "    else:\n",
    "     diferenca= i-e\n",
    "     erro.append(diferenca)\n",
    "\n",
    "classificacao=[]\n",
    "for erros in erro: \n",
    "    if erros< 0.5: \n",
    "        classfi= 'Certo'\n",
    "        classificacao.append(classfi)\n",
    "    else:\n",
    "        classfi= 'Errado'\n",
    "        classificacao.append(classfi)"
   ]
  },
  {
   "cell_type": "code",
   "execution_count": 25,
   "metadata": {},
   "outputs": [
    {
     "data": {
      "text/html": [
       "<div>\n",
       "<style scoped>\n",
       "    .dataframe tbody tr th:only-of-type {\n",
       "        vertical-align: middle;\n",
       "    }\n",
       "\n",
       "    .dataframe tbody tr th {\n",
       "        vertical-align: top;\n",
       "    }\n",
       "\n",
       "    .dataframe thead th {\n",
       "        text-align: right;\n",
       "    }\n",
       "</style>\n",
       "<table border=\"1\" class=\"dataframe\">\n",
       "  <thead>\n",
       "    <tr style=\"text-align: right;\">\n",
       "      <th></th>\n",
       "      <th>Y_predict</th>\n",
       "      <th>Y_test</th>\n",
       "      <th>Erro</th>\n",
       "      <th>Classificação</th>\n",
       "    </tr>\n",
       "  </thead>\n",
       "  <tbody>\n",
       "    <tr>\n",
       "      <th>18</th>\n",
       "      <td>6.436159</td>\n",
       "      <td>6.871</td>\n",
       "      <td>0.434841</td>\n",
       "      <td>Certo</td>\n",
       "    </tr>\n",
       "    <tr>\n",
       "      <th>45</th>\n",
       "      <td>5.399685</td>\n",
       "      <td>5.956</td>\n",
       "      <td>0.556315</td>\n",
       "      <td>Errado</td>\n",
       "    </tr>\n",
       "    <tr>\n",
       "      <th>47</th>\n",
       "      <td>5.606481</td>\n",
       "      <td>5.919</td>\n",
       "      <td>0.312519</td>\n",
       "      <td>Certo</td>\n",
       "    </tr>\n",
       "    <tr>\n",
       "      <th>89</th>\n",
       "      <td>3.447642</td>\n",
       "      <td>4.635</td>\n",
       "      <td>1.187358</td>\n",
       "      <td>Errado</td>\n",
       "    </tr>\n",
       "    <tr>\n",
       "      <th>4</th>\n",
       "      <td>6.729826</td>\n",
       "      <td>7.413</td>\n",
       "      <td>0.683174</td>\n",
       "      <td>Errado</td>\n",
       "    </tr>\n",
       "    <tr>\n",
       "      <th>40</th>\n",
       "      <td>5.073870</td>\n",
       "      <td>6.068</td>\n",
       "      <td>0.994130</td>\n",
       "      <td>Errado</td>\n",
       "    </tr>\n",
       "    <tr>\n",
       "      <th>62</th>\n",
       "      <td>5.932445</td>\n",
       "      <td>5.528</td>\n",
       "      <td>0.404445</td>\n",
       "      <td>Certo</td>\n",
       "    </tr>\n",
       "    <tr>\n",
       "      <th>107</th>\n",
       "      <td>3.425294</td>\n",
       "      <td>4.028</td>\n",
       "      <td>0.602706</td>\n",
       "      <td>Errado</td>\n",
       "    </tr>\n",
       "    <tr>\n",
       "      <th>31</th>\n",
       "      <td>5.228318</td>\n",
       "      <td>6.474</td>\n",
       "      <td>1.245682</td>\n",
       "      <td>Errado</td>\n",
       "    </tr>\n",
       "    <tr>\n",
       "      <th>55</th>\n",
       "      <td>6.538217</td>\n",
       "      <td>5.768</td>\n",
       "      <td>0.770217</td>\n",
       "      <td>Errado</td>\n",
       "    </tr>\n",
       "    <tr>\n",
       "      <th>53</th>\n",
       "      <td>6.189273</td>\n",
       "      <td>5.813</td>\n",
       "      <td>0.376273</td>\n",
       "      <td>Certo</td>\n",
       "    </tr>\n",
       "    <tr>\n",
       "      <th>119</th>\n",
       "      <td>4.207343</td>\n",
       "      <td>3.484</td>\n",
       "      <td>0.723343</td>\n",
       "      <td>Errado</td>\n",
       "    </tr>\n",
       "    <tr>\n",
       "      <th>10</th>\n",
       "      <td>6.635125</td>\n",
       "      <td>7.267</td>\n",
       "      <td>0.631875</td>\n",
       "      <td>Errado</td>\n",
       "    </tr>\n",
       "  </tbody>\n",
       "</table>\n",
       "</div>"
      ],
      "text/plain": [
       "     Y_predict  Y_test      Erro Classificação\n",
       "18    6.436159   6.871  0.434841         Certo\n",
       "45    5.399685   5.956  0.556315        Errado\n",
       "47    5.606481   5.919  0.312519         Certo\n",
       "89    3.447642   4.635  1.187358        Errado\n",
       "4     6.729826   7.413  0.683174        Errado\n",
       "40    5.073870   6.068  0.994130        Errado\n",
       "62    5.932445   5.528  0.404445         Certo\n",
       "107   3.425294   4.028  0.602706        Errado\n",
       "31    5.228318   6.474  1.245682        Errado\n",
       "55    6.538217   5.768  0.770217        Errado\n",
       "53    6.189273   5.813  0.376273         Certo\n",
       "119   4.207343   3.484  0.723343        Errado\n",
       "10    6.635125   7.267  0.631875        Errado"
      ]
     },
     "execution_count": 25,
     "metadata": {},
     "output_type": "execute_result"
    }
   ],
   "source": [
    "data = {\n",
    "'Y_predict': y_predict,\n",
    "'Y_test': y_test,\n",
    "'Erro': erro, \n",
    "'Classificação': classificacao,\n",
    "}\n",
    "tabela = pd.DataFrame(data, columns=['Y_predict', 'Y_test','Erro','Classificação'])\n",
    "tabela"
   ]
  },
  {
   "cell_type": "code",
   "execution_count": 26,
   "metadata": {},
   "outputs": [
    {
     "name": "stdout",
     "output_type": "stream",
     "text": [
      "A regressão linear acertou 30.76923076923077%\n"
     ]
    }
   ],
   "source": [
    "contador=0\n",
    "for c in classificacao: \n",
    "    if c == \"Certo\": \n",
    "        contador+=1\n",
    "acertou=(contador/len(classificacao))*100\n",
    "print(\"A regressão linear acertou {0}%\".format(acertou))"
   ]
  },
  {
   "cell_type": "markdown",
   "metadata": {},
   "source": [
    "# Conclusão\n",
    "\n",
    "A partir do modelo de regressão linear foi possível obter um acerto de 30,76%. Assim, com intuito de melhorar a resgressão a próxima interação será feita a partir da busca de mais variáveis que tem influência para a felicidade da população de cada país.\n",
    "\n",
    "Além disso, será feito outras técnicas de regressões para analisar e aprimorar nosso modelo, para que fique mais preciso possível."
   ]
  }
 ],
 "metadata": {
  "kernelspec": {
   "display_name": "Python 3",
   "language": "python",
   "name": "python3"
  },
  "language_info": {
   "codemirror_mode": {
    "name": "ipython",
    "version": 3
   },
   "file_extension": ".py",
   "mimetype": "text/x-python",
   "name": "python",
   "nbconvert_exporter": "python",
   "pygments_lexer": "ipython3",
   "version": "3.7.1"
  }
 },
 "nbformat": 4,
 "nbformat_minor": 2
}
