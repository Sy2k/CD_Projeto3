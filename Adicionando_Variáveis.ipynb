{
 "cells": [
  {
   "cell_type": "markdown",
   "metadata": {},
   "source": [
    "---\n",
    "\n",
    "# Adicionando variáveis \n",
    "\n",
    "#### Grupo: Isadora Dalberto, Lais da Silva, Gabriela Moreno e Stephanie Liu\n",
    "\n",
    "---"
   ]
  },
  {
   "cell_type": "markdown",
   "metadata": {},
   "source": [
    "## Lendo Arquivos"
   ]
  },
  {
   "cell_type": "code",
   "execution_count": 2,
   "metadata": {},
   "outputs": [],
   "source": [
    "%matplotlib inline\n",
    "import pandas as pd\n",
    "import seaborn as sns\n",
    "import math as math\n",
    "from scipy import stats\n",
    "import matplotlib.pyplot as plt"
   ]
  },
  {
   "cell_type": "code",
   "execution_count": 3,
   "metadata": {},
   "outputs": [],
   "source": [
    "#lendo arquivos\n",
    "mortalidade_infantil = pd.read_excel('child_mortality_0_5_year_olds_dying_per_1000_born.xlsx')\n",
    "inflacao = pd.read_excel('inflation_annual_percent.xlsx')\n",
    "crianca_p_mulher = pd.read_excel('children_per_woman_total_fertility.xlsx')\n",
    "expectativa_vida = pd.read_excel('life_expectancy_years.xlsx')\n",
    "desemprego = pd.read_excel('DadoDeDesemprego.xls', sheet_name=\"Data\", skiprows=3)"
   ]
  },
  {
   "cell_type": "code",
   "execution_count": 4,
   "metadata": {},
   "outputs": [],
   "source": [
    "#Colocar index e pegar o ano de 2016 - Mortalidade Infantil \n",
    "mort_infantil=mortalidade_infantil.set_index(\"country\")\n",
    "mort_infantil_2016 = mort_infantil.loc[:, [2016]]\n",
    "\n",
    "#Colocar index e pegar o ano de 2016 - Inflação\n",
    "infla=inflacao.set_index(\"country\")\n",
    "infla_2016 = infla.loc[:, [2016]]\n",
    "\n",
    "#Colocar index e pegar o ano de 2016 -Criança por Mulher\n",
    "crianca_mulher=crianca_p_mulher.set_index(\"country\")\n",
    "crianca_mulher_2016 = crianca_mulher.loc[:, [2016]]\n",
    "\n",
    "#Colocar index e pegar o ano de 2016 - Expectativa de vida \n",
    "expec_vida=expectativa_vida.set_index(\"country\")\n",
    "expec_vida_2016 = expec_vida.loc[:, [2016]]\n",
    "\n",
    "#Colocar index e pegar o ano de 2016 - Desemprego \n",
    "desemp_2016 = desemprego.loc[:, [\"Country Name\" ,\"2016\"]]\n",
    "desemp_2016=desemp_2016.set_index(\"Country Name\")"
   ]
  },
  {
   "cell_type": "code",
   "execution_count": 5,
   "metadata": {},
   "outputs": [],
   "source": [
    "#juntando tabelas\n",
    "df = mort_infantil_2016.join(infla_2016, how='inner', lsuffix='_mortalidade', rsuffix='_inflação')\n",
    "df1 = df.join(crianca_mulher_2016, how=\"inner\")\n",
    "df1.columns = ['Mortalidade', 'Inflação', 'Criança p/ Mulher']\n",
    "df2 = df1.join(expec_vida_2016, how=\"inner\")\n",
    "df2.columns = ['Mortalidade', 'Inflação', 'Criança p/ Mulher', 'Expec de Vida']\n",
    "df3= df2.join(desemp_2016, how=\"inner\")\n",
    "df3.columns = ['Mortalidade', 'Inflação', 'Criança p/ Mulher', 'Expec de Vida', 'Desemprego']\n",
    "\n",
    "#tirando valores nulos\n",
    "df3=df3.dropna()"
   ]
  },
  {
   "cell_type": "code",
   "execution_count": 6,
   "metadata": {},
   "outputs": [],
   "source": [
    "#lendo dados Felicidade e álcool \n",
    "dados = pd.read_excel(\"HappinessAlcoholConsumption.xls\")\n",
    "\n",
    "#Arrumando Index\n",
    "dados_indice = dados.set_index(\"Country\")"
   ]
  },
  {
   "cell_type": "code",
   "execution_count": 7,
   "metadata": {},
   "outputs": [],
   "source": [
    "#Juntando Todas as Tabelas\n",
    "tudo= dados_indice.join(df3, how=\"inner\")"
   ]
  },
  {
   "cell_type": "markdown",
   "metadata": {},
   "source": [
    "# COLOCANDO EM UMA CAIXA"
   ]
  },
  {
   "cell_type": "code",
   "execution_count": 8,
   "metadata": {},
   "outputs": [],
   "source": [
    "#lendo arquivos\n",
    "mortalidade_infantil = pd.read_excel('child_mortality_0_5_year_olds_dying_per_1000_born.xlsx')\n",
    "inflacao = pd.read_excel('inflation_annual_percent.xlsx')\n",
    "crianca_p_mulher = pd.read_excel('children_per_woman_total_fertility.xlsx')\n",
    "expectativa_vida = pd.read_excel('life_expectancy_years.xlsx')\n",
    "desemprego = pd.read_excel('DadoDeDesemprego.xls', sheet_name=\"Data\", skiprows=3)\n",
    "#Colocar index e pegar o ano de 2016 - Mortalidade Infantil \n",
    "mort_infantil=mortalidade_infantil.set_index(\"country\")\n",
    "mort_infantil_2016 = mort_infantil.loc[:, [2016]]\n",
    "\n",
    "#Colocar index e pegar o ano de 2016 - Inflação\n",
    "infla=inflacao.set_index(\"country\")\n",
    "infla_2016 = infla.loc[:, [2016]]\n",
    "\n",
    "#Colocar index e pegar o ano de 2016 -Criança por Mulher\n",
    "crianca_mulher=crianca_p_mulher.set_index(\"country\")\n",
    "crianca_mulher_2016 = crianca_mulher.loc[:, [2016]]\n",
    "\n",
    "#Colocar index e pegar o ano de 2016 - Expectativa de vida \n",
    "expec_vida=expectativa_vida.set_index(\"country\")\n",
    "expec_vida_2016 = expec_vida.loc[:, [2016]]\n",
    "\n",
    "#Colocar index e pegar o ano de 2016 - Desemprego \n",
    "desemp_2016 = desemprego.loc[:, [\"Country Name\" ,\"2016\"]]\n",
    "desemp_2016=desemp_2016.set_index(\"Country Name\")\n",
    "#juntando tabelas\n",
    "df = mort_infantil_2016.join(infla_2016, how='inner', lsuffix='_mortalidade', rsuffix='_inflação')\n",
    "df1 = df.join(crianca_mulher_2016, how=\"inner\")\n",
    "df1.columns = ['Mortalidade', 'Inflação', 'Criança p/ Mulher']\n",
    "df2 = df1.join(expec_vida_2016, how=\"inner\")\n",
    "df2.columns = ['Mortalidade', 'Inflação', 'Criança p/ Mulher', 'Expec de Vida']\n",
    "df3= df2.join(desemp_2016, how=\"inner\")\n",
    "df3.columns = ['Mortalidade', 'Inflação', 'Criança p/ Mulher', 'Expec de Vida', 'Desemprego']\n",
    "\n",
    "#tirando valores nulos\n",
    "df3=df3.dropna()\n",
    "#lendo dados Felicidade e álcool \n",
    "dados = pd.read_excel(\"HappinessAlcoholConsumption.xls\")\n",
    "\n",
    "#Arrumando Index\n",
    "dados_indice = dados.set_index(\"Country\")\n",
    "tudo= dados_indice.join(df3, how=\"inner\")\n",
    "\n",
    "data = tudo\n",
    "data.to_excel(\"DadosTodasAsVariaveis.xlsx\")"
   ]
  },
  {
   "cell_type": "code",
   "execution_count": null,
   "metadata": {},
   "outputs": [],
   "source": []
  }
 ],
 "metadata": {
  "kernelspec": {
   "display_name": "Python 3",
   "language": "python",
   "name": "python3"
  },
  "language_info": {
   "codemirror_mode": {
    "name": "ipython",
    "version": 3
   },
   "file_extension": ".py",
   "mimetype": "text/x-python",
   "name": "python",
   "nbconvert_exporter": "python",
   "pygments_lexer": "ipython3",
   "version": "3.7.1"
  }
 },
 "nbformat": 4,
 "nbformat_minor": 2
}
