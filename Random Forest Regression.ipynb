{
 "cells": [
  {
   "cell_type": "markdown",
   "metadata": {},
   "source": [
    "## Randon Forest Regression"
   ]
  },
  {
   "cell_type": "code",
   "execution_count": null,
   "metadata": {},
   "outputs": [],
   "source": [
    "# Importa as bibliotecas utilizadas no projeto\n",
    "import pandas as pd\n",
    "import numpy as np\n",
    "\n",
    "from sklearn.ensemble import RandomForestRegressor\n",
    "from sklearn.model_selection import train_test_split\n",
    "# from sklearn.datasets import make_regression\n",
    "\n",
    "# Seta um valor para o random seed\n",
    "RANDOM_SEED = 42\n",
    "np.random.seed(RANDOM_SEED)"
   ]
  },
  {
   "cell_type": "markdown",
   "metadata": {},
   "source": [
    "Para a realização do projeto, assim como visto com o Decision Tree, foi utilizada a biblioteca skylearn já que ela possui funções relativas a Random Forest Regressor."
   ]
  },
  {
   "cell_type": "code",
   "execution_count": null,
   "metadata": {},
   "outputs": [],
   "source": [
    "# Seta as colunas da nossa tabela\n",
    "colunas=[\"Country\",\"Region\",\"Hemisphere\",\"HappinessScore\",\"HDI\",\"GPD_PerCapita\",\"Beer_PerCapita\",\"Spirit_PerCapita\",\"Wine_PerCapita\"]\n",
    "\n",
    "# Importa a base de dados \"HappinessAlcoholConsumprion.xls\"\n",
    "dados = pd.read_excel(\"HappinessAlcoholConsumption.xls\", header=None, names=colunas)\n",
    "dados = dados.iloc[1:,] #retira a primeira coluna\n",
    "dados.head(3) #printa os dados"
   ]
  },
  {
   "cell_type": "code",
   "execution_count": null,
   "metadata": {},
   "outputs": [],
   "source": [
    "# Seleciona quais serão as colunas de estudo\n",
    "feature_cols = [\"HDI\",\"GPD_PerCapita\",\"Beer_PerCapita\",\"Spirit_PerCapita\",\"Wine_PerCapita\"]\n",
    "X = dados[feature_cols]\n",
    "y = dados.HappinessScore"
   ]
  },
  {
   "cell_type": "code",
   "execution_count": null,
   "metadata": {},
   "outputs": [],
   "source": [
    "# Separa os dados em 90% treino e 10% teste\n",
    "X_train, X_test, y_train, y_test = train_test_split(X, y, test_size=0.1, random_state=RANDOM_SEED) "
   ]
  },
  {
   "cell_type": "code",
   "execution_count": null,
   "metadata": {},
   "outputs": [],
   "source": [
    "#Faz o Random Forest Regression\n",
    "dt2 = RandomForestRegressor(n_estimators=1000, random_state=RANDOM_SEED)\n",
    "\n",
    "dt2 = dt2.fit(X_train,y_train)\n",
    "\n",
    "y_pred = dt2.predict(X_test)"
   ]
  },
  {
   "cell_type": "code",
   "execution_count": null,
   "metadata": {},
   "outputs": [],
   "source": [
    "# Calculando a diferença entre o valor do teste e do treinamento\n",
    "erro=[]\n",
    "for i,e in zip(y_pred,y_test):\n",
    "    if i<e:\n",
    "     diferenca= e-i\n",
    "     erro.append(diferenca)\n",
    "    else:\n",
    "     diferenca= i-e\n",
    "     erro.append(diferenca)\n",
    "\n",
    "classificacao=[]\n",
    "for erros in erro: \n",
    "    if erros< 0.5: \n",
    "        classfi= 'Certo'\n",
    "        classificacao.append(classfi)\n",
    "    else:\n",
    "        classfi= 'Errado'\n",
    "        classificacao.append(classfi)\n",
    "    \n",
    "data = {\n",
    "'Y_pred': y_pred,\n",
    "'Y_test': y_test,\n",
    "'Erro': erro, \n",
    "'Classificação': classificacao,\n",
    "}\n",
    "tabela = pd.DataFrame(data, columns=['Y_pred', 'Y_test','Erro','Classificação' ]) # Cria uma tabela\n",
    "\n",
    "contador=0\n",
    "for c in classificacao: \n",
    "    if c == \"Certo\": \n",
    "        contador+=1\n",
    "acertou=(contador/len(classificacao))*100\n",
    "print(\"O Random Forest acertou {0}%\".format(acertou))"
   ]
  }
 ],
 "metadata": {
  "kernelspec": {
   "display_name": "Python 3",
   "language": "python",
   "name": "python3"
  },
  "language_info": {
   "codemirror_mode": {
    "name": "ipython",
    "version": 3
   },
   "file_extension": ".py",
   "mimetype": "text/x-python",
   "name": "python",
   "nbconvert_exporter": "python",
   "pygments_lexer": "ipython3",
   "version": "3.7.1"
  }
 },
 "nbformat": 4,
 "nbformat_minor": 2
}
