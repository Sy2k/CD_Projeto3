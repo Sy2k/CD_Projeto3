{
 "cells": [
  {
   "cell_type": "markdown",
   "metadata": {},
   "source": [
    "---\n",
    "\n",
    "# Regressão Linear\n",
    "\n",
    "#### Grupo: Isadora Dalberto, Lais da Silva, Gabriela Moreno e Stephanie Liu\n",
    "\n",
    "---"
   ]
  },
  {
   "cell_type": "markdown",
   "metadata": {},
   "source": [
    "## Base Teste"
   ]
  },
  {
   "cell_type": "code",
   "execution_count": 2,
   "metadata": {},
   "outputs": [],
   "source": [
    "from sklearn.model_selection import train_test_split\n",
    "import numpy as np\n",
    "import pandas as pd\n",
    "from sklearn.metrics import accuracy_score\n",
    "\n",
    "RANDOM_SEED = 42\n",
    "np.random.seed(RANDOM_SEED)"
   ]
  },
  {
   "cell_type": "code",
   "execution_count": 48,
   "metadata": {},
   "outputs": [],
   "source": [
    "dados = pd.read_excel(\"HappinessAlcoholConsumption.xls\")"
   ]
  },
  {
   "cell_type": "markdown",
   "metadata": {},
   "source": [
    "## Treinamento"
   ]
  },
  {
   "cell_type": "code",
   "execution_count": 4,
   "metadata": {},
   "outputs": [],
   "source": [
    "# --------------- Importando biblotecas ---------------\n",
    "%matplotlib inline\n",
    "import numpy as np\n",
    "import pandas as pd\n",
    "import matplotlib\n",
    "import matplotlib.pyplot as plt\n",
    "import seaborn as sns\n",
    "import os\n",
    "from scipy.stats import norm, probplot\n",
    "import statsmodels.api as sm\n",
    "from mpl_toolkits.mplot3d import Axes3D\n",
    "from scipy import stats\n"
   ]
  },
  {
   "cell_type": "code",
   "execution_count": 5,
   "metadata": {},
   "outputs": [],
   "source": [
    "# --------------- Leitura dos dados ---------------\n",
    "dados = pd.read_excel(\"HappinessAlcoholConsumption.xls\")"
   ]
  },
  {
   "cell_type": "code",
   "execution_count": 6,
   "metadata": {},
   "outputs": [],
   "source": [
    "# --------------- Colocando Indice ---------------\n",
    "dados_indice = dados.set_index(\"Country\")"
   ]
  },
  {
   "cell_type": "code",
   "execution_count": 7,
   "metadata": {},
   "outputs": [],
   "source": [
    "### Função utilitária para fazer a regressão com constante adicionada\n",
    "def regress(X,Y):\n",
    "    X_cp = sm.add_constant(X)\n",
    "    model = sm.OLS(Y,X_cp)\n",
    "    results = model.fit()\n",
    "    return results"
   ]
  },
  {
   "cell_type": "code",
   "execution_count": 50,
   "metadata": {},
   "outputs": [],
   "source": [
    "# --------------- DEF para acuracia --------------- \n",
    "def Erro(y_previsto,y_base_teste):\n",
    "    lista_erro = []\n",
    "    for i,e in zip(y_previsto,y_base_teste):\n",
    "        if i < e:\n",
    "            dif = e-i\n",
    "            lista_erro.append(dif)\n",
    "        else: \n",
    "            dif = i-e\n",
    "            lista_erro.append(dif)\n",
    "    return lista_erro\n",
    "\n",
    "def Classificador(lista_erro):\n",
    "    lista_classificacao = []\n",
    "    for erros in lista_erro:\n",
    "        if erros<0.5:\n",
    "            classifica = 'Certo'\n",
    "            lista_classificacao.append(classifica)\n",
    "        else:\n",
    "            classifica = 'Errado'\n",
    "            lista_classificacao.append(classifica)\n",
    "    return lista_classificacao \n",
    "\n",
    "def Acuracia(Classificador,Erro,y_predict,y_test):\n",
    "    data = {\n",
    "    'Y_predict': y_predict,\n",
    "    'Y_test': y_test,\n",
    "    'Erro': Erro, \n",
    "    'Classificação': Classificador,\n",
    "    }\n",
    "    tabela = pd.DataFrame(data, columns=['Y_predict', 'Y_test','Erro','Classificação'])\n",
    "    tabela.head(5)\n",
    "    contador=0\n",
    "    for c in Classificador: \n",
    "        if c == \"Certo\": \n",
    "            contador+=1\n",
    "    acertou=(contador/len(Classificador))*100\n",
    "    return acertou "
   ]
  },
  {
   "cell_type": "code",
   "execution_count": 8,
   "metadata": {},
   "outputs": [
    {
     "data": {
      "text/plain": [
       "Index(['Region', 'Hemisphere', 'HappinessScore', 'HDI', 'GDP_PerCapita',\n",
       "       'Beer_PerCapita', 'Spirit_PerCapita', 'Wine_PerCapita'],\n",
       "      dtype='object')"
      ]
     },
     "execution_count": 8,
     "metadata": {},
     "output_type": "execute_result"
    }
   ],
   "source": [
    "dados_indice.columns"
   ]
  },
  {
   "cell_type": "markdown",
   "metadata": {},
   "source": [
    "### Usando as variáveis quantitativas \n",
    "HappinessScore, HDI, GDP_PerCapita, Beer_PerCapita, Spirit_PerCapita, Wine_PerCapita"
   ]
  },
  {
   "cell_type": "code",
   "execution_count": 9,
   "metadata": {},
   "outputs": [],
   "source": [
    "df = dados_indice[['HappinessScore', 'HDI','GDP_PerCapita', 'Beer_PerCapita', 'Spirit_PerCapita','Wine_PerCapita']]"
   ]
  },
  {
   "cell_type": "markdown",
   "metadata": {},
   "source": [
    "### Variável Dependente e Independente \n",
    "\n",
    "* **Dependente(Y):**\n",
    "Indice de Felicidade (HappinessScore) como resposta (dependente).\n",
    "\n",
    "* **Independente(X):**\n",
    "Demais variáveis como explicativas."
   ]
  },
  {
   "cell_type": "markdown",
   "metadata": {},
   "source": [
    "## Primeira regressão\n",
    "* **Variável Independente(X)=** \n",
    "todas as variáveis quantitativas"
   ]
  },
  {
   "cell_type": "code",
   "execution_count": 10,
   "metadata": {},
   "outputs": [],
   "source": [
    "Y = df['HappinessScore']"
   ]
  },
  {
   "cell_type": "code",
   "execution_count": 111,
   "metadata": {},
   "outputs": [],
   "source": [
    "X = df[['HDI','GDP_PerCapita','Beer_PerCapita','Spirit_PerCapita','Wine_PerCapita']]"
   ]
  },
  {
   "cell_type": "code",
   "execution_count": 12,
   "metadata": {},
   "outputs": [
    {
     "name": "stderr",
     "output_type": "stream",
     "text": [
      "C:\\Users\\Gabi_XPS\\Anaconda3\\lib\\site-packages\\numpy\\core\\fromnumeric.py:2389: FutureWarning: Method .ptp is deprecated and will be removed in a future version. Use numpy.ptp instead.\n",
      "  return ptp(axis=axis, out=out, **kwargs)\n"
     ]
    },
    {
     "data": {
      "text/html": [
       "<table class=\"simpletable\">\n",
       "<caption>OLS Regression Results</caption>\n",
       "<tr>\n",
       "  <th>Dep. Variable:</th>     <td>HappinessScore</td>  <th>  R-squared:         </th> <td>   0.677</td>\n",
       "</tr>\n",
       "<tr>\n",
       "  <th>Model:</th>                   <td>OLS</td>       <th>  Adj. R-squared:    </th> <td>   0.663</td>\n",
       "</tr>\n",
       "<tr>\n",
       "  <th>Method:</th>             <td>Least Squares</td>  <th>  F-statistic:       </th> <td>   48.55</td>\n",
       "</tr>\n",
       "<tr>\n",
       "  <th>Date:</th>             <td>Thu, 21 Nov 2019</td> <th>  Prob (F-statistic):</th> <td>7.05e-27</td>\n",
       "</tr>\n",
       "<tr>\n",
       "  <th>Time:</th>                 <td>08:18:55</td>     <th>  Log-Likelihood:    </th> <td> -120.66</td>\n",
       "</tr>\n",
       "<tr>\n",
       "  <th>No. Observations:</th>      <td>   122</td>      <th>  AIC:               </th> <td>   253.3</td>\n",
       "</tr>\n",
       "<tr>\n",
       "  <th>Df Residuals:</th>          <td>   116</td>      <th>  BIC:               </th> <td>   270.1</td>\n",
       "</tr>\n",
       "<tr>\n",
       "  <th>Df Model:</th>              <td>     5</td>      <th>                     </th>     <td> </td>   \n",
       "</tr>\n",
       "<tr>\n",
       "  <th>Covariance Type:</th>      <td>nonrobust</td>    <th>                     </th>     <td> </td>   \n",
       "</tr>\n",
       "</table>\n",
       "<table class=\"simpletable\">\n",
       "<tr>\n",
       "          <td></td>            <th>coef</th>     <th>std err</th>      <th>t</th>      <th>P>|t|</th>  <th>[0.025</th>    <th>0.975]</th>  \n",
       "</tr>\n",
       "<tr>\n",
       "  <th>const</th>            <td>    0.4899</td> <td>    0.461</td> <td>    1.063</td> <td> 0.290</td> <td>   -0.423</td> <td>    1.403</td>\n",
       "</tr>\n",
       "<tr>\n",
       "  <th>HDI</th>              <td>    0.0069</td> <td>    0.001</td> <td>   10.196</td> <td> 0.000</td> <td>    0.006</td> <td>    0.008</td>\n",
       "</tr>\n",
       "<tr>\n",
       "  <th>GDP_PerCapita</th>    <td>    0.0002</td> <td>    0.000</td> <td>    0.672</td> <td> 0.503</td> <td>   -0.000</td> <td>    0.001</td>\n",
       "</tr>\n",
       "<tr>\n",
       "  <th>Beer_PerCapita</th>   <td>    0.0007</td> <td>    0.001</td> <td>    0.912</td> <td> 0.363</td> <td>   -0.001</td> <td>    0.002</td>\n",
       "</tr>\n",
       "<tr>\n",
       "  <th>Spirit_PerCapita</th> <td>   -0.0014</td> <td>    0.001</td> <td>   -1.655</td> <td> 0.101</td> <td>   -0.003</td> <td>    0.000</td>\n",
       "</tr>\n",
       "<tr>\n",
       "  <th>Wine_PerCapita</th>   <td>   -0.0014</td> <td>    0.001</td> <td>   -1.471</td> <td> 0.144</td> <td>   -0.003</td> <td>    0.000</td>\n",
       "</tr>\n",
       "</table>\n",
       "<table class=\"simpletable\">\n",
       "<tr>\n",
       "  <th>Omnibus:</th>       <td> 5.197</td> <th>  Durbin-Watson:     </th> <td>   1.396</td>\n",
       "</tr>\n",
       "<tr>\n",
       "  <th>Prob(Omnibus):</th> <td> 0.074</td> <th>  Jarque-Bera (JB):  </th> <td>   3.098</td>\n",
       "</tr>\n",
       "<tr>\n",
       "  <th>Skew:</th>          <td>-0.185</td> <th>  Prob(JB):          </th> <td>   0.212</td>\n",
       "</tr>\n",
       "<tr>\n",
       "  <th>Kurtosis:</th>      <td> 2.312</td> <th>  Cond. No.          </th> <td>5.98e+03</td>\n",
       "</tr>\n",
       "</table><br/><br/>Warnings:<br/>[1] Standard Errors assume that the covariance matrix of the errors is correctly specified.<br/>[2] The condition number is large, 5.98e+03. This might indicate that there are<br/>strong multicollinearity or other numerical problems."
      ],
      "text/plain": [
       "<class 'statsmodels.iolib.summary.Summary'>\n",
       "\"\"\"\n",
       "                            OLS Regression Results                            \n",
       "==============================================================================\n",
       "Dep. Variable:         HappinessScore   R-squared:                       0.677\n",
       "Model:                            OLS   Adj. R-squared:                  0.663\n",
       "Method:                 Least Squares   F-statistic:                     48.55\n",
       "Date:                Thu, 21 Nov 2019   Prob (F-statistic):           7.05e-27\n",
       "Time:                        08:18:55   Log-Likelihood:                -120.66\n",
       "No. Observations:                 122   AIC:                             253.3\n",
       "Df Residuals:                     116   BIC:                             270.1\n",
       "Df Model:                           5                                         \n",
       "Covariance Type:            nonrobust                                         \n",
       "====================================================================================\n",
       "                       coef    std err          t      P>|t|      [0.025      0.975]\n",
       "------------------------------------------------------------------------------------\n",
       "const                0.4899      0.461      1.063      0.290      -0.423       1.403\n",
       "HDI                  0.0069      0.001     10.196      0.000       0.006       0.008\n",
       "GDP_PerCapita        0.0002      0.000      0.672      0.503      -0.000       0.001\n",
       "Beer_PerCapita       0.0007      0.001      0.912      0.363      -0.001       0.002\n",
       "Spirit_PerCapita    -0.0014      0.001     -1.655      0.101      -0.003       0.000\n",
       "Wine_PerCapita      -0.0014      0.001     -1.471      0.144      -0.003       0.000\n",
       "==============================================================================\n",
       "Omnibus:                        5.197   Durbin-Watson:                   1.396\n",
       "Prob(Omnibus):                  0.074   Jarque-Bera (JB):                3.098\n",
       "Skew:                          -0.185   Prob(JB):                        0.212\n",
       "Kurtosis:                       2.312   Cond. No.                     5.98e+03\n",
       "==============================================================================\n",
       "\n",
       "Warnings:\n",
       "[1] Standard Errors assume that the covariance matrix of the errors is correctly specified.\n",
       "[2] The condition number is large, 5.98e+03. This might indicate that there are\n",
       "strong multicollinearity or other numerical problems.\n",
       "\"\"\""
      ]
     },
     "execution_count": 12,
     "metadata": {},
     "output_type": "execute_result"
    }
   ],
   "source": [
    "results = regress(X,Y)\n",
    "results.summary()"
   ]
  },
  {
   "cell_type": "code",
   "execution_count": 13,
   "metadata": {},
   "outputs": [],
   "source": [
    "X_train, X_test, y_train, y_test = train_test_split(X, Y, test_size=0.1, random_state=RANDOM_SEED)"
   ]
  },
  {
   "cell_type": "code",
   "execution_count": 14,
   "metadata": {},
   "outputs": [
    {
     "data": {
      "text/plain": [
       "((109, 5), (109,), (13, 5), (13,))"
      ]
     },
     "execution_count": 14,
     "metadata": {},
     "output_type": "execute_result"
    }
   ],
   "source": [
    "X_train.shape, y_train.shape, X_test.shape, y_test.shape"
   ]
  },
  {
   "cell_type": "code",
   "execution_count": 15,
   "metadata": {},
   "outputs": [],
   "source": [
    "from sklearn.model_selection import train_test_split\n",
    "from sklearn.linear_model import LinearRegression\n",
    "model = LinearRegression().fit(X_train,y_train)"
   ]
  },
  {
   "cell_type": "code",
   "execution_count": 16,
   "metadata": {},
   "outputs": [
    {
     "data": {
      "text/plain": [
       "array([6.43615858, 5.39968522, 5.60648067, 3.44764204, 6.72982633,\n",
       "       5.0738702 , 5.9324452 , 3.42529359, 5.22831834, 6.53821721,\n",
       "       6.18927254, 4.2073435 , 6.63512471])"
      ]
     },
     "execution_count": 16,
     "metadata": {},
     "output_type": "execute_result"
    }
   ],
   "source": [
    "y_predict = model.predict(X_test)\n",
    "y_predict"
   ]
  },
  {
   "cell_type": "code",
   "execution_count": 78,
   "metadata": {},
   "outputs": [
    {
     "name": "stdout",
     "output_type": "stream",
     "text": [
      "A regressão Linear acertou 30.76923076923077%\n"
     ]
    }
   ],
   "source": [
    "lista_erro = Erro(y_predict,y_test)\n",
    "lista_classificação = Classificador(lista_erro)\n",
    "resultado = Acuracia(lista_classificação,lista_erro,y_predict,y_test)\n",
    "print(\"A regressão Linear acertou {0}%\".format(resultado))"
   ]
  },
  {
   "cell_type": "markdown",
   "metadata": {},
   "source": [
    "### Conclusão Primeira regressão\n",
    "É possivel observar que os valores P (P>|t|) das variáveis GDP_PerCapita e Beer_PerCapita são os maiores, o que nos informa que a probabilidade dessa variável regressora ser relevante para explicar a variavel dependente (Hapiness) é baixa, pois o valor \"p\" é alto. "
   ]
  },
  {
   "cell_type": "markdown",
   "metadata": {},
   "source": [
    "## Segunda regressão\n",
    "* **Variável Independente(X)=** \n",
    "Hdi, Spirit_Percapita e Wine_Percapita"
   ]
  },
  {
   "cell_type": "code",
   "execution_count": 21,
   "metadata": {},
   "outputs": [],
   "source": [
    "X1 = df[['HDI','Spirit_PerCapita','Wine_PerCapita']]"
   ]
  },
  {
   "cell_type": "code",
   "execution_count": 22,
   "metadata": {
    "scrolled": true
   },
   "outputs": [
    {
     "name": "stderr",
     "output_type": "stream",
     "text": [
      "C:\\Users\\Gabi_XPS\\Anaconda3\\lib\\site-packages\\numpy\\core\\fromnumeric.py:2389: FutureWarning: Method .ptp is deprecated and will be removed in a future version. Use numpy.ptp instead.\n",
      "  return ptp(axis=axis, out=out, **kwargs)\n"
     ]
    },
    {
     "data": {
      "text/html": [
       "<table class=\"simpletable\">\n",
       "<caption>OLS Regression Results</caption>\n",
       "<tr>\n",
       "  <th>Dep. Variable:</th>     <td>HappinessScore</td>  <th>  R-squared:         </th> <td>   0.673</td>\n",
       "</tr>\n",
       "<tr>\n",
       "  <th>Model:</th>                   <td>OLS</td>       <th>  Adj. R-squared:    </th> <td>   0.665</td>\n",
       "</tr>\n",
       "<tr>\n",
       "  <th>Method:</th>             <td>Least Squares</td>  <th>  F-statistic:       </th> <td>   81.08</td>\n",
       "</tr>\n",
       "<tr>\n",
       "  <th>Date:</th>             <td>Thu, 21 Nov 2019</td> <th>  Prob (F-statistic):</th> <td>1.54e-28</td>\n",
       "</tr>\n",
       "<tr>\n",
       "  <th>Time:</th>                 <td>08:21:46</td>     <th>  Log-Likelihood:    </th> <td> -121.28</td>\n",
       "</tr>\n",
       "<tr>\n",
       "  <th>No. Observations:</th>      <td>   122</td>      <th>  AIC:               </th> <td>   250.6</td>\n",
       "</tr>\n",
       "<tr>\n",
       "  <th>Df Residuals:</th>          <td>   118</td>      <th>  BIC:               </th> <td>   261.8</td>\n",
       "</tr>\n",
       "<tr>\n",
       "  <th>Df Model:</th>              <td>     3</td>      <th>                     </th>     <td> </td>   \n",
       "</tr>\n",
       "<tr>\n",
       "  <th>Covariance Type:</th>      <td>nonrobust</td>    <th>                     </th>     <td> </td>   \n",
       "</tr>\n",
       "</table>\n",
       "<table class=\"simpletable\">\n",
       "<tr>\n",
       "          <td></td>            <th>coef</th>     <th>std err</th>      <th>t</th>      <th>P>|t|</th>  <th>[0.025</th>    <th>0.975]</th>  \n",
       "</tr>\n",
       "<tr>\n",
       "  <th>const</th>            <td>    0.6147</td> <td>    0.357</td> <td>    1.722</td> <td> 0.088</td> <td>   -0.092</td> <td>    1.321</td>\n",
       "</tr>\n",
       "<tr>\n",
       "  <th>HDI</th>              <td>    0.0069</td> <td>    0.001</td> <td>   12.442</td> <td> 0.000</td> <td>    0.006</td> <td>    0.008</td>\n",
       "</tr>\n",
       "<tr>\n",
       "  <th>Spirit_PerCapita</th> <td>   -0.0012</td> <td>    0.001</td> <td>   -1.505</td> <td> 0.135</td> <td>   -0.003</td> <td>    0.000</td>\n",
       "</tr>\n",
       "<tr>\n",
       "  <th>Wine_PerCapita</th>   <td>   -0.0010</td> <td>    0.001</td> <td>   -1.197</td> <td> 0.234</td> <td>   -0.003</td> <td>    0.001</td>\n",
       "</tr>\n",
       "</table>\n",
       "<table class=\"simpletable\">\n",
       "<tr>\n",
       "  <th>Omnibus:</th>       <td> 5.276</td> <th>  Durbin-Watson:     </th> <td>   1.348</td>\n",
       "</tr>\n",
       "<tr>\n",
       "  <th>Prob(Omnibus):</th> <td> 0.072</td> <th>  Jarque-Bera (JB):  </th> <td>   3.230</td>\n",
       "</tr>\n",
       "<tr>\n",
       "  <th>Skew:</th>          <td>-0.205</td> <th>  Prob(JB):          </th> <td>   0.199</td>\n",
       "</tr>\n",
       "<tr>\n",
       "  <th>Kurtosis:</th>      <td> 2.317</td> <th>  Cond. No.          </th> <td>4.54e+03</td>\n",
       "</tr>\n",
       "</table><br/><br/>Warnings:<br/>[1] Standard Errors assume that the covariance matrix of the errors is correctly specified.<br/>[2] The condition number is large, 4.54e+03. This might indicate that there are<br/>strong multicollinearity or other numerical problems."
      ],
      "text/plain": [
       "<class 'statsmodels.iolib.summary.Summary'>\n",
       "\"\"\"\n",
       "                            OLS Regression Results                            \n",
       "==============================================================================\n",
       "Dep. Variable:         HappinessScore   R-squared:                       0.673\n",
       "Model:                            OLS   Adj. R-squared:                  0.665\n",
       "Method:                 Least Squares   F-statistic:                     81.08\n",
       "Date:                Thu, 21 Nov 2019   Prob (F-statistic):           1.54e-28\n",
       "Time:                        08:21:46   Log-Likelihood:                -121.28\n",
       "No. Observations:                 122   AIC:                             250.6\n",
       "Df Residuals:                     118   BIC:                             261.8\n",
       "Df Model:                           3                                         \n",
       "Covariance Type:            nonrobust                                         \n",
       "====================================================================================\n",
       "                       coef    std err          t      P>|t|      [0.025      0.975]\n",
       "------------------------------------------------------------------------------------\n",
       "const                0.6147      0.357      1.722      0.088      -0.092       1.321\n",
       "HDI                  0.0069      0.001     12.442      0.000       0.006       0.008\n",
       "Spirit_PerCapita    -0.0012      0.001     -1.505      0.135      -0.003       0.000\n",
       "Wine_PerCapita      -0.0010      0.001     -1.197      0.234      -0.003       0.001\n",
       "==============================================================================\n",
       "Omnibus:                        5.276   Durbin-Watson:                   1.348\n",
       "Prob(Omnibus):                  0.072   Jarque-Bera (JB):                3.230\n",
       "Skew:                          -0.205   Prob(JB):                        0.199\n",
       "Kurtosis:                       2.317   Cond. No.                     4.54e+03\n",
       "==============================================================================\n",
       "\n",
       "Warnings:\n",
       "[1] Standard Errors assume that the covariance matrix of the errors is correctly specified.\n",
       "[2] The condition number is large, 4.54e+03. This might indicate that there are\n",
       "strong multicollinearity or other numerical problems.\n",
       "\"\"\""
      ]
     },
     "execution_count": 22,
     "metadata": {},
     "output_type": "execute_result"
    }
   ],
   "source": [
    "results = regress(X1,Y)\n",
    "results.summary()"
   ]
  },
  {
   "cell_type": "code",
   "execution_count": 23,
   "metadata": {},
   "outputs": [],
   "source": [
    "X_train1, X_test1, y_train1, y_test1 = train_test_split(X1, Y, test_size=0.1, random_state=RANDOM_SEED)"
   ]
  },
  {
   "cell_type": "code",
   "execution_count": 24,
   "metadata": {},
   "outputs": [
    {
     "data": {
      "text/plain": [
       "((109, 3), (109,), (13, 3), (13,))"
      ]
     },
     "execution_count": 24,
     "metadata": {},
     "output_type": "execute_result"
    }
   ],
   "source": [
    "X_train1.shape, y_train1.shape, X_test1.shape, y_test1.shape"
   ]
  },
  {
   "cell_type": "code",
   "execution_count": 25,
   "metadata": {},
   "outputs": [],
   "source": [
    "from sklearn.model_selection import train_test_split\n",
    "from sklearn.linear_model import LinearRegression\n",
    "model = LinearRegression().fit(X_train1,y_train1)"
   ]
  },
  {
   "cell_type": "code",
   "execution_count": 32,
   "metadata": {
    "scrolled": true
   },
   "outputs": [
    {
     "data": {
      "text/plain": [
       "array([6.41913177, 5.27279956, 5.65417   , 3.40213554, 6.63839292,\n",
       "       5.1460217 , 5.83289866, 3.41783891, 5.29833188, 6.4892228 ,\n",
       "       6.03239747, 4.08473248, 6.69993347])"
      ]
     },
     "execution_count": 32,
     "metadata": {},
     "output_type": "execute_result"
    }
   ],
   "source": [
    "y_predict1 = model.predict(X_test1)\n",
    "y_predict1"
   ]
  },
  {
   "cell_type": "code",
   "execution_count": 77,
   "metadata": {},
   "outputs": [
    {
     "name": "stdout",
     "output_type": "stream",
     "text": [
      "A regressão Linear acertou 30.76923076923077%\n"
     ]
    }
   ],
   "source": [
    "lista_erro1 = Erro(y_predict1,y_test1)\n",
    "lista_classificação1 = Classificador(lista_erro1)\n",
    "resultado1 = Acuracia(lista_classificação1,lista_erro1,y_predict1,y_test1)\n",
    "print(\"A regressão Linear acertou {0}%\".format(resultado1))"
   ]
  },
  {
   "cell_type": "markdown",
   "metadata": {},
   "source": [
    "### Conclusão Segunda regressão\n",
    "Ao retirar as variáveis que possuiam o valor P mais alto, foi possível observar que a o valor de R ao quadrado não houve quase mudança e que o valor de P das variáveis Spirit_PerCapita e Wine_PerCapita ainda estão altos compraradas com o valor de 5%. Além disso, o poder preditivo não foi alterado. \n",
    "\n",
    "Assim, para uma melhora dessa regressão seria retirar as variáveis com valor P maior que 5% e observar a consequência disso no valor de R ao quadrado."
   ]
  },
  {
   "cell_type": "markdown",
   "metadata": {},
   "source": [
    "## Terceira regressão\n",
    "* **Variável Independente(X)=** \n",
    "Hdi"
   ]
  },
  {
   "cell_type": "code",
   "execution_count": 38,
   "metadata": {},
   "outputs": [],
   "source": [
    "X2 = df[['HDI']]\n"
   ]
  },
  {
   "cell_type": "code",
   "execution_count": 39,
   "metadata": {
    "scrolled": true
   },
   "outputs": [
    {
     "name": "stderr",
     "output_type": "stream",
     "text": [
      "C:\\Users\\Gabi_XPS\\Anaconda3\\lib\\site-packages\\numpy\\core\\fromnumeric.py:2389: FutureWarning: Method .ptp is deprecated and will be removed in a future version. Use numpy.ptp instead.\n",
      "  return ptp(axis=axis, out=out, **kwargs)\n"
     ]
    },
    {
     "data": {
      "text/html": [
       "<table class=\"simpletable\">\n",
       "<caption>OLS Regression Results</caption>\n",
       "<tr>\n",
       "  <th>Dep. Variable:</th>     <td>HappinessScore</td>  <th>  R-squared:         </th> <td>   0.664</td>\n",
       "</tr>\n",
       "<tr>\n",
       "  <th>Model:</th>                   <td>OLS</td>       <th>  Adj. R-squared:    </th> <td>   0.662</td>\n",
       "</tr>\n",
       "<tr>\n",
       "  <th>Method:</th>             <td>Least Squares</td>  <th>  F-statistic:       </th> <td>   237.7</td>\n",
       "</tr>\n",
       "<tr>\n",
       "  <th>Date:</th>             <td>Thu, 21 Nov 2019</td> <th>  Prob (F-statistic):</th> <td>3.10e-30</td>\n",
       "</tr>\n",
       "<tr>\n",
       "  <th>Time:</th>                 <td>08:26:50</td>     <th>  Log-Likelihood:    </th> <td> -122.91</td>\n",
       "</tr>\n",
       "<tr>\n",
       "  <th>No. Observations:</th>      <td>   122</td>      <th>  AIC:               </th> <td>   249.8</td>\n",
       "</tr>\n",
       "<tr>\n",
       "  <th>Df Residuals:</th>          <td>   120</td>      <th>  BIC:               </th> <td>   255.4</td>\n",
       "</tr>\n",
       "<tr>\n",
       "  <th>Df Model:</th>              <td>     1</td>      <th>                     </th>     <td> </td>   \n",
       "</tr>\n",
       "<tr>\n",
       "  <th>Covariance Type:</th>      <td>nonrobust</td>    <th>                     </th>     <td> </td>   \n",
       "</tr>\n",
       "</table>\n",
       "<table class=\"simpletable\">\n",
       "<tr>\n",
       "    <td></td>       <th>coef</th>     <th>std err</th>      <th>t</th>      <th>P>|t|</th>  <th>[0.025</th>    <th>0.975]</th>  \n",
       "</tr>\n",
       "<tr>\n",
       "  <th>const</th> <td>    0.8950</td> <td>    0.306</td> <td>    2.921</td> <td> 0.004</td> <td>    0.288</td> <td>    1.502</td>\n",
       "</tr>\n",
       "<tr>\n",
       "  <th>HDI</th>   <td>    0.0062</td> <td>    0.000</td> <td>   15.416</td> <td> 0.000</td> <td>    0.005</td> <td>    0.007</td>\n",
       "</tr>\n",
       "</table>\n",
       "<table class=\"simpletable\">\n",
       "<tr>\n",
       "  <th>Omnibus:</th>       <td> 3.079</td> <th>  Durbin-Watson:     </th> <td>   1.371</td>\n",
       "</tr>\n",
       "<tr>\n",
       "  <th>Prob(Omnibus):</th> <td> 0.214</td> <th>  Jarque-Bera (JB):  </th> <td>   2.572</td>\n",
       "</tr>\n",
       "<tr>\n",
       "  <th>Skew:</th>          <td>-0.242</td> <th>  Prob(JB):          </th> <td>   0.276</td>\n",
       "</tr>\n",
       "<tr>\n",
       "  <th>Kurtosis:</th>      <td> 2.479</td> <th>  Cond. No.          </th> <td>3.83e+03</td>\n",
       "</tr>\n",
       "</table><br/><br/>Warnings:<br/>[1] Standard Errors assume that the covariance matrix of the errors is correctly specified.<br/>[2] The condition number is large, 3.83e+03. This might indicate that there are<br/>strong multicollinearity or other numerical problems."
      ],
      "text/plain": [
       "<class 'statsmodels.iolib.summary.Summary'>\n",
       "\"\"\"\n",
       "                            OLS Regression Results                            \n",
       "==============================================================================\n",
       "Dep. Variable:         HappinessScore   R-squared:                       0.664\n",
       "Model:                            OLS   Adj. R-squared:                  0.662\n",
       "Method:                 Least Squares   F-statistic:                     237.7\n",
       "Date:                Thu, 21 Nov 2019   Prob (F-statistic):           3.10e-30\n",
       "Time:                        08:26:50   Log-Likelihood:                -122.91\n",
       "No. Observations:                 122   AIC:                             249.8\n",
       "Df Residuals:                     120   BIC:                             255.4\n",
       "Df Model:                           1                                         \n",
       "Covariance Type:            nonrobust                                         \n",
       "==============================================================================\n",
       "                 coef    std err          t      P>|t|      [0.025      0.975]\n",
       "------------------------------------------------------------------------------\n",
       "const          0.8950      0.306      2.921      0.004       0.288       1.502\n",
       "HDI            0.0062      0.000     15.416      0.000       0.005       0.007\n",
       "==============================================================================\n",
       "Omnibus:                        3.079   Durbin-Watson:                   1.371\n",
       "Prob(Omnibus):                  0.214   Jarque-Bera (JB):                2.572\n",
       "Skew:                          -0.242   Prob(JB):                        0.276\n",
       "Kurtosis:                       2.479   Cond. No.                     3.83e+03\n",
       "==============================================================================\n",
       "\n",
       "Warnings:\n",
       "[1] Standard Errors assume that the covariance matrix of the errors is correctly specified.\n",
       "[2] The condition number is large, 3.83e+03. This might indicate that there are\n",
       "strong multicollinearity or other numerical problems.\n",
       "\"\"\""
      ]
     },
     "execution_count": 39,
     "metadata": {},
     "output_type": "execute_result"
    }
   ],
   "source": [
    "results = regress(X2,Y)\n",
    "results.summary()"
   ]
  },
  {
   "cell_type": "code",
   "execution_count": 40,
   "metadata": {},
   "outputs": [],
   "source": [
    "X_train2, X_test2, y_train2, y_test2 = train_test_split(X2, Y, test_size=0.1, random_state=RANDOM_SEED)"
   ]
  },
  {
   "cell_type": "code",
   "execution_count": 41,
   "metadata": {},
   "outputs": [
    {
     "data": {
      "text/plain": [
       "((109, 1), (109,), (13, 1), (13,))"
      ]
     },
     "execution_count": 41,
     "metadata": {},
     "output_type": "execute_result"
    }
   ],
   "source": [
    "X_train2.shape, y_train2.shape, X_test2.shape, y_test2.shape"
   ]
  },
  {
   "cell_type": "code",
   "execution_count": 42,
   "metadata": {},
   "outputs": [],
   "source": [
    "from sklearn.model_selection import train_test_split\n",
    "from sklearn.linear_model import LinearRegression\n",
    "model = LinearRegression().fit(X_train2,y_train2)"
   ]
  },
  {
   "cell_type": "code",
   "execution_count": 43,
   "metadata": {
    "scrolled": true
   },
   "outputs": [
    {
     "data": {
      "text/plain": [
       "array([6.52638981, 5.29198389, 5.84904913, 3.41821901, 6.61501383,\n",
       "       5.10207529, 5.912352  , 3.94363281, 5.53886508, 6.46308694,\n",
       "       6.21620576, 4.0449174 , 6.51372924])"
      ]
     },
     "execution_count": 43,
     "metadata": {},
     "output_type": "execute_result"
    }
   ],
   "source": [
    "y_predict2 = model.predict(X_test2)\n",
    "y_predict2"
   ]
  },
  {
   "cell_type": "code",
   "execution_count": 76,
   "metadata": {},
   "outputs": [
    {
     "name": "stdout",
     "output_type": "stream",
     "text": [
      "A regressão Linear acertou 38.46153846153847%\n"
     ]
    }
   ],
   "source": [
    "lista_erro2 = Erro(y_predict2,y_test2)\n",
    "lista_classificação2 = Classificador(lista_erro2)\n",
    "resultado2 = Acuracia(lista_classificação2,lista_erro2,y_predict2,y_test2)\n",
    "print(\"A regressão Linear acertou {0}%\".format(resultado2))"
   ]
  },
  {
   "cell_type": "markdown",
   "metadata": {},
   "source": [
    "### Conclusão Terceira regressão\n",
    "Ao deixar somente o HDI como variável independente, ou seja, sem nenhuma variável relacionada a álcool o valor do r ao quadrado não foi muito alterado, e o valor preditivo possuiu uma taxa de acerto aproximadamente 8% maior. Assim, é possível concluir, a partir desses regressões, que as variáveis relacionadas ao consumo de álcool não possuem relação com o índice de felicidade.\n"
   ]
  },
  {
   "cell_type": "markdown",
   "metadata": {},
   "source": [
    "# Interpretação dos dados\n",
    "Ao tentar melhorar o desempenho da regressão foi retirado as variáveis com valor de P maiores, depois as variáveis com valor de P maior que 5% e foi possível observar que todas as variáveis que tinham ligação com o álcool foram retiradas, e que o valor de R ao quadrado não obteve uma grande mudança. \n",
    "\n",
    "O intuito de retriar as variávei com valor de P altos é devido o fato de quando o valor de P é baixo, quer dizer que a variável regressora é relevante para explicar a variável dependente. Assim, valores de P alto são mais irrelevantes na regressão, o que faz com que o valor de R ao quadrado não mude tanto ao retirar tais variáveis.\n",
    "\n",
    "Assim, é possível concluir que as variáveis que estão relacionadas com o consumo de álcool foram retiradas da regressão e o valor de R ao quadrado possuiu uma pequena alteração. Desta forma, é possivél concluir que o álcool não possui relação com a felicidade e que a variável HDI é a que possui uma maior influência no índice de felicidade.\n"
   ]
  },
  {
   "cell_type": "markdown",
   "metadata": {},
   "source": [
    "# Adicionando Variáveis "
   ]
  },
  {
   "cell_type": "markdown",
   "metadata": {},
   "source": [
    "O intuito de adicionar mais variáveis é observar quais seriam outras possiveis variáveis que podem ajudar na regressão e ajudar a determinar o valor preditivo."
   ]
  },
  {
   "cell_type": "code",
   "execution_count": 66,
   "metadata": {},
   "outputs": [],
   "source": [
    "dados_completo = pd.read_excel(\"DadosTodasAsVariaveis.xlsx\")"
   ]
  },
  {
   "cell_type": "markdown",
   "metadata": {},
   "source": [
    "### Todas as Variáveis ( iteração 1)"
   ]
  },
  {
   "cell_type": "code",
   "execution_count": 112,
   "metadata": {},
   "outputs": [],
   "source": [
    "X3 = dados_completo[['HDI','GDP_PerCapita','Beer_PerCapita','Spirit_PerCapita','Wine_PerCapita', 'Mortalidade', 'Inflação', 'Criança p/ Mulher', 'Expec de Vida','Desemprego']]"
   ]
  },
  {
   "cell_type": "code",
   "execution_count": 113,
   "metadata": {},
   "outputs": [],
   "source": [
    "Y = dados_completo['HappinessScore']"
   ]
  },
  {
   "cell_type": "code",
   "execution_count": 114,
   "metadata": {
    "scrolled": true
   },
   "outputs": [
    {
     "name": "stderr",
     "output_type": "stream",
     "text": [
      "C:\\Users\\Gabi_XPS\\Anaconda3\\lib\\site-packages\\numpy\\core\\fromnumeric.py:2389: FutureWarning: Method .ptp is deprecated and will be removed in a future version. Use numpy.ptp instead.\n",
      "  return ptp(axis=axis, out=out, **kwargs)\n"
     ]
    },
    {
     "data": {
      "text/html": [
       "<table class=\"simpletable\">\n",
       "<caption>OLS Regression Results</caption>\n",
       "<tr>\n",
       "  <th>Dep. Variable:</th>     <td>HappinessScore</td>  <th>  R-squared:         </th> <td>   0.753</td>\n",
       "</tr>\n",
       "<tr>\n",
       "  <th>Model:</th>                   <td>OLS</td>       <th>  Adj. R-squared:    </th> <td>   0.715</td>\n",
       "</tr>\n",
       "<tr>\n",
       "  <th>Method:</th>             <td>Least Squares</td>  <th>  F-statistic:       </th> <td>   20.08</td>\n",
       "</tr>\n",
       "<tr>\n",
       "  <th>Date:</th>             <td>Thu, 21 Nov 2019</td> <th>  Prob (F-statistic):</th> <td>2.11e-16</td>\n",
       "</tr>\n",
       "<tr>\n",
       "  <th>Time:</th>                 <td>08:59:52</td>     <th>  Log-Likelihood:    </th> <td> -57.635</td>\n",
       "</tr>\n",
       "<tr>\n",
       "  <th>No. Observations:</th>      <td>    77</td>      <th>  AIC:               </th> <td>   137.3</td>\n",
       "</tr>\n",
       "<tr>\n",
       "  <th>Df Residuals:</th>          <td>    66</td>      <th>  BIC:               </th> <td>   163.1</td>\n",
       "</tr>\n",
       "<tr>\n",
       "  <th>Df Model:</th>              <td>    10</td>      <th>                     </th>     <td> </td>   \n",
       "</tr>\n",
       "<tr>\n",
       "  <th>Covariance Type:</th>      <td>nonrobust</td>    <th>                     </th>     <td> </td>   \n",
       "</tr>\n",
       "</table>\n",
       "<table class=\"simpletable\">\n",
       "<tr>\n",
       "          <td></td>             <th>coef</th>     <th>std err</th>      <th>t</th>      <th>P>|t|</th>  <th>[0.025</th>    <th>0.975]</th>  \n",
       "</tr>\n",
       "<tr>\n",
       "  <th>const</th>             <td>   -4.5898</td> <td>    2.732</td> <td>   -1.680</td> <td> 0.098</td> <td>  -10.044</td> <td>    0.864</td>\n",
       "</tr>\n",
       "<tr>\n",
       "  <th>HDI</th>               <td>    0.0059</td> <td>    0.002</td> <td>    3.838</td> <td> 0.000</td> <td>    0.003</td> <td>    0.009</td>\n",
       "</tr>\n",
       "<tr>\n",
       "  <th>GDP_PerCapita</th>     <td>-1.787e-06</td> <td>    0.001</td> <td>   -0.002</td> <td> 0.999</td> <td>   -0.002</td> <td>    0.002</td>\n",
       "</tr>\n",
       "<tr>\n",
       "  <th>Beer_PerCapita</th>    <td>    0.0017</td> <td>    0.001</td> <td>    2.252</td> <td> 0.028</td> <td>    0.000</td> <td>    0.003</td>\n",
       "</tr>\n",
       "<tr>\n",
       "  <th>Spirit_PerCapita</th>  <td>   -0.0021</td> <td>    0.001</td> <td>   -1.678</td> <td> 0.098</td> <td>   -0.005</td> <td>    0.000</td>\n",
       "</tr>\n",
       "<tr>\n",
       "  <th>Wine_PerCapita</th>    <td>   -0.0016</td> <td>    0.001</td> <td>   -1.820</td> <td> 0.073</td> <td>   -0.003</td> <td>    0.000</td>\n",
       "</tr>\n",
       "<tr>\n",
       "  <th>Mortalidade</th>       <td>   -0.0007</td> <td>    0.013</td> <td>   -0.056</td> <td> 0.955</td> <td>   -0.027</td> <td>    0.026</td>\n",
       "</tr>\n",
       "<tr>\n",
       "  <th>Inflação</th>          <td>    0.0251</td> <td>    0.019</td> <td>    1.290</td> <td> 0.202</td> <td>   -0.014</td> <td>    0.064</td>\n",
       "</tr>\n",
       "<tr>\n",
       "  <th>Criança p/ Mulher</th> <td>    0.3133</td> <td>    0.183</td> <td>    1.716</td> <td> 0.091</td> <td>   -0.051</td> <td>    0.678</td>\n",
       "</tr>\n",
       "<tr>\n",
       "  <th>Expec de Vida</th>     <td>    0.0727</td> <td>    0.037</td> <td>    1.989</td> <td> 0.051</td> <td>   -0.000</td> <td>    0.146</td>\n",
       "</tr>\n",
       "<tr>\n",
       "  <th>Desemprego</th>        <td>   -0.0483</td> <td>    0.012</td> <td>   -3.994</td> <td> 0.000</td> <td>   -0.072</td> <td>   -0.024</td>\n",
       "</tr>\n",
       "</table>\n",
       "<table class=\"simpletable\">\n",
       "<tr>\n",
       "  <th>Omnibus:</th>       <td> 0.121</td> <th>  Durbin-Watson:     </th> <td>   1.477</td>\n",
       "</tr>\n",
       "<tr>\n",
       "  <th>Prob(Omnibus):</th> <td> 0.941</td> <th>  Jarque-Bera (JB):  </th> <td>   0.107</td>\n",
       "</tr>\n",
       "<tr>\n",
       "  <th>Skew:</th>          <td> 0.079</td> <th>  Prob(JB):          </th> <td>   0.948</td>\n",
       "</tr>\n",
       "<tr>\n",
       "  <th>Kurtosis:</th>      <td> 2.908</td> <th>  Cond. No.          </th> <td>3.67e+04</td>\n",
       "</tr>\n",
       "</table><br/><br/>Warnings:<br/>[1] Standard Errors assume that the covariance matrix of the errors is correctly specified.<br/>[2] The condition number is large, 3.67e+04. This might indicate that there are<br/>strong multicollinearity or other numerical problems."
      ],
      "text/plain": [
       "<class 'statsmodels.iolib.summary.Summary'>\n",
       "\"\"\"\n",
       "                            OLS Regression Results                            \n",
       "==============================================================================\n",
       "Dep. Variable:         HappinessScore   R-squared:                       0.753\n",
       "Model:                            OLS   Adj. R-squared:                  0.715\n",
       "Method:                 Least Squares   F-statistic:                     20.08\n",
       "Date:                Thu, 21 Nov 2019   Prob (F-statistic):           2.11e-16\n",
       "Time:                        08:59:52   Log-Likelihood:                -57.635\n",
       "No. Observations:                  77   AIC:                             137.3\n",
       "Df Residuals:                      66   BIC:                             163.1\n",
       "Df Model:                          10                                         \n",
       "Covariance Type:            nonrobust                                         \n",
       "=====================================================================================\n",
       "                        coef    std err          t      P>|t|      [0.025      0.975]\n",
       "-------------------------------------------------------------------------------------\n",
       "const                -4.5898      2.732     -1.680      0.098     -10.044       0.864\n",
       "HDI                   0.0059      0.002      3.838      0.000       0.003       0.009\n",
       "GDP_PerCapita     -1.787e-06      0.001     -0.002      0.999      -0.002       0.002\n",
       "Beer_PerCapita        0.0017      0.001      2.252      0.028       0.000       0.003\n",
       "Spirit_PerCapita     -0.0021      0.001     -1.678      0.098      -0.005       0.000\n",
       "Wine_PerCapita       -0.0016      0.001     -1.820      0.073      -0.003       0.000\n",
       "Mortalidade          -0.0007      0.013     -0.056      0.955      -0.027       0.026\n",
       "Inflação              0.0251      0.019      1.290      0.202      -0.014       0.064\n",
       "Criança p/ Mulher     0.3133      0.183      1.716      0.091      -0.051       0.678\n",
       "Expec de Vida         0.0727      0.037      1.989      0.051      -0.000       0.146\n",
       "Desemprego           -0.0483      0.012     -3.994      0.000      -0.072      -0.024\n",
       "==============================================================================\n",
       "Omnibus:                        0.121   Durbin-Watson:                   1.477\n",
       "Prob(Omnibus):                  0.941   Jarque-Bera (JB):                0.107\n",
       "Skew:                           0.079   Prob(JB):                        0.948\n",
       "Kurtosis:                       2.908   Cond. No.                     3.67e+04\n",
       "==============================================================================\n",
       "\n",
       "Warnings:\n",
       "[1] Standard Errors assume that the covariance matrix of the errors is correctly specified.\n",
       "[2] The condition number is large, 3.67e+04. This might indicate that there are\n",
       "strong multicollinearity or other numerical problems.\n",
       "\"\"\""
      ]
     },
     "execution_count": 114,
     "metadata": {},
     "output_type": "execute_result"
    }
   ],
   "source": [
    "results = regress(X3,Y)\n",
    "results.summary()"
   ]
  },
  {
   "cell_type": "code",
   "execution_count": 115,
   "metadata": {},
   "outputs": [],
   "source": [
    "X_train3, X_test3, y_train3, y_test3 = train_test_split(X3, Y, test_size=0.1, random_state=RANDOM_SEED)"
   ]
  },
  {
   "cell_type": "code",
   "execution_count": 72,
   "metadata": {},
   "outputs": [],
   "source": [
    "from sklearn.model_selection import train_test_split\n",
    "from sklearn.linear_model import LinearRegression\n",
    "model = LinearRegression().fit(X_train3,y_train3)"
   ]
  },
  {
   "cell_type": "code",
   "execution_count": 73,
   "metadata": {},
   "outputs": [
    {
     "data": {
      "text/plain": [
       "array([6.90058192, 6.19204721, 7.28279929, 6.69497735, 5.76556343,\n",
       "       5.84046465, 5.29223884, 5.9869855 ])"
      ]
     },
     "execution_count": 73,
     "metadata": {},
     "output_type": "execute_result"
    }
   ],
   "source": [
    "y_predict3 = model.predict(X_test3)\n",
    "y_predict3"
   ]
  },
  {
   "cell_type": "code",
   "execution_count": 75,
   "metadata": {
    "scrolled": true
   },
   "outputs": [
    {
     "name": "stdout",
     "output_type": "stream",
     "text": [
      "A regressão Linear acertou 50.0%\n"
     ]
    }
   ],
   "source": [
    "lista_erro3 = Erro(y_predict3, y_test3)\n",
    "lista_classificação3 = Classificador(lista_erro3)\n",
    "resultado3 = Acuracia(lista_classificação3,lista_erro3,y_predict3,y_test3)\n",
    "print(\"A regressão Linear acertou {0}%\".format(resultado3))"
   ]
  },
  {
   "cell_type": "markdown",
   "metadata": {},
   "source": [
    "#### Conclusão 1"
   ]
  },
  {
   "cell_type": "markdown",
   "metadata": {},
   "source": [
    "Ao adicionar mais variáveis, sem retirar nenhuma das que já haviam sido analisadas, foi possivel observar um aumento na porcentagem de acerto e um aumento no valor do r ao quadrado. \n",
    "\n",
    "Além disso, é possivel observar que o valor de P para a variável \"Beer_PerCapita\" está baixo, o que difere da analise anterior. Uma possível explicação para esse fato é que os dados não possuem uma distribuição normal, o que dificulta a interpretação dos dados.\n",
    "\n",
    "Adeais, com intuito de melhorar a regressão o próximo passo seria retirar mais variáveis com valor P alto (iteração 2). "
   ]
  },
  {
   "cell_type": "markdown",
   "metadata": {},
   "source": [
    "### IDH + Cerveja + Expectativa de vida + Desemprego (iteração 2)"
   ]
  },
  {
   "cell_type": "code",
   "execution_count": 99,
   "metadata": {},
   "outputs": [],
   "source": [
    "X4 = dados_completo[['HDI','Beer_PerCapita','Expec de Vida','Desemprego']]"
   ]
  },
  {
   "cell_type": "code",
   "execution_count": 100,
   "metadata": {},
   "outputs": [
    {
     "name": "stderr",
     "output_type": "stream",
     "text": [
      "C:\\Users\\Gabi_XPS\\Anaconda3\\lib\\site-packages\\numpy\\core\\fromnumeric.py:2389: FutureWarning: Method .ptp is deprecated and will be removed in a future version. Use numpy.ptp instead.\n",
      "  return ptp(axis=axis, out=out, **kwargs)\n"
     ]
    },
    {
     "data": {
      "text/html": [
       "<table class=\"simpletable\">\n",
       "<caption>OLS Regression Results</caption>\n",
       "<tr>\n",
       "  <th>Dep. Variable:</th>     <td>HappinessScore</td>  <th>  R-squared:         </th> <td>   0.690</td>\n",
       "</tr>\n",
       "<tr>\n",
       "  <th>Model:</th>                   <td>OLS</td>       <th>  Adj. R-squared:    </th> <td>   0.673</td>\n",
       "</tr>\n",
       "<tr>\n",
       "  <th>Method:</th>             <td>Least Squares</td>  <th>  F-statistic:       </th> <td>   40.16</td>\n",
       "</tr>\n",
       "<tr>\n",
       "  <th>Date:</th>             <td>Thu, 21 Nov 2019</td> <th>  Prob (F-statistic):</th> <td>1.19e-17</td>\n",
       "</tr>\n",
       "<tr>\n",
       "  <th>Time:</th>                 <td>08:53:20</td>     <th>  Log-Likelihood:    </th> <td> -66.258</td>\n",
       "</tr>\n",
       "<tr>\n",
       "  <th>No. Observations:</th>      <td>    77</td>      <th>  AIC:               </th> <td>   142.5</td>\n",
       "</tr>\n",
       "<tr>\n",
       "  <th>Df Residuals:</th>          <td>    72</td>      <th>  BIC:               </th> <td>   154.2</td>\n",
       "</tr>\n",
       "<tr>\n",
       "  <th>Df Model:</th>              <td>     4</td>      <th>                     </th>     <td> </td>   \n",
       "</tr>\n",
       "<tr>\n",
       "  <th>Covariance Type:</th>      <td>nonrobust</td>    <th>                     </th>     <td> </td>   \n",
       "</tr>\n",
       "</table>\n",
       "<table class=\"simpletable\">\n",
       "<tr>\n",
       "         <td></td>           <th>coef</th>     <th>std err</th>      <th>t</th>      <th>P>|t|</th>  <th>[0.025</th>    <th>0.975]</th>  \n",
       "</tr>\n",
       "<tr>\n",
       "  <th>const</th>          <td>   -1.6282</td> <td>    1.291</td> <td>   -1.261</td> <td> 0.211</td> <td>   -4.202</td> <td>    0.945</td>\n",
       "</tr>\n",
       "<tr>\n",
       "  <th>HDI</th>            <td>    0.0036</td> <td>    0.001</td> <td>    2.506</td> <td> 0.014</td> <td>    0.001</td> <td>    0.006</td>\n",
       "</tr>\n",
       "<tr>\n",
       "  <th>Beer_PerCapita</th> <td>    0.0011</td> <td>    0.001</td> <td>    1.405</td> <td> 0.164</td> <td>   -0.000</td> <td>    0.003</td>\n",
       "</tr>\n",
       "<tr>\n",
       "  <th>Expec de Vida</th>  <td>    0.0646</td> <td>    0.028</td> <td>    2.298</td> <td> 0.024</td> <td>    0.009</td> <td>    0.121</td>\n",
       "</tr>\n",
       "<tr>\n",
       "  <th>Desemprego</th>     <td>   -0.0555</td> <td>    0.012</td> <td>   -4.638</td> <td> 0.000</td> <td>   -0.079</td> <td>   -0.032</td>\n",
       "</tr>\n",
       "</table>\n",
       "<table class=\"simpletable\">\n",
       "<tr>\n",
       "  <th>Omnibus:</th>       <td> 2.773</td> <th>  Durbin-Watson:     </th> <td>   1.309</td>\n",
       "</tr>\n",
       "<tr>\n",
       "  <th>Prob(Omnibus):</th> <td> 0.250</td> <th>  Jarque-Bera (JB):  </th> <td>   2.328</td>\n",
       "</tr>\n",
       "<tr>\n",
       "  <th>Skew:</th>          <td>-0.424</td> <th>  Prob(JB):          </th> <td>   0.312</td>\n",
       "</tr>\n",
       "<tr>\n",
       "  <th>Kurtosis:</th>      <td> 3.070</td> <th>  Cond. No.          </th> <td>1.59e+04</td>\n",
       "</tr>\n",
       "</table><br/><br/>Warnings:<br/>[1] Standard Errors assume that the covariance matrix of the errors is correctly specified.<br/>[2] The condition number is large, 1.59e+04. This might indicate that there are<br/>strong multicollinearity or other numerical problems."
      ],
      "text/plain": [
       "<class 'statsmodels.iolib.summary.Summary'>\n",
       "\"\"\"\n",
       "                            OLS Regression Results                            \n",
       "==============================================================================\n",
       "Dep. Variable:         HappinessScore   R-squared:                       0.690\n",
       "Model:                            OLS   Adj. R-squared:                  0.673\n",
       "Method:                 Least Squares   F-statistic:                     40.16\n",
       "Date:                Thu, 21 Nov 2019   Prob (F-statistic):           1.19e-17\n",
       "Time:                        08:53:20   Log-Likelihood:                -66.258\n",
       "No. Observations:                  77   AIC:                             142.5\n",
       "Df Residuals:                      72   BIC:                             154.2\n",
       "Df Model:                           4                                         \n",
       "Covariance Type:            nonrobust                                         \n",
       "==================================================================================\n",
       "                     coef    std err          t      P>|t|      [0.025      0.975]\n",
       "----------------------------------------------------------------------------------\n",
       "const             -1.6282      1.291     -1.261      0.211      -4.202       0.945\n",
       "HDI                0.0036      0.001      2.506      0.014       0.001       0.006\n",
       "Beer_PerCapita     0.0011      0.001      1.405      0.164      -0.000       0.003\n",
       "Expec de Vida      0.0646      0.028      2.298      0.024       0.009       0.121\n",
       "Desemprego        -0.0555      0.012     -4.638      0.000      -0.079      -0.032\n",
       "==============================================================================\n",
       "Omnibus:                        2.773   Durbin-Watson:                   1.309\n",
       "Prob(Omnibus):                  0.250   Jarque-Bera (JB):                2.328\n",
       "Skew:                          -0.424   Prob(JB):                        0.312\n",
       "Kurtosis:                       3.070   Cond. No.                     1.59e+04\n",
       "==============================================================================\n",
       "\n",
       "Warnings:\n",
       "[1] Standard Errors assume that the covariance matrix of the errors is correctly specified.\n",
       "[2] The condition number is large, 1.59e+04. This might indicate that there are\n",
       "strong multicollinearity or other numerical problems.\n",
       "\"\"\""
      ]
     },
     "execution_count": 100,
     "metadata": {},
     "output_type": "execute_result"
    }
   ],
   "source": [
    "results = regress(X4,Y)\n",
    "results.summary()"
   ]
  },
  {
   "cell_type": "code",
   "execution_count": 101,
   "metadata": {},
   "outputs": [],
   "source": [
    "X_train4, X_test4, y_train4, y_test4 = train_test_split(X4, Y, test_size=0.1, random_state=RANDOM_SEED)"
   ]
  },
  {
   "cell_type": "code",
   "execution_count": 102,
   "metadata": {},
   "outputs": [],
   "source": [
    "from sklearn.model_selection import train_test_split\n",
    "from sklearn.linear_model import LinearRegression\n",
    "model = LinearRegression().fit(X_train4,y_train4)"
   ]
  },
  {
   "cell_type": "code",
   "execution_count": 103,
   "metadata": {},
   "outputs": [
    {
     "data": {
      "text/plain": [
       "array([6.70480731, 5.9975026 , 6.63792174, 6.77119548, 6.00805442,\n",
       "       6.1268558 , 5.44477454, 5.46023693])"
      ]
     },
     "execution_count": 103,
     "metadata": {},
     "output_type": "execute_result"
    }
   ],
   "source": [
    "y_predict4 = model.predict(X_test4)\n",
    "y_predict4"
   ]
  },
  {
   "cell_type": "code",
   "execution_count": 104,
   "metadata": {},
   "outputs": [
    {
     "name": "stdout",
     "output_type": "stream",
     "text": [
      "A regressão Linear acertou 37.5%\n"
     ]
    }
   ],
   "source": [
    "lista_erro4 = Erro(y_predict4, y_test4)\n",
    "lista_classificação4 = Classificador(lista_erro4)\n",
    "resultado4 = Acuracia(lista_classificação4,lista_erro4,y_predict4,y_test4)\n",
    "print(\"A regressão Linear acertou {0}%\".format(resultado4))"
   ]
  },
  {
   "cell_type": "markdown",
   "metadata": {},
   "source": [
    "#### Conclusão 2"
   ]
  },
  {
   "cell_type": "markdown",
   "metadata": {},
   "source": [
    "A partir da regressão realizada na iteração 2 foi possível observar uma piora do valor preditivo e no valor do r ao quadrado em relação a iteração 1. O que confirma a dificuldade em interpretar os dados, como apresentado anteriormente.\n",
    "\n",
    "Somado a isso, o valor P da variável \"Beer_PerCapita\" aumentou novamente, o que nos levou a retirar a variavel na iteração 3."
   ]
  },
  {
   "cell_type": "markdown",
   "metadata": {},
   "source": [
    "### IDH + Expectativa de Vida + Desemprego (iteração 3)"
   ]
  },
  {
   "cell_type": "code",
   "execution_count": 105,
   "metadata": {},
   "outputs": [],
   "source": [
    "X5 = dados_completo[['HDI','Expec de Vida','Desemprego']]"
   ]
  },
  {
   "cell_type": "code",
   "execution_count": 106,
   "metadata": {
    "scrolled": true
   },
   "outputs": [
    {
     "name": "stderr",
     "output_type": "stream",
     "text": [
      "C:\\Users\\Gabi_XPS\\Anaconda3\\lib\\site-packages\\numpy\\core\\fromnumeric.py:2389: FutureWarning: Method .ptp is deprecated and will be removed in a future version. Use numpy.ptp instead.\n",
      "  return ptp(axis=axis, out=out, **kwargs)\n"
     ]
    },
    {
     "data": {
      "text/html": [
       "<table class=\"simpletable\">\n",
       "<caption>OLS Regression Results</caption>\n",
       "<tr>\n",
       "  <th>Dep. Variable:</th>     <td>HappinessScore</td>  <th>  R-squared:         </th> <td>   0.682</td>\n",
       "</tr>\n",
       "<tr>\n",
       "  <th>Model:</th>                   <td>OLS</td>       <th>  Adj. R-squared:    </th> <td>   0.669</td>\n",
       "</tr>\n",
       "<tr>\n",
       "  <th>Method:</th>             <td>Least Squares</td>  <th>  F-statistic:       </th> <td>   52.19</td>\n",
       "</tr>\n",
       "<tr>\n",
       "  <th>Date:</th>             <td>Thu, 21 Nov 2019</td> <th>  Prob (F-statistic):</th> <td>3.94e-18</td>\n",
       "</tr>\n",
       "<tr>\n",
       "  <th>Time:</th>                 <td>08:54:00</td>     <th>  Log-Likelihood:    </th> <td> -67.300</td>\n",
       "</tr>\n",
       "<tr>\n",
       "  <th>No. Observations:</th>      <td>    77</td>      <th>  AIC:               </th> <td>   142.6</td>\n",
       "</tr>\n",
       "<tr>\n",
       "  <th>Df Residuals:</th>          <td>    73</td>      <th>  BIC:               </th> <td>   152.0</td>\n",
       "</tr>\n",
       "<tr>\n",
       "  <th>Df Model:</th>              <td>     3</td>      <th>                     </th>     <td> </td>   \n",
       "</tr>\n",
       "<tr>\n",
       "  <th>Covariance Type:</th>      <td>nonrobust</td>    <th>                     </th>     <td> </td>   \n",
       "</tr>\n",
       "</table>\n",
       "<table class=\"simpletable\">\n",
       "<tr>\n",
       "        <td></td>           <th>coef</th>     <th>std err</th>      <th>t</th>      <th>P>|t|</th>  <th>[0.025</th>    <th>0.975]</th>  \n",
       "</tr>\n",
       "<tr>\n",
       "  <th>const</th>         <td>   -1.2643</td> <td>    1.273</td> <td>   -0.993</td> <td> 0.324</td> <td>   -3.802</td> <td>    1.273</td>\n",
       "</tr>\n",
       "<tr>\n",
       "  <th>HDI</th>           <td>    0.0046</td> <td>    0.001</td> <td>    3.720</td> <td> 0.000</td> <td>    0.002</td> <td>    0.007</td>\n",
       "</tr>\n",
       "<tr>\n",
       "  <th>Expec de Vida</th> <td>    0.0515</td> <td>    0.027</td> <td>    1.928</td> <td> 0.058</td> <td>   -0.002</td> <td>    0.105</td>\n",
       "</tr>\n",
       "<tr>\n",
       "  <th>Desemprego</th>    <td>   -0.0541</td> <td>    0.012</td> <td>   -4.509</td> <td> 0.000</td> <td>   -0.078</td> <td>   -0.030</td>\n",
       "</tr>\n",
       "</table>\n",
       "<table class=\"simpletable\">\n",
       "<tr>\n",
       "  <th>Omnibus:</th>       <td> 1.511</td> <th>  Durbin-Watson:     </th> <td>   1.296</td>\n",
       "</tr>\n",
       "<tr>\n",
       "  <th>Prob(Omnibus):</th> <td> 0.470</td> <th>  Jarque-Bera (JB):  </th> <td>   1.230</td>\n",
       "</tr>\n",
       "<tr>\n",
       "  <th>Skew:</th>          <td>-0.310</td> <th>  Prob(JB):          </th> <td>   0.541</td>\n",
       "</tr>\n",
       "<tr>\n",
       "  <th>Kurtosis:</th>      <td> 2.998</td> <th>  Cond. No.          </th> <td>1.53e+04</td>\n",
       "</tr>\n",
       "</table><br/><br/>Warnings:<br/>[1] Standard Errors assume that the covariance matrix of the errors is correctly specified.<br/>[2] The condition number is large, 1.53e+04. This might indicate that there are<br/>strong multicollinearity or other numerical problems."
      ],
      "text/plain": [
       "<class 'statsmodels.iolib.summary.Summary'>\n",
       "\"\"\"\n",
       "                            OLS Regression Results                            \n",
       "==============================================================================\n",
       "Dep. Variable:         HappinessScore   R-squared:                       0.682\n",
       "Model:                            OLS   Adj. R-squared:                  0.669\n",
       "Method:                 Least Squares   F-statistic:                     52.19\n",
       "Date:                Thu, 21 Nov 2019   Prob (F-statistic):           3.94e-18\n",
       "Time:                        08:54:00   Log-Likelihood:                -67.300\n",
       "No. Observations:                  77   AIC:                             142.6\n",
       "Df Residuals:                      73   BIC:                             152.0\n",
       "Df Model:                           3                                         \n",
       "Covariance Type:            nonrobust                                         \n",
       "=================================================================================\n",
       "                    coef    std err          t      P>|t|      [0.025      0.975]\n",
       "---------------------------------------------------------------------------------\n",
       "const            -1.2643      1.273     -0.993      0.324      -3.802       1.273\n",
       "HDI               0.0046      0.001      3.720      0.000       0.002       0.007\n",
       "Expec de Vida     0.0515      0.027      1.928      0.058      -0.002       0.105\n",
       "Desemprego       -0.0541      0.012     -4.509      0.000      -0.078      -0.030\n",
       "==============================================================================\n",
       "Omnibus:                        1.511   Durbin-Watson:                   1.296\n",
       "Prob(Omnibus):                  0.470   Jarque-Bera (JB):                1.230\n",
       "Skew:                          -0.310   Prob(JB):                        0.541\n",
       "Kurtosis:                       2.998   Cond. No.                     1.53e+04\n",
       "==============================================================================\n",
       "\n",
       "Warnings:\n",
       "[1] Standard Errors assume that the covariance matrix of the errors is correctly specified.\n",
       "[2] The condition number is large, 1.53e+04. This might indicate that there are\n",
       "strong multicollinearity or other numerical problems.\n",
       "\"\"\""
      ]
     },
     "execution_count": 106,
     "metadata": {},
     "output_type": "execute_result"
    }
   ],
   "source": [
    "results = regress(X5,Y)\n",
    "results.summary()"
   ]
  },
  {
   "cell_type": "code",
   "execution_count": 107,
   "metadata": {},
   "outputs": [],
   "source": [
    "X_train5, X_test5, y_train5, y_test5 = train_test_split(X5, Y, test_size=0.1, random_state=RANDOM_SEED)"
   ]
  },
  {
   "cell_type": "code",
   "execution_count": 108,
   "metadata": {},
   "outputs": [],
   "source": [
    "from sklearn.model_selection import train_test_split\n",
    "from sklearn.linear_model import LinearRegression\n",
    "model = LinearRegression().fit(X_train5,y_train5)"
   ]
  },
  {
   "cell_type": "code",
   "execution_count": 109,
   "metadata": {
    "scrolled": true
   },
   "outputs": [
    {
     "data": {
      "text/plain": [
       "array([6.64061113, 5.91734116, 6.79412539, 6.77658732, 5.93836734,\n",
       "       5.98379337, 5.51178613, 5.65146513])"
      ]
     },
     "execution_count": 109,
     "metadata": {},
     "output_type": "execute_result"
    }
   ],
   "source": [
    "y_predict5 = model.predict(X_test5)\n",
    "y_predict5"
   ]
  },
  {
   "cell_type": "code",
   "execution_count": 116,
   "metadata": {},
   "outputs": [
    {
     "name": "stdout",
     "output_type": "stream",
     "text": [
      "A regressão Linear acertou 62.5%\n"
     ]
    }
   ],
   "source": [
    "lista_erro5 = Erro(y_predict5, y_test5)\n",
    "lista_classificação5 = Classificador(lista_erro5)\n",
    "resultado5 = Acuracia(lista_classificação5,lista_erro5,y_predict5,y_test5)\n",
    "print(\"A regressão Linear acertou {0}%\".format(resultado5))"
   ]
  },
  {
   "cell_type": "markdown",
   "metadata": {},
   "source": [
    "#### Conclusão 3"
   ]
  },
  {
   "cell_type": "markdown",
   "metadata": {},
   "source": [
    "A iteração 3, foi a com melhor valor preditivo apesar de não ser a que possui o valor de R ao quadrado mais alto. Assim, foi possível observar que as variáveis que mais possuem relação com a felicidade são:  IDH, expectativa de vida e Desesmprego. "
   ]
  },
  {
   "cell_type": "markdown",
   "metadata": {},
   "source": [
    "# Conclusão\n",
    "\n",
    "A partir do modelo de regressão linear foi possível obter um acerto de 62.5%. Foi possível obter esse resultado a partir da adição de mais variáveis, retirando as variáveis que possuiam o valor P maior e observando a porcentagem de acerto do valor preditivo e do R ao quadrado. \n",
    "\n",
    "Além disso, foi possível observar que nem sempre as regressões com o valor do R ao quadrado maior possuiam uma porcentagem de acerto maior. Porem, a regressão mais adequada seria a com porcentagem de acerto maior. Tal resultado, aconteceu devido a baixa probabilidade dos dados terem uma distribuição normal, tendo assim um comportamento mais anormal."
   ]
  },
  {
   "cell_type": "markdown",
   "metadata": {},
   "source": [
    "#### Gráfico de VariáveisXHapiness\n",
    "A partir dos gráficos a seguir é possível observar a correlação entre cada variável e o índice de felicidade."
   ]
  },
  {
   "cell_type": "code",
   "execution_count": 124,
   "metadata": {},
   "outputs": [
    {
     "name": "stdout",
     "output_type": "stream",
     "text": [
      "Gráfico 1\n"
     ]
    },
    {
     "data": {
      "image/png": "[encoded data removed]",
      "text/plain": [
       "<Figure size 432x288 with 1 Axes>"
      ]
     },
     "metadata": {
      "needs_background": "light"
     },
     "output_type": "display_data"
    },
    {
     "name": "stdout",
     "output_type": "stream",
     "text": [
      "Gráfico 2\n"
     ]
    },
    {
     "data": {
      "image/png": "[encoded data removed]",
      "text/plain": [
       "<Figure size 432x288 with 1 Axes>"
      ]
     },
     "metadata": {
      "needs_background": "light"
     },
     "output_type": "display_data"
    },
    {
     "name": "stdout",
     "output_type": "stream",
     "text": [
      "Gráfico 3\n"
     ]
    },
    {
     "data": {
      "image/png": "[encoded data removed]",
      "text/plain": [
       "<Figure size 432x288 with 1 Axes>"
      ]
     },
     "metadata": {
      "needs_background": "light"
     },
     "output_type": "display_data"
    },
    {
     "name": "stdout",
     "output_type": "stream",
     "text": [
      "Gráfico 4\n"
     ]
    },
    {
     "data": {
      "image/png": "[encoded data removed]",
      "text/plain": [
       "<Figure size 432x288 with 1 Axes>"
      ]
     },
     "metadata": {
      "needs_background": "light"
     },
     "output_type": "display_data"
    },
    {
     "name": "stdout",
     "output_type": "stream",
     "text": [
      "Gráfico 5\n"
     ]
    },
    {
     "data": {
      "image/png": "[encoded data removed]",
      "text/plain": [
       "<Figure size 432x288 with 1 Axes>"
      ]
     },
     "metadata": {
      "needs_background": "light"
     },
     "output_type": "display_data"
    },
    {
     "name": "stdout",
     "output_type": "stream",
     "text": [
      "Gráfico 6\n"
     ]
    },
    {
     "data": {
      "image/png": "[encoded data removed]",
      "text/plain": [
       "<Figure size 432x288 with 1 Axes>"
      ]
     },
     "metadata": {
      "needs_background": "light"
     },
     "output_type": "display_data"
    },
    {
     "name": "stdout",
     "output_type": "stream",
     "text": [
      "Gráfico 7\n"
     ]
    },
    {
     "data": {
      "image/png": "[encoded data removed]",
      "text/plain": [
       "<Figure size 432x288 with 1 Axes>"
      ]
     },
     "metadata": {
      "needs_background": "light"
     },
     "output_type": "display_data"
    },
    {
     "name": "stdout",
     "output_type": "stream",
     "text": [
      "Gráfico 8\n"
     ]
    },
    {
     "data": {
      "image/png": "[encoded data removed]",
      "text/plain": [
       "<Figure size 432x288 with 1 Axes>"
      ]
     },
     "metadata": {
      "needs_background": "light"
     },
     "output_type": "display_data"
    },
    {
     "name": "stdout",
     "output_type": "stream",
     "text": [
      "Gráfico 9\n"
     ]
    },
    {
     "data": {
      "image/png": "[encoded data removed]",
      "text/plain": [
       "<Figure size 432x288 with 1 Axes>"
      ]
     },
     "metadata": {
      "needs_background": "light"
     },
     "output_type": "display_data"
    },
    {
     "name": "stdout",
     "output_type": "stream",
     "text": [
      "Gráfico 10\n"
     ]
    },
    {
     "data": {
      "image/png": "[encoded data removed]",
      "text/plain": [
       "<Figure size 432x288 with 1 Axes>"
      ]
     },
     "metadata": {
      "needs_background": "light"
     },
     "output_type": "display_data"
    },
    {
     "name": "stdout",
     "output_type": "stream",
     "text": [
      "Gráfico 11\n"
     ]
    },
    {
     "data": {
      "image/png": "[encoded data removed]",
      "text/plain": [
       "<Figure size 432x288 with 1 Axes>"
      ]
     },
     "metadata": {
      "needs_background": "light"
     },
     "output_type": "display_data"
    }
   ],
   "source": [
    "print(\"Gráfico 1\")\n",
    "y = df['HappinessScore']\n",
    "x = df['Spirit_PerCapita']   \n",
    "yb = y.mean()\n",
    "xb = x.mean()\n",
    "Sxy = ((x -xb)*(y -yb)).sum()\n",
    "Sxx = ((x -xb)**2).sum()\n",
    "b1 = Sxy/Sxx\n",
    "b0 = yb - b1*xb\n",
    "x_v = np.linspace(x.min(), x.max(), 500)\n",
    "y_v = b0 + b1*x_v\n",
    "plt.plot(x_v,y_v, color=\"r\") # resultados da regressão\n",
    "plt.scatter(x, y); # dados\n",
    "plt.ylabel(\"HappinessScore\");\n",
    "plt.xlabel(\"Spirit_PerCapita\");\n",
    "plt.show();\n",
    "\n",
    "print(\"Gráfico 2\")\n",
    "y = df['HappinessScore'] \n",
    "x = df['Wine_PerCapita']    \n",
    "yb = y.mean()\n",
    "xb = x.mean()\n",
    "Sxy = ((x -xb)*(y -yb)).sum()\n",
    "Sxx = ((x -xb)**2).sum()\n",
    "b1 = Sxy/Sxx\n",
    "b0 = yb - b1*xb\n",
    "x_v = np.linspace(x.min(), x.max(), 500)\n",
    "y_v = b0 + b1*x_v\n",
    "plt.plot(x_v,y_v, color=\"r\") # resultados da regressão\n",
    "plt.scatter(x, y); # dados\n",
    "plt.ylabel(\"HappinessScore\");\n",
    "plt.xlabel(\"Wine_PerCapita\");\n",
    "plt.show();\n",
    "\n",
    "print(\"Gráfico 3\")\n",
    "y = df['HappinessScore']\n",
    "x = df['GDP_PerCapita']   \n",
    "# x = np.log(x1)\n",
    "yb = y.mean()\n",
    "xb = x.mean()\n",
    "Sxy = ((x -xb)*(y -yb)).sum()\n",
    "Sxx = ((x -xb)**2).sum()\n",
    "b1 = Sxy/Sxx\n",
    "b0 = yb - b1*xb\n",
    "x_v = np.linspace(x.min(), x.max(), 500)\n",
    "y_v = b0 + b1*x_v\n",
    "plt.plot(x_v,y_v, color=\"r\") # resultados da regressão\n",
    "plt.scatter(x, y); # dados\n",
    "plt.ylabel(\"HappinessScore\");\n",
    "plt.xlabel(\"GDP_PerCapita\");\n",
    "plt.show();\n",
    "\n",
    "print(\"Gráfico 4\")\n",
    "y = df['HappinessScore']\n",
    "x1 = df['GDP_PerCapita']   \n",
    "x = np.log(x1)\n",
    "yb = y.mean()\n",
    "xb = x.mean()\n",
    "Sxy = ((x -xb)*(y -yb)).sum()\n",
    "Sxx = ((x -xb)**2).sum()\n",
    "b1 = Sxy/Sxx\n",
    "b0 = yb - b1*xb\n",
    "x_v = np.linspace(x.min(), x.max(), 500)\n",
    "y_v = b0 + b1*x_v\n",
    "plt.plot(x_v,y_v, color=\"r\") # resultados da regressão\n",
    "plt.scatter(x, y); # dados\n",
    "plt.ylabel(\"HappinessScore\");\n",
    "plt.xlabel(\"GDP_PerCapita (log)\");\n",
    "plt.show();\n",
    "\n",
    "print(\"Gráfico 5\")\n",
    "y = df['HappinessScore'] \n",
    "x = df['HDI'] \n",
    "yb = y.mean()\n",
    "xb = x.mean()\n",
    "Sxy = ((x -xb)*(y -yb)).sum()\n",
    "Sxx = ((x -xb)**2).sum()\n",
    "b1 = Sxy/Sxx\n",
    "b0 = yb - b1*xb\n",
    "x_v = np.linspace(x.min(), x.max(), 500)\n",
    "y_v = b0 + b1*x_v\n",
    "plt.plot(x_v,y_v, color=\"r\") # resultados da regressão\n",
    "plt.scatter(x, y); # dados\n",
    "plt.ylabel(\"HappinessScore\");\n",
    "plt.xlabel(\"HDI\");\n",
    "plt.show();\n",
    "\n",
    "print(\"Gráfico 6\")\n",
    "y = df['HappinessScore'] \n",
    "x = df['Beer_PerCapita']    \n",
    "yb = y.mean()\n",
    "xb = x.mean()\n",
    "Sxy = ((x -xb)*(y -yb)).sum()\n",
    "Sxx = ((x -xb)**2).sum()\n",
    "b1 = Sxy/Sxx\n",
    "b0 = yb - b1*xb\n",
    "x_v = np.linspace(x.min(), x.max(), 500)\n",
    "y_v = b0 + b1*x_v\n",
    "plt.plot(x_v,y_v, color=\"r\") # resultados da regressão\n",
    "plt.scatter(x, y); # dados\n",
    "plt.ylabel(\"HappinessScore\");\n",
    "plt.xlabel(\"Beer_PerCapita\");\n",
    "plt.show();\n",
    "\n",
    "print(\"Gráfico 7\")\n",
    "y = dados_completo['HappinessScore'] \n",
    "x = dados_completo['Expec de Vida']    \n",
    "yb = y.mean()\n",
    "xb = x.mean()\n",
    "Sxy = ((x -xb)*(y -yb)).sum()\n",
    "Sxx = ((x -xb)**2).sum()\n",
    "b1 = Sxy/Sxx\n",
    "b0 = yb - b1*xb\n",
    "x_v = np.linspace(x.min(), x.max(), 500)\n",
    "y_v = b0 + b1*x_v\n",
    "plt.plot(x_v,y_v, color=\"r\") # resultados da regressão\n",
    "plt.scatter(x, y); # dados\n",
    "plt.ylabel(\"HappinessScore\");\n",
    "plt.xlabel(\"Expectativa de Vida\");\n",
    "plt.show();\n",
    "\n",
    "print(\"Gráfico 8\")\n",
    "y = dados_completo['HappinessScore'] \n",
    "x = dados_completo['Desemprego']    \n",
    "yb = y.mean()\n",
    "xb = x.mean()\n",
    "Sxy = ((x -xb)*(y -yb)).sum()\n",
    "Sxx = ((x -xb)**2).sum()\n",
    "b1 = Sxy/Sxx\n",
    "b0 = yb - b1*xb\n",
    "x_v = np.linspace(x.min(), x.max(), 500)\n",
    "y_v = b0 + b1*x_v\n",
    "plt.plot(x_v,y_v, color=\"r\") # resultados da regressão\n",
    "plt.scatter(x, y); # dados\n",
    "plt.ylabel(\"HappinessScore\");\n",
    "plt.xlabel(\"Desemprego\");\n",
    "plt.show();\n",
    "\n",
    "print(\"Gráfico 9\")\n",
    "y = dados_completo['HappinessScore'] \n",
    "x = dados_completo['Mortalidade']    \n",
    "yb = y.mean()\n",
    "xb = x.mean()\n",
    "Sxy = ((x -xb)*(y -yb)).sum()\n",
    "Sxx = ((x -xb)**2).sum()\n",
    "b1 = Sxy/Sxx\n",
    "b0 = yb - b1*xb\n",
    "x_v = np.linspace(x.min(), x.max(), 500)\n",
    "y_v = b0 + b1*x_v\n",
    "plt.plot(x_v,y_v, color=\"r\") # resultados da regressão\n",
    "plt.scatter(x, y); # dados\n",
    "plt.ylabel(\"HappinessScore\");\n",
    "plt.xlabel(\"Mortalidade\");\n",
    "plt.show();\n",
    "\n",
    "print(\"Gráfico 10\")\n",
    "y = dados_completo['HappinessScore'] \n",
    "x = dados_completo['Criança p/ Mulher']    \n",
    "yb = y.mean()\n",
    "xb = x.mean()\n",
    "Sxy = ((x -xb)*(y -yb)).sum()\n",
    "Sxx = ((x -xb)**2).sum()\n",
    "b1 = Sxy/Sxx\n",
    "b0 = yb - b1*xb\n",
    "x_v = np.linspace(x.min(), x.max(), 500)\n",
    "y_v = b0 + b1*x_v\n",
    "plt.plot(x_v,y_v, color=\"r\") # resultados da regressão\n",
    "plt.scatter(x, y); # dados\n",
    "plt.ylabel(\"HappinessScore\");\n",
    "plt.xlabel(\"Criança p/ Mulher\");\n",
    "plt.show();\n",
    "\n",
    "print(\"Gráfico 11\")\n",
    "y = dados_completo['HappinessScore'] \n",
    "x = dados_completo['Inflação']    \n",
    "yb = y.mean()\n",
    "xb = x.mean()\n",
    "Sxy = ((x -xb)*(y -yb)).sum()\n",
    "Sxx = ((x -xb)**2).sum()\n",
    "b1 = Sxy/Sxx\n",
    "b0 = yb - b1*xb\n",
    "x_v = np.linspace(x.min(), x.max(), 500)\n",
    "y_v = b0 + b1*x_v\n",
    "plt.plot(x_v,y_v, color=\"r\") # resultados da regressão\n",
    "plt.scatter(x, y); # dados\n",
    "plt.ylabel(\"HappinessScore\");\n",
    "plt.xlabel(\"Inflação\");\n",
    "plt.show();"
   ]
  },
  {
   "cell_type": "markdown",
   "metadata": {},
   "source": [
    "A partir dos gráficos e das análises realizadas é possivel concluir que as variáveis: Expectativa de Vida (gráfico 7), Idh (gráfico 5) e Desemprego (gráfico 8) são as que mais interferem na Felicidade."
   ]
  }
 ],
 "metadata": {
  "kernelspec": {
   "display_name": "Python 3",
   "language": "python",
   "name": "python3"
  },
  "language_info": {
   "codemirror_mode": {
    "name": "ipython",
    "version": 3
   },
   "file_extension": ".py",
   "mimetype": "text/x-python",
   "name": "python",
   "nbconvert_exporter": "python",
   "pygments_lexer": "ipython3",
   "version": "3.7.1"
  }
 },
 "nbformat": 4,
 "nbformat_minor": 2
}
