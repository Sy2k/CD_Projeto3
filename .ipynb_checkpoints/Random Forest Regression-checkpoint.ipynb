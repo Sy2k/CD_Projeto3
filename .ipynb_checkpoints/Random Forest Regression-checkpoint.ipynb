{
 "cells": [
  {
   "cell_type": "markdown",
   "metadata": {},
   "source": [
    "## Randon Forest Regression"
   ]
  },
  {
   "cell_type": "code",
   "execution_count": 1,
   "metadata": {},
   "outputs": [],
   "source": [
    "import pandas as pd\n",
    "from sklearn.tree import DecisionTreeClassifier, DecisionTreeRegressor\n",
    "from sklearn.ensemble import RandomForestRegressor\n",
    "from sklearn.datasets import make_regression\n",
    "from sklearn.model_selection import train_test_split\n",
    "from sklearn import metrics\n",
    "import numpy as np\n",
    "\n",
    "from sklearn.tree import export_graphviz\n",
    "from sklearn.externals.six import StringIO  \n",
    "from IPython.display import Image  \n",
    "import pydotplus\n",
    "\n",
    "RANDOM_SEED = 42\n",
    "np.random.seed(RANDOM_SEED)"
   ]
  },
  {
   "cell_type": "code",
   "execution_count": 2,
   "metadata": {},
   "outputs": [
    {
     "data": {
      "text/html": [
       "<div>\n",
       "<style scoped>\n",
       "    .dataframe tbody tr th:only-of-type {\n",
       "        vertical-align: middle;\n",
       "    }\n",
       "\n",
       "    .dataframe tbody tr th {\n",
       "        vertical-align: top;\n",
       "    }\n",
       "\n",
       "    .dataframe thead th {\n",
       "        text-align: right;\n",
       "    }\n",
       "</style>\n",
       "<table border=\"1\" class=\"dataframe\">\n",
       "  <thead>\n",
       "    <tr style=\"text-align: right;\">\n",
       "      <th></th>\n",
       "      <th>Country</th>\n",
       "      <th>Region</th>\n",
       "      <th>Hemisphere</th>\n",
       "      <th>HappinessScore</th>\n",
       "      <th>HDI</th>\n",
       "      <th>GPD_PerCapita</th>\n",
       "      <th>Beer_PerCapita</th>\n",
       "      <th>Spirit_PerCapita</th>\n",
       "      <th>Wine_PerCapita</th>\n",
       "    </tr>\n",
       "  </thead>\n",
       "  <tbody>\n",
       "    <tr>\n",
       "      <th>1</th>\n",
       "      <td>Denmark</td>\n",
       "      <td>Western Europe</td>\n",
       "      <td>north</td>\n",
       "      <td>7.526</td>\n",
       "      <td>928</td>\n",
       "      <td>53.579</td>\n",
       "      <td>224</td>\n",
       "      <td>81</td>\n",
       "      <td>278</td>\n",
       "    </tr>\n",
       "    <tr>\n",
       "      <th>2</th>\n",
       "      <td>Switzerland</td>\n",
       "      <td>Western Europe</td>\n",
       "      <td>north</td>\n",
       "      <td>7.509</td>\n",
       "      <td>943</td>\n",
       "      <td>79.866</td>\n",
       "      <td>185</td>\n",
       "      <td>100</td>\n",
       "      <td>280</td>\n",
       "    </tr>\n",
       "    <tr>\n",
       "      <th>3</th>\n",
       "      <td>Iceland</td>\n",
       "      <td>Western Europe</td>\n",
       "      <td>north</td>\n",
       "      <td>7.501</td>\n",
       "      <td>933</td>\n",
       "      <td>60.53</td>\n",
       "      <td>233</td>\n",
       "      <td>61</td>\n",
       "      <td>78</td>\n",
       "    </tr>\n",
       "  </tbody>\n",
       "</table>\n",
       "</div>"
      ],
      "text/plain": [
       "       Country          Region Hemisphere HappinessScore  HDI GPD_PerCapita  \\\n",
       "1      Denmark  Western Europe      north          7.526  928        53.579   \n",
       "2  Switzerland  Western Europe      north          7.509  943        79.866   \n",
       "3      Iceland  Western Europe      north          7.501  933         60.53   \n",
       "\n",
       "  Beer_PerCapita Spirit_PerCapita Wine_PerCapita  \n",
       "1            224               81            278  \n",
       "2            185              100            280  \n",
       "3            233               61             78  "
      ]
     },
     "execution_count": 2,
     "metadata": {},
     "output_type": "execute_result"
    }
   ],
   "source": [
    "colunas=[\"Country\",\"Region\",\"Hemisphere\",\"HappinessScore\",\"HDI\",\"GPD_PerCapita\",\"Beer_PerCapita\",\"Spirit_PerCapita\",\"Wine_PerCapita\"]\n",
    "dados = pd.read_excel(\"HappinessAlcoholConsumption.xls\", header=None, names=colunas)\n",
    "dados = dados.iloc[1:,]\n",
    "dados.head(3)"
   ]
  },
  {
   "cell_type": "code",
   "execution_count": 3,
   "metadata": {},
   "outputs": [],
   "source": [
    "feature_cols = [\"HDI\",\"GPD_PerCapita\",\"Beer_PerCapita\",\"Spirit_PerCapita\",\"Wine_PerCapita\"]\n",
    "X = dados[feature_cols]\n",
    "y = dados.HappinessScore"
   ]
  },
  {
   "cell_type": "code",
   "execution_count": 4,
   "metadata": {},
   "outputs": [],
   "source": [
    "X_train, X_test, y_train, y_test = train_test_split(X, y, test_size=0.1, random_state=RANDOM_SEED) # 70% treino e 30% teste"
   ]
  },
  {
   "cell_type": "code",
   "execution_count": 5,
   "metadata": {},
   "outputs": [],
   "source": [
    "dt2 = RandomForestRegressor(n_estimators=1000, random_state=67)\n",
    "\n",
    "dt2 = dt2.fit(X_train,y_train)\n",
    "\n",
    "y_pred = dt2.predict(X_test)"
   ]
  },
  {
   "cell_type": "code",
   "execution_count": 6,
   "metadata": {},
   "outputs": [
    {
     "name": "stdout",
     "output_type": "stream",
     "text": [
      "O Random Forest acertou 69.23076923076923%\n"
     ]
    }
   ],
   "source": [
    "erro=[]\n",
    "for i,e in zip(y_pred,y_test):\n",
    "    if i<e:\n",
    "     diferenca= e-i\n",
    "     erro.append(diferenca)\n",
    "    else:\n",
    "     diferenca= i-e\n",
    "     erro.append(diferenca)\n",
    "\n",
    "classificacao=[]\n",
    "for erros in erro: \n",
    "    if erros< 0.5: \n",
    "        classfi= 'Certo'\n",
    "        classificacao.append(classfi)\n",
    "    else:\n",
    "        classfi= 'Errado'\n",
    "        classificacao.append(classfi)\n",
    "    \n",
    "data = {\n",
    "'Y_pred': y_pred,\n",
    "'Y_test': y_test,\n",
    "'Erro': erro, \n",
    "'Classificação': classificacao,\n",
    "}\n",
    "tabela = pd.DataFrame(data, columns=['Y_pred', 'Y_test','Erro','Classificação' ])\n",
    "\n",
    "contador=0\n",
    "for c in classificacao: \n",
    "    if c == \"Certo\": \n",
    "        contador+=1\n",
    "acertou=(contador/len(classificacao))*100\n",
    "print(\"O Random Forest acertou {0}%\".format(acertou))"
   ]
  }
 ],
 "metadata": {
  "kernelspec": {
   "display_name": "Python 3",
   "language": "python",
   "name": "python3"
  },
  "language_info": {
   "codemirror_mode": {
    "name": "ipython",
    "version": 3
   },
   "file_extension": ".py",
   "mimetype": "text/x-python",
   "name": "python",
   "nbconvert_exporter": "python",
   "pygments_lexer": "ipython3",
   "version": "3.7.1"
  }
 },
 "nbformat": 4,
 "nbformat_minor": 2
}
