{
 "cells": [
  {
   "cell_type": "markdown",
   "metadata": {},
   "source": [
    "---\n",
    "# K-Neighbors Regressor\n",
    "\n",
    "---\n",
    "\n",
    "**A regressão KNeighbors consiste em realizar previsões através da interpolação local dos dados associados aos vizinhos mais próximos no conjunto de treinamento, ou seja, dado um objeto desconhecido, procurar pelos k vizinhos mais próximos a ele em um conjunto de dados previamente conhecido, segundo uma medida de distância pré-estabelecida.**\n",
    "\n",
    "\n",
    "\n"
   ]
  },
  {
   "cell_type": "code",
   "execution_count": 115,
   "metadata": {},
   "outputs": [
    {
     "name": "stdout",
     "output_type": "stream",
     "text": [
      "Requirement already satisfied: mglearn in c:\\users\\user\\anaconda3\\lib\\site-packages (0.1.7)\n",
      "Requirement already satisfied: cycler in c:\\users\\user\\anaconda3\\lib\\site-packages (from mglearn) (0.10.0)\n",
      "Requirement already satisfied: numpy in c:\\users\\user\\anaconda3\\lib\\site-packages (from mglearn) (1.15.4)\n",
      "Requirement already satisfied: pillow in c:\\users\\user\\anaconda3\\lib\\site-packages (from mglearn) (5.3.0)\n",
      "Requirement already satisfied: imageio in c:\\users\\user\\anaconda3\\lib\\site-packages (from mglearn) (2.4.1)\n",
      "Requirement already satisfied: scikit-learn in c:\\users\\user\\anaconda3\\lib\\site-packages (from mglearn) (0.20.1)\n",
      "Requirement already satisfied: pandas in c:\\users\\user\\anaconda3\\lib\\site-packages (from mglearn) (0.23.4)\n",
      "Requirement already satisfied: matplotlib in c:\\users\\user\\anaconda3\\lib\\site-packages (from mglearn) (3.0.2)\n",
      "Requirement already satisfied: six in c:\\users\\user\\anaconda3\\lib\\site-packages (from cycler->mglearn) (1.12.0)\n",
      "Requirement already satisfied: scipy>=0.13.3 in c:\\users\\user\\anaconda3\\lib\\site-packages (from scikit-learn->mglearn) (1.1.0)\n",
      "Requirement already satisfied: python-dateutil>=2.5.0 in c:\\users\\user\\anaconda3\\lib\\site-packages (from pandas->mglearn) (2.7.5)\n",
      "Requirement already satisfied: pytz>=2011k in c:\\users\\user\\anaconda3\\lib\\site-packages (from pandas->mglearn) (2018.7)\n",
      "Requirement already satisfied: kiwisolver>=1.0.1 in c:\\users\\user\\anaconda3\\lib\\site-packages (from matplotlib->mglearn) (1.0.1)\n",
      "Requirement already satisfied: pyparsing!=2.0.4,!=2.1.2,!=2.1.6,>=2.0.1 in c:\\users\\user\\anaconda3\\lib\\site-packages (from matplotlib->mglearn) (2.3.0)\n",
      "Requirement already satisfied: setuptools in c:\\users\\user\\anaconda3\\lib\\site-packages (from kiwisolver>=1.0.1->matplotlib->mglearn) (40.6.3)\n"
     ]
    }
   ],
   "source": [
    "# --------------------- IMPORTANDO BIBLIOTECA ----------------------\n",
    "%matplotlib inline\n",
    "!pip install mglearn\n",
    "import numpy as np\n",
    "import pandas as pd\n",
    "import matplotlib\n",
    "import matplotlib.pyplot as plt\n",
    "import seaborn as sns\n",
    "import random\n",
    "from sklearn.model_selection import train_test_split\n",
    "import mglearn \n",
    "from sklearn.neighbors import KNeighborsRegressor\n",
    "RANDOM_SEED = 42\n",
    "np.random.seed(RANDOM_SEED)\n",
    "\n",
    "from sklearn.metrics import r2_score"
   ]
  },
  {
   "cell_type": "markdown",
   "metadata": {},
   "source": [
    "## Separando os dados que serão treinados e os que serão testados \n",
    "\n",
    "O método usado para essa separação de dados é o RANDOM_SEED"
   ]
  },
  {
   "cell_type": "code",
   "execution_count": 116,
   "metadata": {},
   "outputs": [],
   "source": [
    "RANDOM_SEED = 42\n",
    "np.random.seed(RANDOM_SEED)"
   ]
  },
  {
   "cell_type": "code",
   "execution_count": 117,
   "metadata": {},
   "outputs": [],
   "source": [
    "dados = pd.read_excel(\"HappinessAlcoholConsumption.xls\")\n"
   ]
  },
  {
   "cell_type": "code",
   "execution_count": 118,
   "metadata": {},
   "outputs": [],
   "source": [
    "X =  dados[['HDI', 'GDP_PerCapita', 'Beer_PerCapita', 'Spirit_PerCapita', 'Wine_PerCapita']]\n",
    "y = dados[\"HappinessScore\"]"
   ]
  },
  {
   "cell_type": "code",
   "execution_count": 119,
   "metadata": {},
   "outputs": [],
   "source": [
    "X_train, X_test, y_train, y_test = train_test_split(X, y, test_size=0.1, random_state=RANDOM_SEED)"
   ]
  },
  {
   "cell_type": "markdown",
   "metadata": {},
   "source": [
    "# Função Acurácia"
   ]
  },
  {
   "cell_type": "code",
   "execution_count": 120,
   "metadata": {},
   "outputs": [],
   "source": [
    "# --------------- DEF para acuracia --------------- \n",
    "def Erro(y_previsto,y_base_teste):\n",
    "    lista_erro = []\n",
    "    for i,e in zip(y_previsto,y_base_teste):\n",
    "        if i < e:\n",
    "            dif = e-i\n",
    "            lista_erro.append(dif)\n",
    "        else: \n",
    "            dif = i-e\n",
    "            lista_erro.append(dif)\n",
    "    return lista_erro\n",
    "\n",
    "def Classificador(lista_erro):\n",
    "    lista_classificacao = []\n",
    "    for erros in lista_erro:\n",
    "        if erros<0.5:\n",
    "            classifica = 'Certo'\n",
    "            lista_classificacao.append(classifica)\n",
    "        else:\n",
    "            classifica = 'Errado'\n",
    "            lista_classificacao.append(classifica)\n",
    "    return lista_classificacao \n",
    "\n",
    "def Acuracia(Classificador,Erro,y_predict,y_test):\n",
    "    data = {\n",
    "    'Y_predict': y_predict,\n",
    "    'Y_test': y_test,\n",
    "    'Erro': Erro, \n",
    "    'Classificação': Classificador,\n",
    "    }\n",
    "    tabela = pd.DataFrame(data, columns=['Y_predict', 'Y_test','Erro','Classificação'])\n",
    "    tabela.head(5)\n",
    "    contador=0\n",
    "    for c in Classificador: \n",
    "        if c == \"Certo\": \n",
    "            contador+=1\n",
    "    acertou=(contador/len(Classificador))*100\n",
    "    return acertou "
   ]
  },
  {
   "cell_type": "markdown",
   "metadata": {},
   "source": [
    "---\n",
    "# Aplicando a Regressão K-Neighbors\n",
    "\n",
    "---\n",
    "\n",
    "Nessa primeira aplicação os dados usados para prever o Happiness Score nos países, são: IDH, GPD PerCapita, Beer PerCapita, Spirit PerCapita, Wine PerCapita."
   ]
  },
  {
   "cell_type": "code",
   "execution_count": 121,
   "metadata": {},
   "outputs": [
    {
     "data": {
      "text/plain": [
       "KNeighborsRegressor(algorithm='auto', leaf_size=30, metric='minkowski',\n",
       "          metric_params=None, n_jobs=None, n_neighbors=5, p=2,\n",
       "          weights='uniform')"
      ]
     },
     "execution_count": 121,
     "metadata": {},
     "output_type": "execute_result"
    }
   ],
   "source": [
    "reg = KNeighborsRegressor(n_neighbors=5)\n",
    "reg.fit(X_train, y_train)"
   ]
  },
  {
   "cell_type": "markdown",
   "metadata": {},
   "source": [
    "### Análise\n",
    "\n",
    "Os paramêtros usados são os padrão. Então o número de vizinhos a serem usados para os calculos é 5, ou seja, o número padrão. O algoritimo \"auto\" que tentará decidir o algoritmo mais apropriado com base nos valores passados para o fit método. A métrica de distância utilizada é a Distância de Minkowski de ordem p, que tem a seguinte fórmula:\n"
   ]
  },
  {
   "cell_type": "markdown",
   "metadata": {},
   "source": [
    "<img src=\"distancia.png\" width=\"350\">"
   ]
  },
  {
   "cell_type": "markdown",
   "metadata": {},
   "source": [
    "### Previsão\n",
    "\n",
    "Então após o treinamento, são calculados os valores previstos para os que fora deixados para teste."
   ]
  },
  {
   "cell_type": "code",
   "execution_count": 122,
   "metadata": {},
   "outputs": [
    {
     "data": {
      "text/plain": [
       "array([7.2824, 6.2248, 5.1072, 3.643 , 7.0554, 5.8292, 5.7534, 3.8306,\n",
       "       5.4962, 6.875 , 5.7138, 3.9354, 6.348 ])"
      ]
     },
     "execution_count": 122,
     "metadata": {},
     "output_type": "execute_result"
    }
   ],
   "source": [
    "y_predict = reg.predict(X_test)\n",
    "y_predict"
   ]
  },
  {
   "cell_type": "markdown",
   "metadata": {},
   "source": [
    "### Resultados\n",
    "\n",
    "É feita a comparação com o que a regressão calculou e os valores reais, para ver o quanto essa regressão, dessa forma consegue prever o Happiness Score"
   ]
  },
  {
   "cell_type": "code",
   "execution_count": 124,
   "metadata": {},
   "outputs": [
    {
     "name": "stdout",
     "output_type": "stream",
     "text": [
      "A regressão Kneighbors acertou 61.53846153846154%\n"
     ]
    }
   ],
   "source": [
    "erro = Erro(y_predict,y_test)\n",
    "classificando = Classificador(erro)\n",
    "acuraria = Acuracia(classificando,erro,y_predict,y_test)\n",
    "print(\"A regressão Kneighbors acertou {0}%\".format(acuraria))"
   ]
  },
  {
   "cell_type": "code",
   "execution_count": 126,
   "metadata": {},
   "outputs": [
    {
     "data": {
      "text/plain": [
       "0.6930949881783779"
      ]
     },
     "execution_count": 126,
     "metadata": {},
     "output_type": "execute_result"
    }
   ],
   "source": [
    "# R quadrado\n",
    "\n",
    "r2_score(y_predict, y_test)"
   ]
  },
  {
   "cell_type": "markdown",
   "metadata": {},
   "source": [
    "**Tem-se então que a Regressão K-Neighbors acertou cerca de 61.54% com a sua previsão.**"
   ]
  },
  {
   "cell_type": "markdown",
   "metadata": {},
   "source": [
    "---\n",
    "# Primeira iteração\n",
    "\n",
    "---\n",
    "\n",
    "Nessa aplicação de K-Neighbors os dados que serão usados para o calculo da Happiness Score será o IDH e a GPD PerCapita.\n",
    "\n",
    "Portanto os mesmo passos serão seguidos, porem apenas com a influência de dois dados da base"
   ]
  },
  {
   "cell_type": "code",
   "execution_count": 12,
   "metadata": {},
   "outputs": [],
   "source": [
    "X2 =  dados[['HDI', 'GDP_PerCapita']]\n",
    "X_train2, X_test2, y_train2, y_test2 = train_test_split(X2, y, test_size=0.1, random_state=RANDOM_SEED)"
   ]
  },
  {
   "cell_type": "code",
   "execution_count": 13,
   "metadata": {},
   "outputs": [
    {
     "data": {
      "text/plain": [
       "KNeighborsRegressor(algorithm='auto', leaf_size=30, metric='minkowski',\n",
       "          metric_params=None, n_jobs=None, n_neighbors=5, p=2,\n",
       "          weights='uniform')"
      ]
     },
     "execution_count": 13,
     "metadata": {},
     "output_type": "execute_result"
    }
   ],
   "source": [
    "reg.fit(X_train2, y_train2)"
   ]
  },
  {
   "cell_type": "code",
   "execution_count": 14,
   "metadata": {},
   "outputs": [
    {
     "data": {
      "text/plain": [
       "array([7.152 , 5.4852, 6.0942, 3.643 , 7.1462, 5.1418, 5.5162, 3.8394,\n",
       "       5.561 , 6.2494, 5.7628, 3.9354, 6.5374])"
      ]
     },
     "execution_count": 14,
     "metadata": {},
     "output_type": "execute_result"
    }
   ],
   "source": [
    "y_predict2 = reg.predict(X_test2)\n",
    "y_predict2"
   ]
  },
  {
   "cell_type": "code",
   "execution_count": 15,
   "metadata": {},
   "outputs": [
    {
     "name": "stdout",
     "output_type": "stream",
     "text": [
      "A regressão Kneighbors acertou 69.23076923076923%\n"
     ]
    }
   ],
   "source": [
    "erro2 = Erro(y_predict2,y_test2)\n",
    "classificando2 = Classificador(erro2)\n",
    "acuraria2 = Acuracia(classificando2,erro2,y_predict2,y_test2)\n",
    "print(\"A regressão Kneighbors acertou {0}%\".format(acuraria2))"
   ]
  },
  {
   "cell_type": "code",
   "execution_count": 127,
   "metadata": {},
   "outputs": [
    {
     "data": {
      "text/plain": [
       "0.748846564810462"
      ]
     },
     "execution_count": 127,
     "metadata": {},
     "output_type": "execute_result"
    }
   ],
   "source": [
    "# R quadrado\n",
    "\n",
    "r2_score(y_predict2, y_test2)"
   ]
  },
  {
   "cell_type": "markdown",
   "metadata": {},
   "source": [
    "### Conclusão\n",
    "\n",
    "Nesse caso, a porcentagem de acerto foi de aproximadamente 69,23%, um aumento de 7,69% comparada com a primeira aplicação de K-Neighbors, dessa forma percebe-se que o IDH e o GPD PerCapita tem maior influência no Hapiness Score, pois conseguiram gerar um previsão melhor"
   ]
  },
  {
   "cell_type": "markdown",
   "metadata": {},
   "source": [
    "---\n",
    "# Passando log no GPD PerCapita\n",
    "\n",
    "---\n",
    "\n",
    "Outra tentativa de melhoria dos valores dados pela regressão é passando o log na coluna de dados de GPD PerCapita, pois percebeu-se, através da Análise Exploratória que esses dados tem um tendência a serem exponencias."
   ]
  },
  {
   "cell_type": "code",
   "execution_count": 131,
   "metadata": {},
   "outputs": [],
   "source": [
    "GPD= dados[\"GDP_PerCapita\"]"
   ]
  },
  {
   "cell_type": "code",
   "execution_count": 132,
   "metadata": {},
   "outputs": [],
   "source": [
    "dados.loc[:,\"LOG_GPD\"] = np.log(GPD)"
   ]
  },
  {
   "cell_type": "code",
   "execution_count": 133,
   "metadata": {},
   "outputs": [
    {
     "data": {
      "text/html": [
       "<div>\n",
       "<style scoped>\n",
       "    .dataframe tbody tr th:only-of-type {\n",
       "        vertical-align: middle;\n",
       "    }\n",
       "\n",
       "    .dataframe tbody tr th {\n",
       "        vertical-align: top;\n",
       "    }\n",
       "\n",
       "    .dataframe thead th {\n",
       "        text-align: right;\n",
       "    }\n",
       "</style>\n",
       "<table border=\"1\" class=\"dataframe\">\n",
       "  <thead>\n",
       "    <tr style=\"text-align: right;\">\n",
       "      <th></th>\n",
       "      <th>Country</th>\n",
       "      <th>Region</th>\n",
       "      <th>Hemisphere</th>\n",
       "      <th>HappinessScore</th>\n",
       "      <th>HDI</th>\n",
       "      <th>GDP_PerCapita</th>\n",
       "      <th>Beer_PerCapita</th>\n",
       "      <th>Spirit_PerCapita</th>\n",
       "      <th>Wine_PerCapita</th>\n",
       "      <th>LOG_GPD</th>\n",
       "    </tr>\n",
       "  </thead>\n",
       "  <tbody>\n",
       "    <tr>\n",
       "      <th>0</th>\n",
       "      <td>Denmark</td>\n",
       "      <td>Western Europe</td>\n",
       "      <td>north</td>\n",
       "      <td>7.526</td>\n",
       "      <td>928</td>\n",
       "      <td>53.579</td>\n",
       "      <td>224</td>\n",
       "      <td>81</td>\n",
       "      <td>278</td>\n",
       "      <td>3.981157</td>\n",
       "    </tr>\n",
       "    <tr>\n",
       "      <th>1</th>\n",
       "      <td>Switzerland</td>\n",
       "      <td>Western Europe</td>\n",
       "      <td>north</td>\n",
       "      <td>7.509</td>\n",
       "      <td>943</td>\n",
       "      <td>79.866</td>\n",
       "      <td>185</td>\n",
       "      <td>100</td>\n",
       "      <td>280</td>\n",
       "      <td>4.380350</td>\n",
       "    </tr>\n",
       "    <tr>\n",
       "      <th>2</th>\n",
       "      <td>Iceland</td>\n",
       "      <td>Western Europe</td>\n",
       "      <td>north</td>\n",
       "      <td>7.501</td>\n",
       "      <td>933</td>\n",
       "      <td>60.530</td>\n",
       "      <td>233</td>\n",
       "      <td>61</td>\n",
       "      <td>78</td>\n",
       "      <td>4.103139</td>\n",
       "    </tr>\n",
       "    <tr>\n",
       "      <th>3</th>\n",
       "      <td>Norway</td>\n",
       "      <td>Western Europe</td>\n",
       "      <td>north</td>\n",
       "      <td>7.498</td>\n",
       "      <td>951</td>\n",
       "      <td>70.890</td>\n",
       "      <td>169</td>\n",
       "      <td>71</td>\n",
       "      <td>129</td>\n",
       "      <td>4.261129</td>\n",
       "    </tr>\n",
       "    <tr>\n",
       "      <th>4</th>\n",
       "      <td>Finland</td>\n",
       "      <td>Western Europe</td>\n",
       "      <td>north</td>\n",
       "      <td>7.413</td>\n",
       "      <td>918</td>\n",
       "      <td>43.433</td>\n",
       "      <td>263</td>\n",
       "      <td>133</td>\n",
       "      <td>97</td>\n",
       "      <td>3.771220</td>\n",
       "    </tr>\n",
       "  </tbody>\n",
       "</table>\n",
       "</div>"
      ],
      "text/plain": [
       "       Country          Region Hemisphere  HappinessScore  HDI  GDP_PerCapita  \\\n",
       "0      Denmark  Western Europe      north           7.526  928         53.579   \n",
       "1  Switzerland  Western Europe      north           7.509  943         79.866   \n",
       "2      Iceland  Western Europe      north           7.501  933         60.530   \n",
       "3       Norway  Western Europe      north           7.498  951         70.890   \n",
       "4      Finland  Western Europe      north           7.413  918         43.433   \n",
       "\n",
       "   Beer_PerCapita  Spirit_PerCapita  Wine_PerCapita   LOG_GPD  \n",
       "0             224                81             278  3.981157  \n",
       "1             185               100             280  4.380350  \n",
       "2             233                61              78  4.103139  \n",
       "3             169                71             129  4.261129  \n",
       "4             263               133              97  3.771220  "
      ]
     },
     "execution_count": 133,
     "metadata": {},
     "output_type": "execute_result"
    }
   ],
   "source": [
    "dados.head()"
   ]
  },
  {
   "cell_type": "code",
   "execution_count": 134,
   "metadata": {},
   "outputs": [],
   "source": [
    "X3 =  dados[['HDI', 'LOG_GPD']]\n",
    "X_train3, X_test3, y_train3, y_test3 = train_test_split(X3, y, test_size=0.1, random_state=RANDOM_SEED)"
   ]
  },
  {
   "cell_type": "code",
   "execution_count": 135,
   "metadata": {},
   "outputs": [
    {
     "data": {
      "text/plain": [
       "KNeighborsRegressor(algorithm='auto', leaf_size=30, metric='minkowski',\n",
       "          metric_params=None, n_jobs=None, n_neighbors=5, p=2,\n",
       "          weights='uniform')"
      ]
     },
     "execution_count": 135,
     "metadata": {},
     "output_type": "execute_result"
    }
   ],
   "source": [
    "reg.fit(X_train3, y_train3)"
   ]
  },
  {
   "cell_type": "code",
   "execution_count": 136,
   "metadata": {},
   "outputs": [
    {
     "data": {
      "text/plain": [
       "array([6.4564, 5.4852, 6.0942, 3.8938, 7.0992, 5.1418, 5.5162, 3.8178,\n",
       "       5.561 , 6.4778, 6.2158, 4.0096, 6.5374])"
      ]
     },
     "execution_count": 136,
     "metadata": {},
     "output_type": "execute_result"
    }
   ],
   "source": [
    "y_predict3 = reg.predict(X_test3)\n",
    "y_predict3"
   ]
  },
  {
   "cell_type": "code",
   "execution_count": 137,
   "metadata": {},
   "outputs": [
    {
     "name": "stdout",
     "output_type": "stream",
     "text": [
      "A regressão Kneighbors acertou 53.84615384615385%\n"
     ]
    }
   ],
   "source": [
    "erro3 = Erro(y_predict3,y_test3)\n",
    "classificando3 = Classificador(erro3)\n",
    "acuraria3 = Acuracia(classificando3,erro3,y_predict3,y_test3)\n",
    "print(\"A regressão Kneighbors acertou {0}%\".format(acuraria3))"
   ]
  },
  {
   "cell_type": "code",
   "execution_count": 138,
   "metadata": {},
   "outputs": [
    {
     "data": {
      "text/plain": [
       "0.695920305819956"
      ]
     },
     "execution_count": 138,
     "metadata": {},
     "output_type": "execute_result"
    }
   ],
   "source": [
    "# R quadrado\n",
    "\n",
    "r2_score(y_predict3, y_test3)"
   ]
  },
  {
   "cell_type": "markdown",
   "metadata": {},
   "source": [
    "### Análise do resultado\n",
    "\n",
    "A porcentagem de acerto foi de 53,85%, ou seja, diminuiu, mostrando que passar o log nesses dados nessa regressão não é um boa iteração, pois a previsão fica mais incerta."
   ]
  },
  {
   "cell_type": "markdown",
   "metadata": {},
   "source": [
    "## GPD PerCapita com as demais variaveis"
   ]
  },
  {
   "cell_type": "code",
   "execution_count": 140,
   "metadata": {},
   "outputs": [],
   "source": [
    "X4 =  dados[['HDI', 'LOG_GPD', 'Beer_PerCapita', 'Spirit_PerCapita', 'Wine_PerCapita']]\n",
    "y4 = dados[\"HappinessScore\"]"
   ]
  },
  {
   "cell_type": "code",
   "execution_count": 141,
   "metadata": {},
   "outputs": [],
   "source": [
    "X4_train, X4_test, y4_train, y4_test = train_test_split(X4, y4, test_size=0.1, random_state=RANDOM_SEED)"
   ]
  },
  {
   "cell_type": "code",
   "execution_count": 142,
   "metadata": {},
   "outputs": [
    {
     "data": {
      "text/plain": [
       "KNeighborsRegressor(algorithm='auto', leaf_size=30, metric='minkowski',\n",
       "          metric_params=None, n_jobs=None, n_neighbors=5, p=2,\n",
       "          weights='uniform')"
      ]
     },
     "execution_count": 142,
     "metadata": {},
     "output_type": "execute_result"
    }
   ],
   "source": [
    "reg.fit(X4_train, y4_train)"
   ]
  },
  {
   "cell_type": "code",
   "execution_count": 143,
   "metadata": {},
   "outputs": [
    {
     "data": {
      "text/plain": [
       "array([6.9122, 6.2248, 5.1072, 4.0006, 7.0554, 5.8292, 6.1482, 5.1322,\n",
       "       5.4962, 6.875 , 5.7138, 3.891 , 6.348 ])"
      ]
     },
     "execution_count": 143,
     "metadata": {},
     "output_type": "execute_result"
    }
   ],
   "source": [
    "y_predict4 = reg.predict(X4_test)\n",
    "y_predict4"
   ]
  },
  {
   "cell_type": "code",
   "execution_count": 144,
   "metadata": {},
   "outputs": [
    {
     "name": "stdout",
     "output_type": "stream",
     "text": [
      "A regressão Kneighbors acertou 46.15384615384615%\n"
     ]
    }
   ],
   "source": [
    "erro4 = Erro(y_predict4,y4_test)\n",
    "classificando4 = Classificador(erro4)\n",
    "acuraria4 = Acuracia(classificando4,erro4,y_predict4,y4_test)\n",
    "print(\"A regressão Kneighbors acertou {0}%\".format(acuraria4))"
   ]
  },
  {
   "cell_type": "code",
   "execution_count": 145,
   "metadata": {},
   "outputs": [
    {
     "data": {
      "text/plain": [
       "0.5077726360060866"
      ]
     },
     "execution_count": 145,
     "metadata": {},
     "output_type": "execute_result"
    }
   ],
   "source": [
    "# R quadrado\n",
    "\n",
    "r2_score(y_predict4, y4_test)"
   ]
  },
  {
   "cell_type": "markdown",
   "metadata": {},
   "source": [
    "A porcentagem diminuiu ainda mais, comprovando a maior influência do IDH e do GPD PerCapita, comparado com os outros dados! E além diss, que a iteração do log não nos premite obter melhores aproximações nesse caso"
   ]
  },
  {
   "cell_type": "markdown",
   "metadata": {},
   "source": [
    "# Analisando mais variáveis\n",
    "\n",
    "Como forma de tentar melhorar a regressão, foram adicionadas mais variáveis de outras bases de dados, referentes ao ano de 2016, para ver a influência no Happiness Score!\n",
    "\n",
    "As variáveis adicionadas foram: Mortalidade, Inflação, Criança por Mulher, Expectativa de Vida, Desemprego\n",
    "\n",
    "Essas variáveis foram escolhidas, pois são de alta relevância e ver a influência de cada uma na felicidade da população de um país, pode gerar ações mais eficazes se o governo focar naquela que mais influência.\n"
   ]
  },
  {
   "cell_type": "code",
   "execution_count": 146,
   "metadata": {},
   "outputs": [],
   "source": [
    "#lendo arquivos\n",
    "mortalidade_infantil = pd.read_excel('child_mortality_0_5_year_olds_dying_per_1000_born.xlsx')\n",
    "inflacao = pd.read_excel('inflation_annual_percent.xlsx')\n",
    "crianca_p_mulher = pd.read_excel('children_per_woman_total_fertility.xlsx')\n",
    "expectativa_vida = pd.read_excel('life_expectancy_years.xlsx')\n",
    "desemprego = pd.read_excel('DadoDeDesemprego.xls', sheet_name=\"Data\", skiprows=3)\n",
    "#Colocar index e pegar o ano de 2016 - Mortalidade Infantil \n",
    "mort_infantil=mortalidade_infantil.set_index(\"country\")\n",
    "mort_infantil_2016 = mort_infantil.loc[:, [2016]]\n",
    "\n",
    "#Colocar index e pegar o ano de 2016 - Inflação\n",
    "infla=inflacao.set_index(\"country\")\n",
    "infla_2016 = infla.loc[:, [2016]]\n",
    "\n",
    "#Colocar index e pegar o ano de 2016 -Criança por Mulher\n",
    "crianca_mulher=crianca_p_mulher.set_index(\"country\")\n",
    "crianca_mulher_2016 = crianca_mulher.loc[:, [2016]]\n",
    "\n",
    "#Colocar index e pegar o ano de 2016 - Expectativa de vida \n",
    "expec_vida=expectativa_vida.set_index(\"country\")\n",
    "expec_vida_2016 = expec_vida.loc[:, [2016]]\n",
    "\n",
    "#Colocar index e pegar o ano de 2016 - Desemprego \n",
    "desemp_2016 = desemprego.loc[:, [\"Country Name\" ,\"2016\"]]\n",
    "desemp_2016=desemp_2016.set_index(\"Country Name\")\n",
    "#juntando tabelas\n",
    "df = mort_infantil_2016.join(infla_2016, how='inner', lsuffix='_mortalidade', rsuffix='_inflação')\n",
    "df1 = df.join(crianca_mulher_2016, how=\"inner\")\n",
    "df1.columns = ['Mortalidade', 'Inflação', 'Criança p/ Mulher']\n",
    "df2 = df1.join(expec_vida_2016, how=\"inner\")\n",
    "df2.columns = ['Mortalidade', 'Inflação', 'Criança p/ Mulher', 'Expec de Vida']\n",
    "df3= df2.join(desemp_2016, how=\"inner\")\n",
    "df3.columns = ['Mortalidade', 'Inflação', 'Criança p/ Mulher', 'Expec de Vida', 'Desemprego']\n",
    "\n",
    "#tirando valores nulos\n",
    "df3=df3.dropna()\n",
    "#lendo dados Felicidade e álcool \n",
    "dados = pd.read_excel(\"HappinessAlcoholConsumption.xls\")\n",
    "\n",
    "#Arrumando Index\n",
    "dados_indice = dados.set_index(\"Country\")\n",
    "tudo= dados_indice.join(df3, how=\"inner\")"
   ]
  },
  {
   "cell_type": "code",
   "execution_count": 147,
   "metadata": {},
   "outputs": [
    {
     "data": {
      "text/html": [
       "<div>\n",
       "<style scoped>\n",
       "    .dataframe tbody tr th:only-of-type {\n",
       "        vertical-align: middle;\n",
       "    }\n",
       "\n",
       "    .dataframe tbody tr th {\n",
       "        vertical-align: top;\n",
       "    }\n",
       "\n",
       "    .dataframe thead th {\n",
       "        text-align: right;\n",
       "    }\n",
       "</style>\n",
       "<table border=\"1\" class=\"dataframe\">\n",
       "  <thead>\n",
       "    <tr style=\"text-align: right;\">\n",
       "      <th></th>\n",
       "      <th>Region</th>\n",
       "      <th>Hemisphere</th>\n",
       "      <th>HappinessScore</th>\n",
       "      <th>HDI</th>\n",
       "      <th>GDP_PerCapita</th>\n",
       "      <th>Beer_PerCapita</th>\n",
       "      <th>Spirit_PerCapita</th>\n",
       "      <th>Wine_PerCapita</th>\n",
       "      <th>Mortalidade</th>\n",
       "      <th>Inflação</th>\n",
       "      <th>Criança p/ Mulher</th>\n",
       "      <th>Expec de Vida</th>\n",
       "      <th>Desemprego</th>\n",
       "    </tr>\n",
       "  </thead>\n",
       "  <tbody>\n",
       "    <tr>\n",
       "      <th>Denmark</th>\n",
       "      <td>Western Europe</td>\n",
       "      <td>north</td>\n",
       "      <td>7.526</td>\n",
       "      <td>928</td>\n",
       "      <td>53.579</td>\n",
       "      <td>224</td>\n",
       "      <td>81</td>\n",
       "      <td>278</td>\n",
       "      <td>4.4</td>\n",
       "      <td>-0.0464</td>\n",
       "      <td>1.74</td>\n",
       "      <td>80.8</td>\n",
       "      <td>6.1807</td>\n",
       "    </tr>\n",
       "    <tr>\n",
       "      <th>Switzerland</th>\n",
       "      <td>Western Europe</td>\n",
       "      <td>north</td>\n",
       "      <td>7.509</td>\n",
       "      <td>943</td>\n",
       "      <td>79.866</td>\n",
       "      <td>185</td>\n",
       "      <td>100</td>\n",
       "      <td>280</td>\n",
       "      <td>4.1</td>\n",
       "      <td>-0.5660</td>\n",
       "      <td>1.55</td>\n",
       "      <td>83.1</td>\n",
       "      <td>4.9179</td>\n",
       "    </tr>\n",
       "  </tbody>\n",
       "</table>\n",
       "</div>"
      ],
      "text/plain": [
       "                     Region Hemisphere  HappinessScore  HDI  GDP_PerCapita  \\\n",
       "Denmark      Western Europe      north           7.526  928         53.579   \n",
       "Switzerland  Western Europe      north           7.509  943         79.866   \n",
       "\n",
       "             Beer_PerCapita  Spirit_PerCapita  Wine_PerCapita  Mortalidade  \\\n",
       "Denmark                 224                81             278          4.4   \n",
       "Switzerland             185               100             280          4.1   \n",
       "\n",
       "             Inflação  Criança p/ Mulher  Expec de Vida  Desemprego  \n",
       "Denmark       -0.0464               1.74           80.8      6.1807  \n",
       "Switzerland   -0.5660               1.55           83.1      4.9179  "
      ]
     },
     "execution_count": 147,
     "metadata": {},
     "output_type": "execute_result"
    }
   ],
   "source": [
    "tudo.head(2)"
   ]
  },
  {
   "cell_type": "code",
   "execution_count": 148,
   "metadata": {},
   "outputs": [],
   "source": [
    "X5 = tudo[[\"Mortalidade\",\"HDI\",\"GDP_PerCapita\",\"Inflação\",\"Criança p/ Mulher\",\"Expec de Vida\",\"Desemprego\"]]\n",
    "y5 = tudo[\"HappinessScore\"]"
   ]
  },
  {
   "cell_type": "code",
   "execution_count": 149,
   "metadata": {},
   "outputs": [],
   "source": [
    "X_train5, X_test5, y_train5, y_test5 = train_test_split(X5, y5, test_size=0.1, random_state=RANDOM_SEED)"
   ]
  },
  {
   "cell_type": "code",
   "execution_count": 150,
   "metadata": {},
   "outputs": [
    {
     "data": {
      "text/plain": [
       "KNeighborsRegressor(algorithm='auto', leaf_size=30, metric='minkowski',\n",
       "          metric_params=None, n_jobs=None, n_neighbors=5, p=2,\n",
       "          weights='uniform')"
      ]
     },
     "execution_count": 150,
     "metadata": {},
     "output_type": "execute_result"
    }
   ],
   "source": [
    "reg.fit(X_train5, y_train5)"
   ]
  },
  {
   "cell_type": "code",
   "execution_count": 151,
   "metadata": {},
   "outputs": [
    {
     "data": {
      "text/plain": [
       "array([7.1462, 5.8306, 6.7562, 7.1948, 5.6548, 5.5288, 5.4334, 5.8884])"
      ]
     },
     "execution_count": 151,
     "metadata": {},
     "output_type": "execute_result"
    }
   ],
   "source": [
    "y_predict5 = reg.predict(X_test5)\n",
    "y_predict5"
   ]
  },
  {
   "cell_type": "code",
   "execution_count": 152,
   "metadata": {},
   "outputs": [
    {
     "name": "stdout",
     "output_type": "stream",
     "text": [
      "A regressão Kneighbors acertou 62.5%\n"
     ]
    }
   ],
   "source": [
    "erro5 = Erro(y_predict5,y_test5.values)\n",
    "classificando5 = Classificador(erro5)\n",
    "acuraria5= Acuracia(classificando5,erro5,y_predict5,y_test5)\n",
    "print(\"A regressão Kneighbors acertou {0}%\".format(acuraria5))"
   ]
  },
  {
   "cell_type": "code",
   "execution_count": 153,
   "metadata": {},
   "outputs": [
    {
     "data": {
      "text/plain": [
       "0.6184047842572535"
      ]
     },
     "execution_count": 153,
     "metadata": {},
     "output_type": "execute_result"
    }
   ],
   "source": [
    "# R quadrado\n",
    "\n",
    "r2_score(y_predict5, y_test5)"
   ]
  },
  {
   "cell_type": "markdown",
   "metadata": {},
   "source": [
    "# Passando apenas o IDH"
   ]
  },
  {
   "cell_type": "code",
   "execution_count": 154,
   "metadata": {},
   "outputs": [],
   "source": [
    "X6 = tudo[[\"HDI\"]]\n",
    "y6 = tudo[\"HappinessScore\"]"
   ]
  },
  {
   "cell_type": "code",
   "execution_count": 155,
   "metadata": {},
   "outputs": [],
   "source": [
    "X_train6, X_test6, y_train6, y_test6 = train_test_split(X6, y6, test_size=0.1, random_state=RANDOM_SEED)"
   ]
  },
  {
   "cell_type": "code",
   "execution_count": 156,
   "metadata": {},
   "outputs": [
    {
     "data": {
      "text/plain": [
       "KNeighborsRegressor(algorithm='auto', leaf_size=30, metric='minkowski',\n",
       "          metric_params=None, n_jobs=None, n_neighbors=5, p=2,\n",
       "          weights='uniform')"
      ]
     },
     "execution_count": 156,
     "metadata": {},
     "output_type": "execute_result"
    }
   ],
   "source": [
    "reg.fit(X_train6, y_train6)"
   ]
  },
  {
   "cell_type": "code",
   "execution_count": 157,
   "metadata": {},
   "outputs": [
    {
     "data": {
      "text/plain": [
       "array([7.0992, 5.5934, 6.4314, 7.1948, 5.8322, 5.5288, 5.5374, 5.5654])"
      ]
     },
     "execution_count": 157,
     "metadata": {},
     "output_type": "execute_result"
    }
   ],
   "source": [
    "y_predict6 = reg.predict(X_test6)\n",
    "y_predict6"
   ]
  },
  {
   "cell_type": "code",
   "execution_count": 159,
   "metadata": {},
   "outputs": [
    {
     "name": "stdout",
     "output_type": "stream",
     "text": [
      "A regressão Kneighbors acertou 75.0%\n"
     ]
    }
   ],
   "source": [
    "erro6 = Erro(y_predict6,y_test6.values)\n",
    "classificando6 = Classificador(erro6)\n",
    "acuraria6= Acuracia(classificando6,erro6,y_predict6,y_test6)\n",
    "print(\"A regressão Kneighbors acertou {0}%\".format(acuraria6))"
   ]
  },
  {
   "cell_type": "code",
   "execution_count": 161,
   "metadata": {},
   "outputs": [
    {
     "data": {
      "text/plain": [
       "0.4441786291577985"
      ]
     },
     "execution_count": 161,
     "metadata": {},
     "output_type": "execute_result"
    }
   ],
   "source": [
    "# R quadrado\n",
    "\n",
    "r2_score(y_predict6, y_test6)"
   ]
  },
  {
   "cell_type": "markdown",
   "metadata": {},
   "source": [
    "## Gráfico da predição pelos dados para o IDH"
   ]
  },
  {
   "cell_type": "code",
   "execution_count": 163,
   "metadata": {},
   "outputs": [
    {
     "data": {
      "image/png": "[encoded data removed]",
      "text/plain": [
       "<Figure size 432x288 with 2 Axes>"
      ]
     },
     "metadata": {
      "needs_background": "light"
     },
     "output_type": "display_data"
    }
   ],
   "source": [
    "n_neighbors = 5\n",
    "\n",
    "for i, weights in enumerate(['uniform', 'distance']):\n",
    "    knn = KNeighborsRegressor(n_neighbors, weights=weights)\n",
    "    y_ = knn.fit(X_train6, y_train6).predict(X_test6)\n",
    "\n",
    "    plt.subplot(2, 1, i + 1)\n",
    "    plt.scatter(X_train6, y_train6, c='k', label='data')\n",
    "    plt.plot(X_test6, y_, c='g', label='prediction')\n",
    "    plt.axis('tight')\n",
    "    plt.legend()\n",
    "    plt.title(\"KNeighborsRegressor (k = %i, weights = '%s')\" % (n_neighbors,\n",
    "                                                                weights))\n",
    "\n",
    "plt.tight_layout()\n",
    "plt.show()"
   ]
  },
  {
   "cell_type": "code",
   "execution_count": null,
   "metadata": {},
   "outputs": [],
   "source": []
  }
 ],
 "metadata": {
  "kernelspec": {
   "display_name": "Python 3",
   "language": "python",
   "name": "python3"
  },
  "language_info": {
   "codemirror_mode": {
    "name": "ipython",
    "version": 3
   },
   "file_extension": ".py",
   "mimetype": "text/x-python",
   "name": "python",
   "nbconvert_exporter": "python",
   "pygments_lexer": "ipython3",
   "version": "3.7.1"
  }
 },
 "nbformat": 4,
 "nbformat_minor": 2
}
