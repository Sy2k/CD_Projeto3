{
 "cells": [
  {
   "cell_type": "markdown",
   "metadata": {},
   "source": [
    "---\n",
    "# SGD Regression\n",
    "\n",
    "\n",
    "A maioria dos aplicativos de aprendizado de máquina / aprendizado profundo usa uma variante de descida de gradiente chamada descida de gradiente estocástico (SGD), na qual, em vez de atualizar parâmetros com base na derivada do conjunto de dados em cada etapa, você atualiza com base na derivada de uma amostra escolhida aleatoriamente . Além de ser menos tributável computacionalmente, a pesquisa mostrou que a aleatoriedade envolvida no SGD permite convergir e superar os mínimos locais mais rapidamente.\n",
    "\n",
    "---"
   ]
  },
  {
   "cell_type": "code",
   "execution_count": 1,
   "metadata": {},
   "outputs": [],
   "source": [
    "%matplotlib inline\n",
    "import numpy as np\n",
    "import pandas as pd\n",
    "import matplotlib\n",
    "import matplotlib.pyplot as plt\n",
    "import seaborn as sns\n",
    "import os\n",
    "import random\n",
    "from sklearn.model_selection import train_test_split\n",
    "RANDOM_SEED = 42\n",
    "np.random.seed(RANDOM_SEED)\n",
    "\n"
   ]
  },
  {
   "cell_type": "code",
   "execution_count": 2,
   "metadata": {
    "scrolled": true
   },
   "outputs": [
    {
     "data": {
      "text/plain": [
       "'C:\\\\Users\\\\User\\\\Desktop\\\\2ºsemestre\\\\Ciência dos dados\\\\Proj3\\\\CD_Projeto3'"
      ]
     },
     "execution_count": 2,
     "metadata": {},
     "output_type": "execute_result"
    }
   ],
   "source": [
    "os.getcwd()"
   ]
  },
  {
   "cell_type": "code",
   "execution_count": 3,
   "metadata": {},
   "outputs": [],
   "source": [
    "RANDOM_SEED = 42\n",
    "np.random.seed(RANDOM_SEED)"
   ]
  },
  {
   "cell_type": "code",
   "execution_count": 4,
   "metadata": {},
   "outputs": [],
   "source": [
    "dados = pd.read_excel(\"HappinessAlcoholConsumption.xls\")"
   ]
  },
  {
   "cell_type": "code",
   "execution_count": 5,
   "metadata": {},
   "outputs": [],
   "source": [
    "X =  dados[['HDI', 'GDP_PerCapita', 'Beer_PerCapita', 'Spirit_PerCapita', 'Wine_PerCapita']]\n",
    "y = dados[\"HappinessScore\"]"
   ]
  },
  {
   "cell_type": "code",
   "execution_count": 6,
   "metadata": {},
   "outputs": [],
   "source": [
    "X_train, X_test, y_train, y_test = train_test_split(X, y, test_size=0.1, random_state=RANDOM_SEED)"
   ]
  },
  {
   "cell_type": "code",
   "execution_count": 7,
   "metadata": {},
   "outputs": [],
   "source": [
    "GPD = dados[\"GDP_PerCapita\"]\n",
    "beer = dados[\"Beer_PerCapita\"]\n",
    "Happy = dados[\"HappinessScore\"]\n"
   ]
  },
  {
   "cell_type": "code",
   "execution_count": 8,
   "metadata": {},
   "outputs": [],
   "source": [
    "# list(dados)"
   ]
  },
  {
   "cell_type": "code",
   "execution_count": 9,
   "metadata": {},
   "outputs": [],
   "source": [
    "# x = dados[\"GDP_PerCapita\"]\n",
    "# x = np.log(x)"
   ]
  },
  {
   "cell_type": "code",
   "execution_count": 10,
   "metadata": {},
   "outputs": [],
   "source": [
    "# sns.jointplot(x, Happy);\n",
    "# plt.show()"
   ]
  },
  {
   "cell_type": "code",
   "execution_count": 11,
   "metadata": {},
   "outputs": [],
   "source": [
    "M=1"
   ]
  },
  {
   "cell_type": "markdown",
   "metadata": {},
   "source": [
    "\n",
    "## Testando códigos do livro!!"
   ]
  },
  {
   "cell_type": "code",
   "execution_count": 12,
   "metadata": {},
   "outputs": [],
   "source": [
    "from sklearn.linear_model import SGDRegressor"
   ]
  },
  {
   "cell_type": "code",
   "execution_count": 66,
   "metadata": {},
   "outputs": [],
   "source": [
    "sgd_reg = SGDRegressor(n_iter=1000000, penalty=\"l2\", eta0=0.1)"
   ]
  },
  {
   "cell_type": "code",
   "execution_count": 67,
   "metadata": {},
   "outputs": [],
   "source": [
    "# list(dados)"
   ]
  },
  {
   "cell_type": "code",
   "execution_count": 68,
   "metadata": {},
   "outputs": [],
   "source": [
    "# x = dados[['HDI', 'GDP_PerCapita', 'Beer_PerCapita', 'Spirit_PerCapita', 'Wine_PerCapita']]"
   ]
  },
  {
   "cell_type": "code",
   "execution_count": 69,
   "metadata": {},
   "outputs": [
    {
     "name": "stderr",
     "output_type": "stream",
     "text": [
      "C:\\Users\\User\\Anaconda3\\lib\\site-packages\\sklearn\\linear_model\\stochastic_gradient.py:152: DeprecationWarning: n_iter parameter is deprecated in 0.19 and will be removed in 0.21. Use max_iter and tol instead.\n",
      "  DeprecationWarning)\n"
     ]
    }
   ],
   "source": [
    "model = sgd_reg.fit(X_train, y_train)"
   ]
  },
  {
   "cell_type": "code",
   "execution_count": 70,
   "metadata": {
    "scrolled": false
   },
   "outputs": [
    {
     "data": {
      "text/plain": [
       "(array([6.84799115e+10]),\n",
       " array([-5.54558025e+11,  1.53376941e+11,  8.86674637e+09, -5.91314315e+11,\n",
       "         2.77347207e+11]))"
      ]
     },
     "execution_count": 70,
     "metadata": {},
     "output_type": "execute_result"
    }
   ],
   "source": [
    "sgd_reg.intercept_, sgd_reg.coef_"
   ]
  },
  {
   "cell_type": "code",
   "execution_count": 71,
   "metadata": {},
   "outputs": [
    {
     "data": {
      "text/plain": [
       "array([6.84799115e+10])"
      ]
     },
     "execution_count": 71,
     "metadata": {},
     "output_type": "execute_result"
    }
   ],
   "source": [
    "sgd_reg.predict([[0,0,0,0,0]])"
   ]
  },
  {
   "cell_type": "code",
   "execution_count": 72,
   "metadata": {},
   "outputs": [],
   "source": [
    "#sgd_reg.predict([['HDI', 'GDP_PerCapita', 'Beer_PerCapita', 'Spirit_PerCapita', 'Wine_PerCapita']])"
   ]
  },
  {
   "cell_type": "code",
   "execution_count": null,
   "metadata": {},
   "outputs": [],
   "source": []
  },
  {
   "cell_type": "markdown",
   "metadata": {},
   "source": [
    "# Teste"
   ]
  },
  {
   "cell_type": "code",
   "execution_count": 73,
   "metadata": {},
   "outputs": [
    {
     "data": {
      "text/plain": [
       "array([-4.87192094e+14, -4.55211510e+14, -5.81766642e+14, -1.56187256e+14,\n",
       "       -5.51764337e+14, -4.15683264e+14, -4.69187797e+14, -3.54742502e+14,\n",
       "       -5.65227821e+14, -4.43600963e+14, -5.97499277e+14, -1.61309097e+14,\n",
       "       -5.32186109e+14])"
      ]
     },
     "execution_count": 73,
     "metadata": {},
     "output_type": "execute_result"
    }
   ],
   "source": [
    "sgd_reg.predict(X_test)"
   ]
  },
  {
   "cell_type": "code",
   "execution_count": 74,
   "metadata": {
    "scrolled": true
   },
   "outputs": [
    {
     "data": {
      "text/plain": [
       "array([-3.55084593e+14, -1.60940249e+14, -4.84401822e+14, -3.67273226e+14,\n",
       "       -5.01156626e+14, -1.40648550e+14, -4.75151369e+14, -5.50351594e+14,\n",
       "       -4.55861110e+14, -4.45317833e+14, -2.51542026e+14, -4.05615228e+14,\n",
       "       -4.46745100e+14, -4.24435823e+14, -3.86285318e+14, -5.00566241e+14,\n",
       "       -2.60360632e+14, -5.70323871e+14, -4.98092147e+14, -4.74157137e+14,\n",
       "       -4.89194660e+14, -2.32510280e+14, -3.04569729e+14, -4.83131435e+14,\n",
       "       -4.78368095e+14, -5.34769705e+14, -4.36177985e+14, -4.91372305e+14,\n",
       "       -5.48106475e+14, -5.48038366e+14, -5.24109060e+14, -5.05899114e+14,\n",
       "       -1.84305867e+14, -3.56814833e+14, -5.47016266e+14, -4.59253959e+14,\n",
       "       -4.94528867e+14, -6.09779131e+14, -6.20886603e+14, -4.99935838e+14,\n",
       "       -4.89280732e+14, -4.18991717e+14, -3.98980600e+14, -5.20258447e+14,\n",
       "       -4.97544235e+14, -4.40479789e+14, -5.23390104e+14, -4.44764210e+14,\n",
       "       -4.09609715e+14, -4.01000636e+14, -4.63467553e+14, -3.24504568e+14,\n",
       "       -1.39017354e+14, -4.93916701e+14, -4.83859727e+14, -2.95542999e+14,\n",
       "       -5.21150357e+14, -5.29294762e+14, -4.77662940e+14, -5.17350645e+14,\n",
       "       -5.04675688e+14, -4.39994469e+14, -2.22935118e+14, -5.39130844e+14,\n",
       "       -6.53232897e+14, -5.83507087e+14, -3.81610091e+14, -6.11263440e+14,\n",
       "       -3.38704184e+14, -4.35377247e+14, -2.58870692e+14, -4.09362352e+14,\n",
       "       -3.36063524e+14, -4.32753438e+14, -4.47907802e+14, -5.13843364e+14,\n",
       "       -4.95249742e+14, -1.63797330e+14, -4.22854740e+14, -4.88096307e+14,\n",
       "       -4.87864602e+14, -1.24860098e+14, -5.73857289e+14, -5.74932780e+14,\n",
       "       -1.29057834e+14, -5.21308404e+14, -4.56001408e+14, -4.03165153e+14,\n",
       "       -4.90464001e+14, -4.02088286e+14, -5.22407715e+14, -5.20421391e+14,\n",
       "       -4.87038635e+14, -3.03765362e+14, -4.47021219e+14, -3.34550655e+14,\n",
       "       -2.67533101e+14, -4.79679954e+14, -3.96848180e+14, -4.01076982e+14,\n",
       "       -3.13073084e+14, -5.10710429e+14, -5.35142436e+14, -4.26162255e+14,\n",
       "       -1.14036068e+14, -5.28991267e+14, -4.05573822e+14, -5.00600021e+14,\n",
       "       -5.68870300e+14])"
      ]
     },
     "execution_count": 74,
     "metadata": {},
     "output_type": "execute_result"
    }
   ],
   "source": [
    "model.predict(X_train)"
   ]
  },
  {
   "cell_type": "code",
   "execution_count": 75,
   "metadata": {},
   "outputs": [
    {
     "data": {
      "text/plain": [
       "90     4.574\n",
       "109    3.956\n",
       "11     7.119\n",
       "76     5.151\n",
       "56     5.743\n",
       "115    3.739\n",
       "0      7.526\n",
       "26     6.573\n",
       "44     5.976\n",
       "66     5.389\n",
       "98     4.272\n",
       "24     6.650\n",
       "42     5.987\n",
       "105    4.121\n",
       "93     4.362\n",
       "36     6.218\n",
       "100    4.236\n",
       "12     7.104\n",
       "15     6.952\n",
       "72     5.177\n",
       "22     6.705\n",
       "116    3.695\n",
       "91     4.513\n",
       "83     5.033\n",
       "30     6.478\n",
       "77     5.145\n",
       "65     5.488\n",
       "9      7.291\n",
       "33     6.361\n",
       "25     6.596\n",
       "       ...  \n",
       "75     5.155\n",
       "32     6.375\n",
       "114    3.763\n",
       "59     5.560\n",
       "63     5.517\n",
       "101    4.219\n",
       "37     6.168\n",
       "29     6.481\n",
       "108    3.974\n",
       "1      7.509\n",
       "52     5.822\n",
       "21     6.725\n",
       "2      7.501\n",
       "23     6.701\n",
       "103    4.193\n",
       "99     4.252\n",
       "87     4.795\n",
       "110    3.916\n",
       "74     5.161\n",
       "86     4.871\n",
       "82     5.045\n",
       "121    3.069\n",
       "20     6.739\n",
       "60     5.546\n",
       "71     5.185\n",
       "106    4.073\n",
       "14     6.994\n",
       "92     4.459\n",
       "51     5.835\n",
       "102    4.217\n",
       "Name: HappinessScore, Length: 109, dtype: float64"
      ]
     },
     "execution_count": 75,
     "metadata": {},
     "output_type": "execute_result"
    }
   ],
   "source": [
    "y_train"
   ]
  },
  {
   "cell_type": "markdown",
   "metadata": {},
   "source": [
    "# Plotando o gráfico "
   ]
  },
  {
   "cell_type": "code",
   "execution_count": null,
   "metadata": {},
   "outputs": [],
   "source": []
  }
 ],
 "metadata": {
  "kernelspec": {
   "display_name": "Python 3",
   "language": "python",
   "name": "python3"
  },
  "language_info": {
   "codemirror_mode": {
    "name": "ipython",
    "version": 3
   },
   "file_extension": ".py",
   "mimetype": "text/x-python",
   "name": "python",
   "nbconvert_exporter": "python",
   "pygments_lexer": "ipython3",
   "version": "3.7.1"
  }
 },
 "nbformat": 4,
 "nbformat_minor": 2
}
