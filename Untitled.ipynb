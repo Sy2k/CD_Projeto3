{
 "cells": [
  {
   "cell_type": "markdown",
   "metadata": {},
   "source": [
    "Grupo: \n",
    "Gabriela Moreno Boriero\n",
    "Isadora Dalberto\n",
    "Stephanie Liu\n",
    "Lais Nascimento da Silva \n",
    "Temas:\n",
    "\n",
    "•\tTic-Tac-Toe\n",
    "o\thttps://archive.ics.uci.edu/ml/datasets/Tic-Tac-Toe+Endgame\n",
    "o\tPergunta: Qual a probabilidade de ganhar iniciando em cada posição? \n"
   ]
  }
 ],
 "metadata": {
  "kernelspec": {
   "display_name": "Python 3",
   "language": "python",
   "name": "python3"
  },
  "language_info": {
   "codemirror_mode": {
    "name": "ipython",
    "version": 3
   },
   "file_extension": ".py",
   "mimetype": "text/x-python",
   "name": "python",
   "nbconvert_exporter": "python",
   "pygments_lexer": "ipython3",
   "version": "3.7.3"
  }
 },
 "nbformat": 4,
 "nbformat_minor": 2
}
