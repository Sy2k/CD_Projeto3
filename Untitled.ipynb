{
 "cells": [
  {
   "cell_type": "markdown",
   "metadata": {},
   "source": [
    "Grupo: \n",
    "\n",
    "**Gabriela Moreno Boriero;**\n",
    "\n",
    "**Isadora Dalberto;** \n",
    "\n",
    "**Stephanie Liu;**\n",
    "\n",
    "**Lais Nascimento da Silva.**\n",
    "\n",
    "\n",
    "Temas:\n",
    "\n",
    "•   **Tic-Tac-Toe**\n",
    "\n",
    "o\thttps://archive.ics.uci.edu/ml/datasets/Tic-Tac-Toe+Endgame\n",
    "\n",
    "o\tPergunta: Qual a probabilidade de ganhar iniciando em cada posição? \n",
    "\n",
    "o   Método de análise: \tArvore de decisão, Regressão logística, Naive bayes\n",
    "\n",
    "\n",
    "•\t**Felicidade e consumo de álcool**\n",
    "\n",
    "o\thttps://www.kaggle.com/marcospessotto/happiness-and-alcohol-consumption\n",
    "\n",
    "o\tPergunta: Qual a relação do PIB com o consumo de álcool e a felicidade?\n",
    "\n",
    "o   Método de análise: Tipos de regressão (Regressao linear, Regression tree, Regressão logística, k-means)"
   ]
  },
  {
   "cell_type": "code",
   "execution_count": null,
   "metadata": {},
   "outputs": [],
   "source": []
  }
 ],
 "metadata": {
  "kernelspec": {
   "display_name": "Python 3",
   "language": "python",
   "name": "python3"
  },
  "language_info": {
   "codemirror_mode": {
    "name": "ipython",
    "version": 3
   },
   "file_extension": ".py",
   "mimetype": "text/x-python",
   "name": "python",
   "nbconvert_exporter": "python",
   "pygments_lexer": "ipython3",
   "version": "3.7.3"
  }
 },
 "nbformat": 4,
 "nbformat_minor": 2
}
