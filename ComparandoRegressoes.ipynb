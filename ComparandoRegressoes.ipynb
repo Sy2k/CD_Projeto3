{
 "cells": [
  {
   "cell_type": "markdown",
   "metadata": {},
   "source": [
    "---\n",
    "# Comparando regressões e Conclusão do projeto\n",
    "**Grupo:** Isadora Dalberto, Lais da Silva, Gabriela Moreno e Stephanie Liu\n",
    "\n",
    "Ao longo do desenvolvimento do projeto foram utilizadas algumas técnicas de regressão, pois o problema envolvia problemas com variáveis quantitativas e continuas, foram usadas para ver a influência de cada variável na felicidade dos países e assim analisar a influência do consumo de álcool no happiness scores, e assim, ver se podem ser feitas hipóteses. As técnicas usadas foram: Regressão Linear, Decision Tree, Random Frorest Regression, e K-Neighbors Regression. Para compararmos o resultado utilizaremos a mesma base de treinamento e teste para que seja possível a comparação das regressões \n",
    "\n",
    "Este problema é relevante para governos, pois é possível analisar a tendência ao alcoolismo da população de acordo com as taxas apresentadas e assim realizar ações que sejam eficientes para cada país. Além disso, seria relevante para empresas de bebidas que dependendo dos resultados podem escolher em quais países vale mais a pena investir, pode servir como forma de marketing também, mostrando a bebida pode trazer felicidade ou melhorar o sentimento de tristeza.\n",
    "\n",
    "---\n",
    "\n",
    "## Preparando o ambiente \n",
    "* Importando biblioteca, lendo dados e separando a base de treinamento e teste  \n",
    "\n",
    "---"
   ]
  },
  {
   "cell_type": "code",
   "execution_count": 1,
   "metadata": {},
   "outputs": [],
   "source": [
    "# --------------------- IMPORTANDO BIBLIOTECA ----------------------\n",
    "%matplotlib inline\n",
    "# !pip install mglearn\n",
    "import numpy as np\n",
    "import pandas as pd\n",
    "import matplotlib\n",
    "import matplotlib.pyplot as plt\n",
    "import seaborn as sns\n",
    "import random\n",
    "from sklearn.model_selection import train_test_split\n",
    "import mglearn \n",
    "from sklearn.neighbors import KNeighborsRegressor\n",
    "RANDOM_SEED = 42\n",
    "np.random.seed(RANDOM_SEED)"
   ]
  },
  {
   "cell_type": "code",
   "execution_count": 11,
   "metadata": {},
   "outputs": [],
   "source": [
    "# --------------- Leitura dos dados ---------------\n",
    "dados = pd.read_excel(\"DadosTodasAsVariaveis.xlsx\")\n",
    "#list(dados)"
   ]
  },
  {
   "cell_type": "code",
   "execution_count": 7,
   "metadata": {},
   "outputs": [],
   "source": [
    "RANDOM_SEED = 42\n",
    "np.random.seed(RANDOM_SEED)"
   ]
  },
  {
   "cell_type": "code",
   "execution_count": 9,
   "metadata": {},
   "outputs": [],
   "source": [
    "# --------------- separando as colunas ---------------\n",
    "X =  dados[['HDI', 'GDP_PerCapita', 'Mortalidade', 'Inflação', 'Criança p/ Mulher',\"Expec de Vida\",\"Desemprego\"]]\n",
    "y = dados[\"HappinessScore\"]\n",
    "\n",
    "# --------------- criando base de teste e treinamento ---------------\n",
    "X_train, X_test, y_train, y_test = train_test_split(X, y, test_size=0.1, random_state=RANDOM_SEED)"
   ]
  },
  {
   "cell_type": "code",
   "execution_count": 13,
   "metadata": {},
   "outputs": [],
   "source": [
    "# --------------- funções para acuracia --------------- \n",
    "def Erro(y_previsto,y_base_teste):\n",
    "    lista_erro = []\n",
    "    for i,e in zip(y_previsto,y_base_teste):\n",
    "        if i < e:\n",
    "            dif = e-i\n",
    "            lista_erro.append(dif)\n",
    "        else: \n",
    "            dif = i-e\n",
    "            lista_erro.append(dif)\n",
    "    return lista_erro\n",
    "\n",
    "def Classificador(lista_erro):\n",
    "    lista_classificacao = []\n",
    "    for erros in lista_erro:\n",
    "        if erros<0.5:\n",
    "            classifica = 'Certo'\n",
    "            lista_classificacao.append(classifica)\n",
    "        else:\n",
    "            classifica = 'Errado'\n",
    "            lista_classificacao.append(classifica)\n",
    "    return lista_classificacao \n",
    "\n",
    "def Acuracia(Classificador,Erro):\n",
    "    data = {\n",
    "    'Y_predict': y_predict,\n",
    "    'Y_test': y_test,\n",
    "    'Erro': Erro, \n",
    "    'Classificação': Classificador,\n",
    "    }\n",
    "    tabela = pd.DataFrame(data, columns=['Y_predict', 'Y_test','Erro','Classificação'])\n",
    "    tabela.head(5)\n",
    "    contador=0\n",
    "    for c in Classificador: \n",
    "        if c == \"Certo\": \n",
    "            contador+=1\n",
    "    acertou=(contador/len(Classificador))*100\n",
    "    return acertou  "
   ]
  },
  {
   "cell_type": "markdown",
   "metadata": {},
   "source": [
    "---\n",
    "# Primeira regressão: Regressão Linear \n",
    "\n",
    "---"
   ]
  },
  {
   "cell_type": "code",
   "execution_count": null,
   "metadata": {},
   "outputs": [],
   "source": []
  },
  {
   "cell_type": "markdown",
   "metadata": {},
   "source": [
    "---\n",
    "# Segunda regressão: Decision Tree e Random Frorest Regression\n",
    "\n",
    "---"
   ]
  },
  {
   "cell_type": "code",
   "execution_count": null,
   "metadata": {},
   "outputs": [],
   "source": []
  },
  {
   "cell_type": "markdown",
   "metadata": {},
   "source": [
    "---\n",
    "# Terceira regressão: KNeighborsRegressor\n",
    "\n",
    "---"
   ]
  },
  {
   "cell_type": "code",
   "execution_count": null,
   "metadata": {},
   "outputs": [],
   "source": []
  }
 ],
 "metadata": {
  "kernelspec": {
   "display_name": "Python 3",
   "language": "python",
   "name": "python3"
  },
  "language_info": {
   "codemirror_mode": {
    "name": "ipython",
    "version": 3
   },
   "file_extension": ".py",
   "mimetype": "text/x-python",
   "name": "python",
   "nbconvert_exporter": "python",
   "pygments_lexer": "ipython3",
   "version": "3.7.1"
  }
 },
 "nbformat": 4,
 "nbformat_minor": 2
}
